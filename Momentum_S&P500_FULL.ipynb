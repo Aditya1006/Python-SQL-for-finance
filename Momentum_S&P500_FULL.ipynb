{
 "cells": [
  {
   "cell_type": "code",
   "execution_count": 6,
   "id": "e601a3c8",
   "metadata": {},
   "outputs": [],
   "source": [
    "import yfinance as yf\n",
    "import numpy as np\n",
    "import pandas as pd"
   ]
  },
  {
   "cell_type": "code",
   "execution_count": 7,
   "id": "941fb445",
   "metadata": {},
   "outputs": [],
   "source": [
    "start = '2015-01-01'"
   ]
  },
  {
   "cell_type": "code",
   "execution_count": 8,
   "id": "3ea86b20",
   "metadata": {},
   "outputs": [],
   "source": [
    "overall = pd.read_html('https://en.wikipedia.org/wiki/List_of_S%26P_500_companies')[0]"
   ]
  },
  {
   "cell_type": "code",
   "execution_count": 9,
   "id": "c22b7536",
   "metadata": {},
   "outputs": [
    {
     "data": {
      "text/html": [
       "<div>\n",
       "<style scoped>\n",
       "    .dataframe tbody tr th:only-of-type {\n",
       "        vertical-align: middle;\n",
       "    }\n",
       "\n",
       "    .dataframe tbody tr th {\n",
       "        vertical-align: top;\n",
       "    }\n",
       "\n",
       "    .dataframe thead th {\n",
       "        text-align: right;\n",
       "    }\n",
       "</style>\n",
       "<table border=\"1\" class=\"dataframe\">\n",
       "  <thead>\n",
       "    <tr style=\"text-align: right;\">\n",
       "      <th></th>\n",
       "      <th>Symbol</th>\n",
       "      <th>Security</th>\n",
       "      <th>GICS Sector</th>\n",
       "      <th>GICS Sub-Industry</th>\n",
       "      <th>Headquarters Location</th>\n",
       "      <th>Date added</th>\n",
       "      <th>CIK</th>\n",
       "      <th>Founded</th>\n",
       "    </tr>\n",
       "  </thead>\n",
       "  <tbody>\n",
       "    <tr>\n",
       "      <th>0</th>\n",
       "      <td>MMM</td>\n",
       "      <td>3M</td>\n",
       "      <td>Industrials</td>\n",
       "      <td>Industrial Conglomerates</td>\n",
       "      <td>Saint Paul, Minnesota</td>\n",
       "      <td>1957-03-04</td>\n",
       "      <td>66740</td>\n",
       "      <td>1902</td>\n",
       "    </tr>\n",
       "    <tr>\n",
       "      <th>1</th>\n",
       "      <td>AOS</td>\n",
       "      <td>A. O. Smith</td>\n",
       "      <td>Industrials</td>\n",
       "      <td>Building Products</td>\n",
       "      <td>Milwaukee, Wisconsin</td>\n",
       "      <td>2017-07-26</td>\n",
       "      <td>91142</td>\n",
       "      <td>1916</td>\n",
       "    </tr>\n",
       "    <tr>\n",
       "      <th>2</th>\n",
       "      <td>ABT</td>\n",
       "      <td>Abbott</td>\n",
       "      <td>Health Care</td>\n",
       "      <td>Health Care Equipment</td>\n",
       "      <td>North Chicago, Illinois</td>\n",
       "      <td>1957-03-04</td>\n",
       "      <td>1800</td>\n",
       "      <td>1888</td>\n",
       "    </tr>\n",
       "    <tr>\n",
       "      <th>3</th>\n",
       "      <td>ABBV</td>\n",
       "      <td>AbbVie</td>\n",
       "      <td>Health Care</td>\n",
       "      <td>Biotechnology</td>\n",
       "      <td>North Chicago, Illinois</td>\n",
       "      <td>2012-12-31</td>\n",
       "      <td>1551152</td>\n",
       "      <td>2013 (1888)</td>\n",
       "    </tr>\n",
       "    <tr>\n",
       "      <th>4</th>\n",
       "      <td>ACN</td>\n",
       "      <td>Accenture</td>\n",
       "      <td>Information Technology</td>\n",
       "      <td>IT Consulting &amp; Other Services</td>\n",
       "      <td>Dublin, Ireland</td>\n",
       "      <td>2011-07-06</td>\n",
       "      <td>1467373</td>\n",
       "      <td>1989</td>\n",
       "    </tr>\n",
       "    <tr>\n",
       "      <th>...</th>\n",
       "      <td>...</td>\n",
       "      <td>...</td>\n",
       "      <td>...</td>\n",
       "      <td>...</td>\n",
       "      <td>...</td>\n",
       "      <td>...</td>\n",
       "      <td>...</td>\n",
       "      <td>...</td>\n",
       "    </tr>\n",
       "    <tr>\n",
       "      <th>498</th>\n",
       "      <td>XYL</td>\n",
       "      <td>Xylem Inc.</td>\n",
       "      <td>Industrials</td>\n",
       "      <td>Industrial Machinery &amp; Supplies &amp; Components</td>\n",
       "      <td>White Plains, New York</td>\n",
       "      <td>2011-11-01</td>\n",
       "      <td>1524472</td>\n",
       "      <td>2011</td>\n",
       "    </tr>\n",
       "    <tr>\n",
       "      <th>499</th>\n",
       "      <td>YUM</td>\n",
       "      <td>Yum! Brands</td>\n",
       "      <td>Consumer Discretionary</td>\n",
       "      <td>Restaurants</td>\n",
       "      <td>Louisville, Kentucky</td>\n",
       "      <td>1997-10-06</td>\n",
       "      <td>1041061</td>\n",
       "      <td>1997</td>\n",
       "    </tr>\n",
       "    <tr>\n",
       "      <th>500</th>\n",
       "      <td>ZBRA</td>\n",
       "      <td>Zebra Technologies</td>\n",
       "      <td>Information Technology</td>\n",
       "      <td>Electronic Equipment &amp; Instruments</td>\n",
       "      <td>Lincolnshire, Illinois</td>\n",
       "      <td>2019-12-23</td>\n",
       "      <td>877212</td>\n",
       "      <td>1969</td>\n",
       "    </tr>\n",
       "    <tr>\n",
       "      <th>501</th>\n",
       "      <td>ZBH</td>\n",
       "      <td>Zimmer Biomet</td>\n",
       "      <td>Health Care</td>\n",
       "      <td>Health Care Equipment</td>\n",
       "      <td>Warsaw, Indiana</td>\n",
       "      <td>2001-08-07</td>\n",
       "      <td>1136869</td>\n",
       "      <td>1927</td>\n",
       "    </tr>\n",
       "    <tr>\n",
       "      <th>502</th>\n",
       "      <td>ZTS</td>\n",
       "      <td>Zoetis</td>\n",
       "      <td>Health Care</td>\n",
       "      <td>Pharmaceuticals</td>\n",
       "      <td>Parsippany, New Jersey</td>\n",
       "      <td>2013-06-21</td>\n",
       "      <td>1555280</td>\n",
       "      <td>1952</td>\n",
       "    </tr>\n",
       "  </tbody>\n",
       "</table>\n",
       "<p>503 rows × 8 columns</p>\n",
       "</div>"
      ],
      "text/plain": [
       "    Symbol            Security             GICS Sector  \\\n",
       "0      MMM                  3M             Industrials   \n",
       "1      AOS         A. O. Smith             Industrials   \n",
       "2      ABT              Abbott             Health Care   \n",
       "3     ABBV              AbbVie             Health Care   \n",
       "4      ACN           Accenture  Information Technology   \n",
       "..     ...                 ...                     ...   \n",
       "498    XYL          Xylem Inc.             Industrials   \n",
       "499    YUM         Yum! Brands  Consumer Discretionary   \n",
       "500   ZBRA  Zebra Technologies  Information Technology   \n",
       "501    ZBH       Zimmer Biomet             Health Care   \n",
       "502    ZTS              Zoetis             Health Care   \n",
       "\n",
       "                                GICS Sub-Industry    Headquarters Location  \\\n",
       "0                        Industrial Conglomerates    Saint Paul, Minnesota   \n",
       "1                               Building Products     Milwaukee, Wisconsin   \n",
       "2                           Health Care Equipment  North Chicago, Illinois   \n",
       "3                                   Biotechnology  North Chicago, Illinois   \n",
       "4                  IT Consulting & Other Services          Dublin, Ireland   \n",
       "..                                            ...                      ...   \n",
       "498  Industrial Machinery & Supplies & Components   White Plains, New York   \n",
       "499                                   Restaurants     Louisville, Kentucky   \n",
       "500            Electronic Equipment & Instruments   Lincolnshire, Illinois   \n",
       "501                         Health Care Equipment          Warsaw, Indiana   \n",
       "502                               Pharmaceuticals   Parsippany, New Jersey   \n",
       "\n",
       "     Date added      CIK      Founded  \n",
       "0    1957-03-04    66740         1902  \n",
       "1    2017-07-26    91142         1916  \n",
       "2    1957-03-04     1800         1888  \n",
       "3    2012-12-31  1551152  2013 (1888)  \n",
       "4    2011-07-06  1467373         1989  \n",
       "..          ...      ...          ...  \n",
       "498  2011-11-01  1524472         2011  \n",
       "499  1997-10-06  1041061         1997  \n",
       "500  2019-12-23   877212         1969  \n",
       "501  2001-08-07  1136869         1927  \n",
       "502  2013-06-21  1555280         1952  \n",
       "\n",
       "[503 rows x 8 columns]"
      ]
     },
     "execution_count": 9,
     "metadata": {},
     "output_type": "execute_result"
    }
   ],
   "source": [
    "overall"
   ]
  },
  {
   "cell_type": "code",
   "execution_count": 10,
   "id": "62422e8b",
   "metadata": {
    "scrolled": true
   },
   "outputs": [],
   "source": [
    "stocks = overall.Symbol"
   ]
  },
  {
   "cell_type": "code",
   "execution_count": 11,
   "id": "0a584cb3",
   "metadata": {},
   "outputs": [
    {
     "data": {
      "text/plain": [
       "0     MMM\n",
       "1     AOS\n",
       "2     ABT\n",
       "3    ABBV\n",
       "4     ACN\n",
       "Name: Symbol, dtype: object"
      ]
     },
     "execution_count": 11,
     "metadata": {},
     "output_type": "execute_result"
    }
   ],
   "source": [
    "stocks.head(5)"
   ]
  },
  {
   "cell_type": "code",
   "execution_count": 12,
   "id": "61e3888b",
   "metadata": {},
   "outputs": [],
   "source": [
    "stocks = stocks.to_list()"
   ]
  },
  {
   "cell_type": "code",
   "execution_count": 13,
   "id": "af70a34f",
   "metadata": {},
   "outputs": [],
   "source": [
    "overall = overall[overall['Date added'] >= 'start']\n",
    "#only those are relevant after the starting date of the analysis"
   ]
  },
  {
   "cell_type": "code",
   "execution_count": 14,
   "id": "dac3a2c5",
   "metadata": {},
   "outputs": [],
   "source": [
    "removed = pd.read_html('https://en.wikipedia.org/wiki/List_of_S%26P_500_companies')[1][['Date','Removed']]"
   ]
  },
  {
   "cell_type": "code",
   "execution_count": 15,
   "id": "2c63fc8d",
   "metadata": {},
   "outputs": [
    {
     "data": {
      "text/html": [
       "<div>\n",
       "<style scoped>\n",
       "    .dataframe tbody tr th:only-of-type {\n",
       "        vertical-align: middle;\n",
       "    }\n",
       "\n",
       "    .dataframe tbody tr th {\n",
       "        vertical-align: top;\n",
       "    }\n",
       "\n",
       "    .dataframe thead tr th {\n",
       "        text-align: left;\n",
       "    }\n",
       "</style>\n",
       "<table border=\"1\" class=\"dataframe\">\n",
       "  <thead>\n",
       "    <tr>\n",
       "      <th></th>\n",
       "      <th>Date</th>\n",
       "      <th colspan=\"2\" halign=\"left\">Removed</th>\n",
       "    </tr>\n",
       "    <tr>\n",
       "      <th></th>\n",
       "      <th>Date</th>\n",
       "      <th>Ticker</th>\n",
       "      <th>Security</th>\n",
       "    </tr>\n",
       "  </thead>\n",
       "  <tbody>\n",
       "    <tr>\n",
       "      <th>0</th>\n",
       "      <td>June 24, 2024</td>\n",
       "      <td>RHI</td>\n",
       "      <td>Robert Half</td>\n",
       "    </tr>\n",
       "    <tr>\n",
       "      <th>1</th>\n",
       "      <td>June 24, 2024</td>\n",
       "      <td>CMA</td>\n",
       "      <td>Comerica</td>\n",
       "    </tr>\n",
       "    <tr>\n",
       "      <th>2</th>\n",
       "      <td>June 24, 2024</td>\n",
       "      <td>ILMN</td>\n",
       "      <td>Illumina, Inc.</td>\n",
       "    </tr>\n",
       "    <tr>\n",
       "      <th>3</th>\n",
       "      <td>May 8, 2024</td>\n",
       "      <td>PXD</td>\n",
       "      <td>Pioneer Natural Resources</td>\n",
       "    </tr>\n",
       "    <tr>\n",
       "      <th>4</th>\n",
       "      <td>April 3, 2024</td>\n",
       "      <td>XRAY</td>\n",
       "      <td>Dentsply Sirona</td>\n",
       "    </tr>\n",
       "    <tr>\n",
       "      <th>...</th>\n",
       "      <td>...</td>\n",
       "      <td>...</td>\n",
       "      <td>...</td>\n",
       "    </tr>\n",
       "    <tr>\n",
       "      <th>343</th>\n",
       "      <td>June 9, 1999</td>\n",
       "      <td>HPH</td>\n",
       "      <td>Harnischfeger Industries</td>\n",
       "    </tr>\n",
       "    <tr>\n",
       "      <th>344</th>\n",
       "      <td>December 11, 1998</td>\n",
       "      <td>LDW</td>\n",
       "      <td>Amoco</td>\n",
       "    </tr>\n",
       "    <tr>\n",
       "      <th>345</th>\n",
       "      <td>December 11, 1998</td>\n",
       "      <td>GRN</td>\n",
       "      <td>General Re</td>\n",
       "    </tr>\n",
       "    <tr>\n",
       "      <th>346</th>\n",
       "      <td>December 11, 1998</td>\n",
       "      <td>SUN</td>\n",
       "      <td>SunAmerica</td>\n",
       "    </tr>\n",
       "    <tr>\n",
       "      <th>347</th>\n",
       "      <td>June 17, 1997</td>\n",
       "      <td>USL</td>\n",
       "      <td>USLife</td>\n",
       "    </tr>\n",
       "  </tbody>\n",
       "</table>\n",
       "<p>348 rows × 3 columns</p>\n",
       "</div>"
      ],
      "text/plain": [
       "                  Date Removed                           \n",
       "                  Date  Ticker                   Security\n",
       "0        June 24, 2024     RHI                Robert Half\n",
       "1        June 24, 2024     CMA                   Comerica\n",
       "2        June 24, 2024    ILMN             Illumina, Inc.\n",
       "3          May 8, 2024     PXD  Pioneer Natural Resources\n",
       "4        April 3, 2024    XRAY            Dentsply Sirona\n",
       "..                 ...     ...                        ...\n",
       "343       June 9, 1999     HPH   Harnischfeger Industries\n",
       "344  December 11, 1998     LDW                      Amoco\n",
       "345  December 11, 1998     GRN                 General Re\n",
       "346  December 11, 1998     SUN                 SunAmerica\n",
       "347      June 17, 1997     USL                     USLife\n",
       "\n",
       "[348 rows x 3 columns]"
      ]
     },
     "execution_count": 15,
     "metadata": {},
     "output_type": "execute_result"
    }
   ],
   "source": [
    "removed"
   ]
  },
  {
   "cell_type": "code",
   "execution_count": 16,
   "id": "9c0247ee",
   "metadata": {
    "scrolled": true
   },
   "outputs": [],
   "source": [
    "removed = removed.set_index(removed.Date.Date)"
   ]
  },
  {
   "cell_type": "code",
   "execution_count": 17,
   "id": "c14311b8",
   "metadata": {},
   "outputs": [],
   "source": [
    "removed.index = pd.to_datetime(removed.index)"
   ]
  },
  {
   "cell_type": "code",
   "execution_count": 18,
   "id": "41fcca83",
   "metadata": {},
   "outputs": [],
   "source": [
    "removed = removed[removed.index >= start]"
   ]
  },
  {
   "cell_type": "code",
   "execution_count": 19,
   "id": "38afdacd",
   "metadata": {},
   "outputs": [],
   "source": [
    "removed = removed.Removed.dropna()"
   ]
  },
  {
   "cell_type": "code",
   "execution_count": 20,
   "id": "e46f13d0",
   "metadata": {},
   "outputs": [
    {
     "data": {
      "text/html": [
       "<div>\n",
       "<style scoped>\n",
       "    .dataframe tbody tr th:only-of-type {\n",
       "        vertical-align: middle;\n",
       "    }\n",
       "\n",
       "    .dataframe tbody tr th {\n",
       "        vertical-align: top;\n",
       "    }\n",
       "\n",
       "    .dataframe thead th {\n",
       "        text-align: right;\n",
       "    }\n",
       "</style>\n",
       "<table border=\"1\" class=\"dataframe\">\n",
       "  <thead>\n",
       "    <tr style=\"text-align: right;\">\n",
       "      <th></th>\n",
       "      <th>Ticker</th>\n",
       "      <th>Security</th>\n",
       "    </tr>\n",
       "    <tr>\n",
       "      <th>Date</th>\n",
       "      <th></th>\n",
       "      <th></th>\n",
       "    </tr>\n",
       "  </thead>\n",
       "  <tbody>\n",
       "    <tr>\n",
       "      <th>2024-06-24</th>\n",
       "      <td>RHI</td>\n",
       "      <td>Robert Half</td>\n",
       "    </tr>\n",
       "    <tr>\n",
       "      <th>2024-06-24</th>\n",
       "      <td>CMA</td>\n",
       "      <td>Comerica</td>\n",
       "    </tr>\n",
       "    <tr>\n",
       "      <th>2024-06-24</th>\n",
       "      <td>ILMN</td>\n",
       "      <td>Illumina, Inc.</td>\n",
       "    </tr>\n",
       "    <tr>\n",
       "      <th>2024-05-08</th>\n",
       "      <td>PXD</td>\n",
       "      <td>Pioneer Natural Resources</td>\n",
       "    </tr>\n",
       "    <tr>\n",
       "      <th>2024-04-03</th>\n",
       "      <td>XRAY</td>\n",
       "      <td>Dentsply Sirona</td>\n",
       "    </tr>\n",
       "    <tr>\n",
       "      <th>...</th>\n",
       "      <td>...</td>\n",
       "      <td>...</td>\n",
       "    </tr>\n",
       "    <tr>\n",
       "      <th>2015-03-23</th>\n",
       "      <td>AVP</td>\n",
       "      <td>Avon Products</td>\n",
       "    </tr>\n",
       "    <tr>\n",
       "      <th>2015-03-18</th>\n",
       "      <td>CFN</td>\n",
       "      <td>Carefusion</td>\n",
       "    </tr>\n",
       "    <tr>\n",
       "      <th>2015-03-12</th>\n",
       "      <td>PETM</td>\n",
       "      <td>PetSmart</td>\n",
       "    </tr>\n",
       "    <tr>\n",
       "      <th>2015-01-27</th>\n",
       "      <td>SWY</td>\n",
       "      <td>Safeway</td>\n",
       "    </tr>\n",
       "    <tr>\n",
       "      <th>2015-01-27</th>\n",
       "      <td>COV</td>\n",
       "      <td>Covidien</td>\n",
       "    </tr>\n",
       "  </tbody>\n",
       "</table>\n",
       "<p>203 rows × 2 columns</p>\n",
       "</div>"
      ],
      "text/plain": [
       "           Ticker                   Security\n",
       "Date                                        \n",
       "2024-06-24    RHI                Robert Half\n",
       "2024-06-24    CMA                   Comerica\n",
       "2024-06-24   ILMN             Illumina, Inc.\n",
       "2024-05-08    PXD  Pioneer Natural Resources\n",
       "2024-04-03   XRAY            Dentsply Sirona\n",
       "...           ...                        ...\n",
       "2015-03-23    AVP              Avon Products\n",
       "2015-03-18    CFN                 Carefusion\n",
       "2015-03-12   PETM                   PetSmart\n",
       "2015-01-27    SWY                    Safeway\n",
       "2015-01-27    COV                   Covidien\n",
       "\n",
       "[203 rows x 2 columns]"
      ]
     },
     "execution_count": 20,
     "metadata": {},
     "output_type": "execute_result"
    }
   ],
   "source": [
    "removed"
   ]
  },
  {
   "cell_type": "code",
   "execution_count": 21,
   "id": "1fc70153",
   "metadata": {
    "scrolled": true
   },
   "outputs": [],
   "source": [
    "stocks.extend(removed.Ticker.to_list())\n",
    "# include already removed symbols in our analysis"
   ]
  },
  {
   "cell_type": "code",
   "execution_count": 22,
   "id": "8c70b15f",
   "metadata": {
    "scrolled": true
   },
   "outputs": [
    {
     "name": "stderr",
     "output_type": "stream",
     "text": [
      "[                       1%%                      ]  10 of 700 completed"
     ]
    },
    {
     "name": "stdout",
     "output_type": "stream",
     "text": [
      "$SPLS: possibly delisted; No price data found  (1d 2015-01-01 -> 2024-08-16)\n",
      "$LLTC: possibly delisted; No price data found  (1d 2015-01-01 -> 2024-08-16)\n",
      "$SIAL: possibly delisted; No price data found  (1d 2015-01-01 -> 2024-08-16)\n"
     ]
    },
    {
     "name": "stderr",
     "output_type": "stream",
     "text": [
      "[**                     5%%                      ]  36 of 700 completed"
     ]
    },
    {
     "name": "stdout",
     "output_type": "stream",
     "text": [
      "$MJN: possibly delisted; No price data found  (1d 2015-01-01 -> 2024-08-16)\n",
      "$RAI: possibly delisted; No price data found  (1d 2015-01-01 -> 2024-08-16)\n"
     ]
    },
    {
     "name": "stderr",
     "output_type": "stream",
     "text": [
      "[******                13%%                      ]  88 of 700 completed"
     ]
    },
    {
     "name": "stdout",
     "output_type": "stream",
     "text": [
      "$DPS: possibly delisted; No price data found  (1d 2015-01-01 -> 2024-08-16)\n"
     ]
    },
    {
     "name": "stderr",
     "output_type": "stream",
     "text": [
      "[*******               14%%                      ]  101 of 700 completed"
     ]
    },
    {
     "name": "stdout",
     "output_type": "stream",
     "text": [
      "$CMCSK: possibly delisted; No price data found  (1d 2015-01-01 -> 2024-08-16)\n"
     ]
    },
    {
     "name": "stderr",
     "output_type": "stream",
     "text": [
      "[********              16%%                      ]  111 of 700 completed"
     ]
    },
    {
     "name": "stdout",
     "output_type": "stream",
     "text": [
      "$CPGX: possibly delisted; No price data found  (1d 2015-01-01 -> 2024-08-16)\n",
      "$BXLT: possibly delisted; No price data found  (1d 2015-01-01 -> 2024-08-16)\n"
     ]
    },
    {
     "name": "stderr",
     "output_type": "stream",
     "text": [
      "[************          25%%                      ]  173 of 700 completed"
     ]
    },
    {
     "name": "stdout",
     "output_type": "stream",
     "text": [
      "$SNDK: possibly delisted; No price data found  (1d 2015-01-01 -> 2024-08-16)\n"
     ]
    },
    {
     "name": "stderr",
     "output_type": "stream",
     "text": [
      "[*************         28%%                      ]  197 of 700 completed"
     ]
    },
    {
     "name": "stdout",
     "output_type": "stream",
     "text": [
      "$BRCM: possibly delisted; No price data found  (1d 2015-01-01 -> 2024-08-16)\n",
      "$STJ: possibly delisted; No price data found  (1d 2015-01-01 -> 2024-08-16)\n",
      "$TWC: possibly delisted; No price data found  (1d 2015-01-01 -> 2024-08-16)\n"
     ]
    },
    {
     "name": "stderr",
     "output_type": "stream",
     "text": [
      "[****************      33%%                      ]  228 of 700 completed"
     ]
    },
    {
     "name": "stdout",
     "output_type": "stream",
     "text": [
      "$WFM: possibly delisted; No price data found  (1d 2015-01-01 -> 2024-08-16)\n"
     ]
    },
    {
     "name": "stderr",
     "output_type": "stream",
     "text": [
      "[*****************     36%%                      ]  251 of 700 completed"
     ]
    },
    {
     "name": "stdout",
     "output_type": "stream",
     "text": [
      "$BCR: possibly delisted; No price data found  (1d 2015-01-01 -> 2024-08-16)\n"
     ]
    },
    {
     "name": "stderr",
     "output_type": "stream",
     "text": [
      "[******************    38%%                      ]  266 of 700 completed"
     ]
    },
    {
     "name": "stdout",
     "output_type": "stream",
     "text": [
      "$GMCR: possibly delisted; No price data found  (1d 2015-01-01 -> 2024-08-16)\n"
     ]
    },
    {
     "name": "stderr",
     "output_type": "stream",
     "text": [
      "[**********************49%%                      ]  340 of 700 completed"
     ]
    },
    {
     "name": "stdout",
     "output_type": "stream",
     "text": [
      "$WYN: possibly delisted; No price data found  (1d 2015-01-01 -> 2024-08-16)\n"
     ]
    },
    {
     "name": "stderr",
     "output_type": "stream",
     "text": [
      "[**********************52%%                      ]  366 of 700 completed"
     ]
    },
    {
     "name": "stdout",
     "output_type": "stream",
     "text": [
      "$GGP: possibly delisted; No price data found  (1d 2015-01-01 -> 2024-08-16)\n"
     ]
    },
    {
     "name": "stderr",
     "output_type": "stream",
     "text": [
      "[**********************54%%                      ]  378 of 700 completed"
     ]
    },
    {
     "name": "stdout",
     "output_type": "stream",
     "text": [
      "$ARG: possibly delisted; No price data found  (1d 2015-01-01 -> 2024-08-16)\n"
     ]
    },
    {
     "name": "stderr",
     "output_type": "stream",
     "text": [
      "[**********************62%%****                  ]  433 of 700 completed"
     ]
    },
    {
     "name": "stdout",
     "output_type": "stream",
     "text": [
      "$TYC: possibly delisted; No price data found  (1d 2015-01-01 -> 2024-08-16)\n",
      "$CVC: possibly delisted; No price data found  (1d 2015-01-01 -> 2024-08-16)\n"
     ]
    },
    {
     "name": "stderr",
     "output_type": "stream",
     "text": [
      "[**********************64%%*****                 ]  448 of 700 completed"
     ]
    },
    {
     "name": "stdout",
     "output_type": "stream",
     "text": [
      "$SWY: possibly delisted; No price data found  (1d 2015-01-01 -> 2024-08-16)\n"
     ]
    },
    {
     "name": "stderr",
     "output_type": "stream",
     "text": [
      "[**********************65%%*****                 ]  458 of 700 completed"
     ]
    },
    {
     "name": "stdout",
     "output_type": "stream",
     "text": [
      "$HCBK: possibly delisted; No price data found  (1d 2015-01-01 -> 2024-08-16)\n",
      "$FDO: possibly delisted; No price data found  (1d 2015-01-01 -> 2024-08-16)\n"
     ]
    },
    {
     "name": "stderr",
     "output_type": "stream",
     "text": [
      "[**********************75%%**********            ]  525 of 700 completed"
     ]
    },
    {
     "name": "stdout",
     "output_type": "stream",
     "text": [
      "$JOY: possibly delisted; No price data found  (1d 2015-01-01 -> 2024-08-16)\n"
     ]
    },
    {
     "name": "stderr",
     "output_type": "stream",
     "text": [
      "[**********************76%%**********            ]  534 of 700 completed"
     ]
    },
    {
     "name": "stdout",
     "output_type": "stream",
     "text": [
      "$LO: possibly delisted; No price data found  (1d 2015-01-01 -> 2024-08-16)\n"
     ]
    },
    {
     "name": "stderr",
     "output_type": "stream",
     "text": [
      "[**********************80%%************          ]  562 of 700 completed"
     ]
    },
    {
     "name": "stdout",
     "output_type": "stream",
     "text": [
      "$BF.B: possibly delisted; No price data found  (1d 2015-01-01 -> 2024-08-16)\n",
      "$CAM: possibly delisted; No price data found  (1d 2015-01-01 -> 2024-08-16)\n"
     ]
    },
    {
     "name": "stderr",
     "output_type": "stream",
     "text": [
      "[**********************83%%**************        ]  581 of 700 completed"
     ]
    },
    {
     "name": "stdout",
     "output_type": "stream",
     "text": [
      "$TE: possibly delisted; No price data found  (1d 2015-01-01 -> 2024-08-16)\n"
     ]
    },
    {
     "name": "stderr",
     "output_type": "stream",
     "text": [
      "[**********************86%%***************       ]  603 of 700 completed"
     ]
    },
    {
     "name": "stdout",
     "output_type": "stream",
     "text": [
      "$HSP: possibly delisted; No price data found  (1d 2015-01-01 -> 2024-08-16)\n",
      "$CFN: possibly delisted; No price data found  (1d 2015-01-01 -> 2024-08-16)\n"
     ]
    },
    {
     "name": "stderr",
     "output_type": "stream",
     "text": [
      "[**********************89%%*****************     ]  621 of 700 completed"
     ]
    },
    {
     "name": "stdout",
     "output_type": "stream",
     "text": [
      "$KRFT: possibly delisted; No price data found  (1d 2015-01-01 -> 2024-08-16)\n"
     ]
    },
    {
     "name": "stderr",
     "output_type": "stream",
     "text": [
      "[**********************97%%********************* ]  677 of 700 completed"
     ]
    },
    {
     "name": "stdout",
     "output_type": "stream",
     "text": [
      "$LVLT: possibly delisted; No price data found  (1d 2015-01-01 -> 2024-08-16)\n"
     ]
    },
    {
     "name": "stderr",
     "output_type": "stream",
     "text": [
      "[*********************100%%**********************]  700 of 700 completed\n",
      "\n",
      "86 Failed downloads:\n",
      "['SPLS', 'LLTC', 'SIAL', 'MJN', 'RAI', 'DPS', 'CMCSK', 'CPGX', 'BXLT', 'SNDK', 'BRCM', 'STJ', 'TWC', 'WFM', 'BCR', 'GMCR', 'WYN', 'GGP', 'ARG', 'TYC', 'CVC', 'SWY', 'HCBK', 'FDO', 'JOY', 'LO', 'BF.B', 'CAM', 'TE', 'HSP', 'CFN', 'KRFT', 'LVLT']: YFPricesMissingError('$%ticker%: possibly delisted; No price data found  (1d 2015-01-01 -> 2024-08-16)')\n",
      "['CXO', 'BRK.B', 'CELG', 'LLL', 'XLNX', 'XL', 'DRE', 'FTR', 'NLSN', 'AVP', 'WCG', 'CERN', 'KSU', 'BBBY', 'DWDP', 'MON', 'RTN', 'TWTR', 'DISH', 'YHOO', 'QEP', 'WIN', 'TSS', 'LM', 'HFC', 'ADS', 'TIF', 'APC', 'FLIR', 'ABMD', 'DNR', 'CTXS', 'NBL', 'VIAB', 'ESV', 'FRC', 'PXD', 'XEC', 'ATVI', 'DTV', 'AGN', 'ARNC', 'PBCT', 'VAR', 'MXIM', 'ETFC', 'RHT', 'MNK', 'FBHS', 'INFO', 'ALXN']: YFTzMissingError('$%ticker%: possibly delisted; No timezone found')\n",
      "['ENDP', 'SIVB']: YFInvalidPeriodError(\"%ticker%: Period 'max' is invalid, must be one of ['1d', '5d']\")\n"
     ]
    }
   ],
   "source": [
    "df = yf.download(stocks,start=start)['Close']"
   ]
  },
  {
   "cell_type": "code",
   "execution_count": 23,
   "id": "fe8a6c26",
   "metadata": {},
   "outputs": [],
   "source": [
    "df.index = pd.to_datetime(df.index)"
   ]
  },
  {
   "cell_type": "code",
   "execution_count": 24,
   "id": "48e36356",
   "metadata": {},
   "outputs": [
    {
     "data": {
      "text/plain": [
       "Timestamp('2023-03-15 00:00:00')"
      ]
     },
     "execution_count": 24,
     "metadata": {},
     "output_type": "execute_result"
    }
   ],
   "source": [
    "removed[removed.Ticker == 'SBNY'].index[0]"
   ]
  },
  {
   "cell_type": "code",
   "execution_count": 25,
   "id": "e75c7a21",
   "metadata": {
    "scrolled": true
   },
   "outputs": [
    {
     "data": {
      "text/plain": [
       "Date\n",
       "2015-01-02     NaN\n",
       "2015-01-05     NaN\n",
       "2015-01-06     NaN\n",
       "2015-01-07     NaN\n",
       "2015-01-08     NaN\n",
       "              ... \n",
       "2024-08-09     NaN\n",
       "2024-08-12     NaN\n",
       "2024-08-13     NaN\n",
       "2024-08-14     NaN\n",
       "2024-08-15    2.15\n",
       "Name: SBNY, Length: 2421, dtype: float64"
      ]
     },
     "execution_count": 25,
     "metadata": {},
     "output_type": "execute_result"
    }
   ],
   "source": [
    "df['SBNY'] #currently we still have prices until the last day"
   ]
  },
  {
   "cell_type": "code",
   "execution_count": 26,
   "id": "1ccfc1b4",
   "metadata": {},
   "outputs": [
    {
     "data": {
      "text/plain": [
       "array([ True,  True,  True, ..., False, False, False])"
      ]
     },
     "execution_count": 26,
     "metadata": {},
     "output_type": "execute_result"
    }
   ],
   "source": [
    "df['SBNY'].index <= removed[removed.Ticker == 'SBNY'].index[0]\n",
    "#filter for dates before the removal date"
   ]
  },
  {
   "cell_type": "code",
   "execution_count": 27,
   "id": "583593ba",
   "metadata": {},
   "outputs": [],
   "source": [
    "df['SBNY'] = df['SBNY'][df['SBNY'].index <= removed[removed.Ticker == 'SBNY'].index[0]]"
   ]
  },
  {
   "cell_type": "code",
   "execution_count": 28,
   "id": "0a0ab921",
   "metadata": {
    "scrolled": true
   },
   "outputs": [
    {
     "data": {
      "text/plain": [
       "Date\n",
       "2015-01-02   NaN\n",
       "2015-01-05   NaN\n",
       "2015-01-06   NaN\n",
       "2015-01-07   NaN\n",
       "2015-01-08   NaN\n",
       "              ..\n",
       "2024-08-09   NaN\n",
       "2024-08-12   NaN\n",
       "2024-08-13   NaN\n",
       "2024-08-14   NaN\n",
       "2024-08-15   NaN\n",
       "Name: SBNY, Length: 2421, dtype: float64"
      ]
     },
     "execution_count": 28,
     "metadata": {},
     "output_type": "execute_result"
    }
   ],
   "source": [
    "df['SBNY'] # now no prices after that date"
   ]
  },
  {
   "cell_type": "code",
   "execution_count": 29,
   "id": "ed6c5c0a",
   "metadata": {},
   "outputs": [],
   "source": [
    "def pricefilter_rem(ticker):\n",
    "    df[ticker] = df[ticker][df[ticker].index <= removed[removed.Ticker == ticker].index[0]]"
   ]
  },
  {
   "cell_type": "code",
   "execution_count": 30,
   "id": "8ef9a2cd",
   "metadata": {},
   "outputs": [],
   "source": [
    "def pricefilter_add(ticker):\n",
    "    df[ticker] = df[ticker][df[ticker].index >= \n",
    "                            overall[overall.Symbol == ticker]['Date added'].values[0]]"
   ]
  },
  {
   "cell_type": "code",
   "execution_count": 31,
   "id": "b5e92a73",
   "metadata": {},
   "outputs": [],
   "source": [
    "for ticker_rem in removed.Ticker:\n",
    "    pricefilter_rem(ticker_rem)\n",
    "for ticker_add in overall.Symbol:\n",
    "    pricefilter_add(ticker_add)"
   ]
  },
  {
   "cell_type": "code",
   "execution_count": 32,
   "id": "4f5ffa75",
   "metadata": {},
   "outputs": [],
   "source": [
    "# until here we went last time\n",
    "# we filtered our price dataframe (df) for removed and added stocks"
   ]
  },
  {
   "cell_type": "code",
   "execution_count": 33,
   "id": "547a264d",
   "metadata": {},
   "outputs": [
    {
     "name": "stderr",
     "output_type": "stream",
     "text": [
      "/var/folders/0p/flqf36bd13l_7qbnftvl4gxw0000gn/T/ipykernel_22046/902390033.py:1: FutureWarning: The default fill_method='pad' in DataFrame.pct_change is deprecated and will be removed in a future version. Either fill in any non-leading NA values prior to calling pct_change or specify 'fill_method=None' to not fill NA values.\n",
      "  ret_df = df.pct_change()\n"
     ]
    }
   ],
   "source": [
    "ret_df = df.pct_change()"
   ]
  },
  {
   "cell_type": "code",
   "execution_count": 34,
   "id": "6e3a503c",
   "metadata": {
    "scrolled": true
   },
   "outputs": [
    {
     "data": {
      "text/html": [
       "<div>\n",
       "<style scoped>\n",
       "    .dataframe tbody tr th:only-of-type {\n",
       "        vertical-align: middle;\n",
       "    }\n",
       "\n",
       "    .dataframe tbody tr th {\n",
       "        vertical-align: top;\n",
       "    }\n",
       "\n",
       "    .dataframe thead th {\n",
       "        text-align: right;\n",
       "    }\n",
       "</style>\n",
       "<table border=\"1\" class=\"dataframe\">\n",
       "  <thead>\n",
       "    <tr style=\"text-align: right;\">\n",
       "      <th>Ticker</th>\n",
       "      <th>A</th>\n",
       "      <th>AA</th>\n",
       "      <th>AAL</th>\n",
       "      <th>AAP</th>\n",
       "      <th>AAPL</th>\n",
       "      <th>ABBV</th>\n",
       "      <th>ABMD</th>\n",
       "      <th>ABNB</th>\n",
       "      <th>ABT</th>\n",
       "      <th>ACE</th>\n",
       "      <th>...</th>\n",
       "      <th>XOM</th>\n",
       "      <th>XRAY</th>\n",
       "      <th>XRX</th>\n",
       "      <th>XYL</th>\n",
       "      <th>YHOO</th>\n",
       "      <th>YUM</th>\n",
       "      <th>ZBH</th>\n",
       "      <th>ZBRA</th>\n",
       "      <th>ZION</th>\n",
       "      <th>ZTS</th>\n",
       "    </tr>\n",
       "    <tr>\n",
       "      <th>Date</th>\n",
       "      <th></th>\n",
       "      <th></th>\n",
       "      <th></th>\n",
       "      <th></th>\n",
       "      <th></th>\n",
       "      <th></th>\n",
       "      <th></th>\n",
       "      <th></th>\n",
       "      <th></th>\n",
       "      <th></th>\n",
       "      <th></th>\n",
       "      <th></th>\n",
       "      <th></th>\n",
       "      <th></th>\n",
       "      <th></th>\n",
       "      <th></th>\n",
       "      <th></th>\n",
       "      <th></th>\n",
       "      <th></th>\n",
       "      <th></th>\n",
       "      <th></th>\n",
       "    </tr>\n",
       "  </thead>\n",
       "  <tbody>\n",
       "    <tr>\n",
       "      <th>2015-01-02</th>\n",
       "      <td>NaN</td>\n",
       "      <td>NaN</td>\n",
       "      <td>NaN</td>\n",
       "      <td>NaN</td>\n",
       "      <td>NaN</td>\n",
       "      <td>NaN</td>\n",
       "      <td>NaN</td>\n",
       "      <td>NaN</td>\n",
       "      <td>NaN</td>\n",
       "      <td>NaN</td>\n",
       "      <td>...</td>\n",
       "      <td>NaN</td>\n",
       "      <td>NaN</td>\n",
       "      <td>NaN</td>\n",
       "      <td>NaN</td>\n",
       "      <td>NaN</td>\n",
       "      <td>NaN</td>\n",
       "      <td>NaN</td>\n",
       "      <td>NaN</td>\n",
       "      <td>NaN</td>\n",
       "      <td>NaN</td>\n",
       "    </tr>\n",
       "    <tr>\n",
       "      <th>2015-01-05</th>\n",
       "      <td>-0.018738</td>\n",
       "      <td>-0.057935</td>\n",
       "      <td>-0.000556</td>\n",
       "      <td>-0.013181</td>\n",
       "      <td>-0.028172</td>\n",
       "      <td>-0.018819</td>\n",
       "      <td>NaN</td>\n",
       "      <td>NaN</td>\n",
       "      <td>0.000223</td>\n",
       "      <td>NaN</td>\n",
       "      <td>...</td>\n",
       "      <td>-0.027362</td>\n",
       "      <td>-0.006932</td>\n",
       "      <td>-0.021818</td>\n",
       "      <td>-0.062237</td>\n",
       "      <td>NaN</td>\n",
       "      <td>-0.020318</td>\n",
       "      <td>0.037304</td>\n",
       "      <td>-0.014077</td>\n",
       "      <td>-0.037469</td>\n",
       "      <td>-0.006003</td>\n",
       "    </tr>\n",
       "    <tr>\n",
       "      <th>2015-01-06</th>\n",
       "      <td>-0.015578</td>\n",
       "      <td>0.007353</td>\n",
       "      <td>-0.015590</td>\n",
       "      <td>-0.000703</td>\n",
       "      <td>0.000094</td>\n",
       "      <td>-0.004950</td>\n",
       "      <td>NaN</td>\n",
       "      <td>NaN</td>\n",
       "      <td>-0.011356</td>\n",
       "      <td>NaN</td>\n",
       "      <td>...</td>\n",
       "      <td>-0.005316</td>\n",
       "      <td>-0.012410</td>\n",
       "      <td>-0.013383</td>\n",
       "      <td>-0.005881</td>\n",
       "      <td>NaN</td>\n",
       "      <td>-0.012274</td>\n",
       "      <td>-0.008477</td>\n",
       "      <td>-0.007205</td>\n",
       "      <td>-0.038193</td>\n",
       "      <td>-0.009756</td>\n",
       "    </tr>\n",
       "    <tr>\n",
       "      <th>2015-01-07</th>\n",
       "      <td>0.013272</td>\n",
       "      <td>0.025879</td>\n",
       "      <td>-0.000566</td>\n",
       "      <td>0.021489</td>\n",
       "      <td>0.014022</td>\n",
       "      <td>0.040417</td>\n",
       "      <td>NaN</td>\n",
       "      <td>NaN</td>\n",
       "      <td>0.008108</td>\n",
       "      <td>NaN</td>\n",
       "      <td>...</td>\n",
       "      <td>0.010133</td>\n",
       "      <td>0.025918</td>\n",
       "      <td>0.012811</td>\n",
       "      <td>0.007887</td>\n",
       "      <td>NaN</td>\n",
       "      <td>0.033138</td>\n",
       "      <td>0.024870</td>\n",
       "      <td>0.025465</td>\n",
       "      <td>0.009546</td>\n",
       "      <td>0.020643</td>\n",
       "    </tr>\n",
       "    <tr>\n",
       "      <th>2015-01-08</th>\n",
       "      <td>0.029975</td>\n",
       "      <td>0.028461</td>\n",
       "      <td>0.012262</td>\n",
       "      <td>0.008765</td>\n",
       "      <td>0.038422</td>\n",
       "      <td>0.010459</td>\n",
       "      <td>NaN</td>\n",
       "      <td>NaN</td>\n",
       "      <td>0.020554</td>\n",
       "      <td>NaN</td>\n",
       "      <td>...</td>\n",
       "      <td>0.016645</td>\n",
       "      <td>0.024689</td>\n",
       "      <td>0.027530</td>\n",
       "      <td>0.007546</td>\n",
       "      <td>NaN</td>\n",
       "      <td>0.017420</td>\n",
       "      <td>0.010617</td>\n",
       "      <td>0.021359</td>\n",
       "      <td>0.013994</td>\n",
       "      <td>0.015399</td>\n",
       "    </tr>\n",
       "    <tr>\n",
       "      <th>...</th>\n",
       "      <td>...</td>\n",
       "      <td>...</td>\n",
       "      <td>...</td>\n",
       "      <td>...</td>\n",
       "      <td>...</td>\n",
       "      <td>...</td>\n",
       "      <td>...</td>\n",
       "      <td>...</td>\n",
       "      <td>...</td>\n",
       "      <td>...</td>\n",
       "      <td>...</td>\n",
       "      <td>...</td>\n",
       "      <td>...</td>\n",
       "      <td>...</td>\n",
       "      <td>...</td>\n",
       "      <td>...</td>\n",
       "      <td>...</td>\n",
       "      <td>...</td>\n",
       "      <td>...</td>\n",
       "      <td>...</td>\n",
       "      <td>...</td>\n",
       "    </tr>\n",
       "    <tr>\n",
       "      <th>2024-08-09</th>\n",
       "      <td>0.001024</td>\n",
       "      <td>0.000000</td>\n",
       "      <td>-0.003033</td>\n",
       "      <td>0.000000</td>\n",
       "      <td>0.013736</td>\n",
       "      <td>-0.002468</td>\n",
       "      <td>NaN</td>\n",
       "      <td>0.003838</td>\n",
       "      <td>-0.009566</td>\n",
       "      <td>NaN</td>\n",
       "      <td>...</td>\n",
       "      <td>0.008143</td>\n",
       "      <td>0.000000</td>\n",
       "      <td>0.000000</td>\n",
       "      <td>0.002026</td>\n",
       "      <td>NaN</td>\n",
       "      <td>-0.002261</td>\n",
       "      <td>-0.005704</td>\n",
       "      <td>-0.005471</td>\n",
       "      <td>0.000000</td>\n",
       "      <td>-0.016198</td>\n",
       "    </tr>\n",
       "    <tr>\n",
       "      <th>2024-08-12</th>\n",
       "      <td>-0.009496</td>\n",
       "      <td>0.000000</td>\n",
       "      <td>-0.025355</td>\n",
       "      <td>0.000000</td>\n",
       "      <td>0.005966</td>\n",
       "      <td>0.001316</td>\n",
       "      <td>NaN</td>\n",
       "      <td>-0.012687</td>\n",
       "      <td>-0.008371</td>\n",
       "      <td>NaN</td>\n",
       "      <td>...</td>\n",
       "      <td>0.001262</td>\n",
       "      <td>0.000000</td>\n",
       "      <td>0.000000</td>\n",
       "      <td>-0.008477</td>\n",
       "      <td>NaN</td>\n",
       "      <td>-0.008480</td>\n",
       "      <td>-0.009993</td>\n",
       "      <td>0.001219</td>\n",
       "      <td>0.000000</td>\n",
       "      <td>-0.007773</td>\n",
       "    </tr>\n",
       "    <tr>\n",
       "      <th>2024-08-13</th>\n",
       "      <td>0.013422</td>\n",
       "      <td>0.000000</td>\n",
       "      <td>0.020812</td>\n",
       "      <td>0.000000</td>\n",
       "      <td>0.017193</td>\n",
       "      <td>0.005521</td>\n",
       "      <td>NaN</td>\n",
       "      <td>0.028868</td>\n",
       "      <td>0.004082</td>\n",
       "      <td>NaN</td>\n",
       "      <td>...</td>\n",
       "      <td>-0.009580</td>\n",
       "      <td>0.000000</td>\n",
       "      <td>0.000000</td>\n",
       "      <td>0.033020</td>\n",
       "      <td>NaN</td>\n",
       "      <td>0.014451</td>\n",
       "      <td>0.021589</td>\n",
       "      <td>0.036773</td>\n",
       "      <td>0.000000</td>\n",
       "      <td>0.024863</td>\n",
       "    </tr>\n",
       "    <tr>\n",
       "      <th>2024-08-14</th>\n",
       "      <td>-0.010115</td>\n",
       "      <td>0.000000</td>\n",
       "      <td>-0.007136</td>\n",
       "      <td>0.000000</td>\n",
       "      <td>0.002034</td>\n",
       "      <td>0.009256</td>\n",
       "      <td>NaN</td>\n",
       "      <td>-0.005646</td>\n",
       "      <td>0.015244</td>\n",
       "      <td>NaN</td>\n",
       "      <td>...</td>\n",
       "      <td>0.009248</td>\n",
       "      <td>0.000000</td>\n",
       "      <td>0.000000</td>\n",
       "      <td>-0.001670</td>\n",
       "      <td>NaN</td>\n",
       "      <td>-0.002398</td>\n",
       "      <td>-0.006221</td>\n",
       "      <td>0.003372</td>\n",
       "      <td>0.000000</td>\n",
       "      <td>-0.026542</td>\n",
       "    </tr>\n",
       "    <tr>\n",
       "      <th>2024-08-15</th>\n",
       "      <td>0.028376</td>\n",
       "      <td>0.000000</td>\n",
       "      <td>0.035934</td>\n",
       "      <td>0.000000</td>\n",
       "      <td>0.013531</td>\n",
       "      <td>0.002073</td>\n",
       "      <td>NaN</td>\n",
       "      <td>0.022712</td>\n",
       "      <td>0.009555</td>\n",
       "      <td>NaN</td>\n",
       "      <td>...</td>\n",
       "      <td>-0.001849</td>\n",
       "      <td>0.000000</td>\n",
       "      <td>0.000000</td>\n",
       "      <td>0.012929</td>\n",
       "      <td>NaN</td>\n",
       "      <td>0.004007</td>\n",
       "      <td>0.011691</td>\n",
       "      <td>0.029918</td>\n",
       "      <td>0.000000</td>\n",
       "      <td>0.003817</td>\n",
       "    </tr>\n",
       "  </tbody>\n",
       "</table>\n",
       "<p>2421 rows × 700 columns</p>\n",
       "</div>"
      ],
      "text/plain": [
       "Ticker             A        AA       AAL       AAP      AAPL      ABBV  ABMD  \\\n",
       "Date                                                                           \n",
       "2015-01-02       NaN       NaN       NaN       NaN       NaN       NaN   NaN   \n",
       "2015-01-05 -0.018738 -0.057935 -0.000556 -0.013181 -0.028172 -0.018819   NaN   \n",
       "2015-01-06 -0.015578  0.007353 -0.015590 -0.000703  0.000094 -0.004950   NaN   \n",
       "2015-01-07  0.013272  0.025879 -0.000566  0.021489  0.014022  0.040417   NaN   \n",
       "2015-01-08  0.029975  0.028461  0.012262  0.008765  0.038422  0.010459   NaN   \n",
       "...              ...       ...       ...       ...       ...       ...   ...   \n",
       "2024-08-09  0.001024  0.000000 -0.003033  0.000000  0.013736 -0.002468   NaN   \n",
       "2024-08-12 -0.009496  0.000000 -0.025355  0.000000  0.005966  0.001316   NaN   \n",
       "2024-08-13  0.013422  0.000000  0.020812  0.000000  0.017193  0.005521   NaN   \n",
       "2024-08-14 -0.010115  0.000000 -0.007136  0.000000  0.002034  0.009256   NaN   \n",
       "2024-08-15  0.028376  0.000000  0.035934  0.000000  0.013531  0.002073   NaN   \n",
       "\n",
       "Ticker          ABNB       ABT  ACE  ...       XOM      XRAY       XRX  \\\n",
       "Date                                 ...                                 \n",
       "2015-01-02       NaN       NaN  NaN  ...       NaN       NaN       NaN   \n",
       "2015-01-05       NaN  0.000223  NaN  ... -0.027362 -0.006932 -0.021818   \n",
       "2015-01-06       NaN -0.011356  NaN  ... -0.005316 -0.012410 -0.013383   \n",
       "2015-01-07       NaN  0.008108  NaN  ...  0.010133  0.025918  0.012811   \n",
       "2015-01-08       NaN  0.020554  NaN  ...  0.016645  0.024689  0.027530   \n",
       "...              ...       ...  ...  ...       ...       ...       ...   \n",
       "2024-08-09  0.003838 -0.009566  NaN  ...  0.008143  0.000000  0.000000   \n",
       "2024-08-12 -0.012687 -0.008371  NaN  ...  0.001262  0.000000  0.000000   \n",
       "2024-08-13  0.028868  0.004082  NaN  ... -0.009580  0.000000  0.000000   \n",
       "2024-08-14 -0.005646  0.015244  NaN  ...  0.009248  0.000000  0.000000   \n",
       "2024-08-15  0.022712  0.009555  NaN  ... -0.001849  0.000000  0.000000   \n",
       "\n",
       "Ticker           XYL  YHOO       YUM       ZBH      ZBRA      ZION       ZTS  \n",
       "Date                                                                          \n",
       "2015-01-02       NaN   NaN       NaN       NaN       NaN       NaN       NaN  \n",
       "2015-01-05 -0.062237   NaN -0.020318  0.037304 -0.014077 -0.037469 -0.006003  \n",
       "2015-01-06 -0.005881   NaN -0.012274 -0.008477 -0.007205 -0.038193 -0.009756  \n",
       "2015-01-07  0.007887   NaN  0.033138  0.024870  0.025465  0.009546  0.020643  \n",
       "2015-01-08  0.007546   NaN  0.017420  0.010617  0.021359  0.013994  0.015399  \n",
       "...              ...   ...       ...       ...       ...       ...       ...  \n",
       "2024-08-09  0.002026   NaN -0.002261 -0.005704 -0.005471  0.000000 -0.016198  \n",
       "2024-08-12 -0.008477   NaN -0.008480 -0.009993  0.001219  0.000000 -0.007773  \n",
       "2024-08-13  0.033020   NaN  0.014451  0.021589  0.036773  0.000000  0.024863  \n",
       "2024-08-14 -0.001670   NaN -0.002398 -0.006221  0.003372  0.000000 -0.026542  \n",
       "2024-08-15  0.012929   NaN  0.004007  0.011691  0.029918  0.000000  0.003817  \n",
       "\n",
       "[2421 rows x 700 columns]"
      ]
     },
     "execution_count": 34,
     "metadata": {},
     "output_type": "execute_result"
    }
   ],
   "source": [
    "ret_df"
   ]
  },
  {
   "cell_type": "code",
   "execution_count": 35,
   "id": "9ef6f024",
   "metadata": {
    "scrolled": true
   },
   "outputs": [],
   "source": [
    "mtl_ret = (ret_df + 1).resample('ME').prod()"
   ]
  },
  {
   "cell_type": "code",
   "execution_count": 36,
   "id": "5970b93f",
   "metadata": {},
   "outputs": [
    {
     "data": {
      "text/html": [
       "<div>\n",
       "<style scoped>\n",
       "    .dataframe tbody tr th:only-of-type {\n",
       "        vertical-align: middle;\n",
       "    }\n",
       "\n",
       "    .dataframe tbody tr th {\n",
       "        vertical-align: top;\n",
       "    }\n",
       "\n",
       "    .dataframe thead th {\n",
       "        text-align: right;\n",
       "    }\n",
       "</style>\n",
       "<table border=\"1\" class=\"dataframe\">\n",
       "  <thead>\n",
       "    <tr style=\"text-align: right;\">\n",
       "      <th>Ticker</th>\n",
       "      <th>A</th>\n",
       "      <th>AA</th>\n",
       "      <th>AAL</th>\n",
       "      <th>AAP</th>\n",
       "      <th>AAPL</th>\n",
       "      <th>ABBV</th>\n",
       "      <th>ABMD</th>\n",
       "      <th>ABNB</th>\n",
       "      <th>ABT</th>\n",
       "      <th>ACE</th>\n",
       "      <th>...</th>\n",
       "      <th>XOM</th>\n",
       "      <th>XRAY</th>\n",
       "      <th>XRX</th>\n",
       "      <th>XYL</th>\n",
       "      <th>YHOO</th>\n",
       "      <th>YUM</th>\n",
       "      <th>ZBH</th>\n",
       "      <th>ZBRA</th>\n",
       "      <th>ZION</th>\n",
       "      <th>ZTS</th>\n",
       "    </tr>\n",
       "    <tr>\n",
       "      <th>Date</th>\n",
       "      <th></th>\n",
       "      <th></th>\n",
       "      <th></th>\n",
       "      <th></th>\n",
       "      <th></th>\n",
       "      <th></th>\n",
       "      <th></th>\n",
       "      <th></th>\n",
       "      <th></th>\n",
       "      <th></th>\n",
       "      <th></th>\n",
       "      <th></th>\n",
       "      <th></th>\n",
       "      <th></th>\n",
       "      <th></th>\n",
       "      <th></th>\n",
       "      <th></th>\n",
       "      <th></th>\n",
       "      <th></th>\n",
       "      <th></th>\n",
       "      <th></th>\n",
       "    </tr>\n",
       "  </thead>\n",
       "  <tbody>\n",
       "    <tr>\n",
       "      <th>2015-01-31</th>\n",
       "      <td>0.931213</td>\n",
       "      <td>0.985516</td>\n",
       "      <td>0.910406</td>\n",
       "      <td>1.002775</td>\n",
       "      <td>1.071618</td>\n",
       "      <td>0.915920</td>\n",
       "      <td>1.0</td>\n",
       "      <td>1.000000</td>\n",
       "      <td>0.996882</td>\n",
       "      <td>1.0</td>\n",
       "      <td>...</td>\n",
       "      <td>0.941721</td>\n",
       "      <td>0.963412</td>\n",
       "      <td>0.957818</td>\n",
       "      <td>0.895483</td>\n",
       "      <td>1.0</td>\n",
       "      <td>0.999032</td>\n",
       "      <td>0.995648</td>\n",
       "      <td>1.077877</td>\n",
       "      <td>0.846942</td>\n",
       "      <td>0.986608</td>\n",
       "    </tr>\n",
       "    <tr>\n",
       "      <th>2015-02-28</th>\n",
       "      <td>1.117554</td>\n",
       "      <td>0.945048</td>\n",
       "      <td>0.975958</td>\n",
       "      <td>0.974402</td>\n",
       "      <td>1.096449</td>\n",
       "      <td>1.002486</td>\n",
       "      <td>1.0</td>\n",
       "      <td>1.000000</td>\n",
       "      <td>1.058311</td>\n",
       "      <td>1.0</td>\n",
       "      <td>...</td>\n",
       "      <td>1.012812</td>\n",
       "      <td>1.059564</td>\n",
       "      <td>1.036447</td>\n",
       "      <td>1.046921</td>\n",
       "      <td>1.0</td>\n",
       "      <td>1.122164</td>\n",
       "      <td>1.073952</td>\n",
       "      <td>1.090942</td>\n",
       "      <td>1.116027</td>\n",
       "      <td>1.078633</td>\n",
       "    </tr>\n",
       "    <tr>\n",
       "      <th>2015-03-31</th>\n",
       "      <td>0.984364</td>\n",
       "      <td>0.873563</td>\n",
       "      <td>1.101879</td>\n",
       "      <td>0.966178</td>\n",
       "      <td>0.968628</td>\n",
       "      <td>0.967603</td>\n",
       "      <td>1.0</td>\n",
       "      <td>1.000000</td>\n",
       "      <td>0.978045</td>\n",
       "      <td>1.0</td>\n",
       "      <td>...</td>\n",
       "      <td>0.960018</td>\n",
       "      <td>0.960008</td>\n",
       "      <td>0.941392</td>\n",
       "      <td>0.980952</td>\n",
       "      <td>1.0</td>\n",
       "      <td>0.970534</td>\n",
       "      <td>0.976161</td>\n",
       "      <td>0.996376</td>\n",
       "      <td>1.009723</td>\n",
       "      <td>1.004339</td>\n",
       "    </tr>\n",
       "    <tr>\n",
       "      <th>2015-04-30</th>\n",
       "      <td>0.995668</td>\n",
       "      <td>1.038700</td>\n",
       "      <td>0.914930</td>\n",
       "      <td>0.955308</td>\n",
       "      <td>1.005786</td>\n",
       "      <td>1.104544</td>\n",
       "      <td>1.0</td>\n",
       "      <td>1.000000</td>\n",
       "      <td>1.001943</td>\n",
       "      <td>1.0</td>\n",
       "      <td>...</td>\n",
       "      <td>1.027882</td>\n",
       "      <td>1.002162</td>\n",
       "      <td>0.894942</td>\n",
       "      <td>1.057110</td>\n",
       "      <td>1.0</td>\n",
       "      <td>1.091972</td>\n",
       "      <td>0.934649</td>\n",
       "      <td>1.014991</td>\n",
       "      <td>1.049630</td>\n",
       "      <td>0.959602</td>\n",
       "    </tr>\n",
       "    <tr>\n",
       "      <th>2015-05-31</th>\n",
       "      <td>0.995649</td>\n",
       "      <td>0.931446</td>\n",
       "      <td>0.877407</td>\n",
       "      <td>1.071469</td>\n",
       "      <td>1.040991</td>\n",
       "      <td>1.029848</td>\n",
       "      <td>1.0</td>\n",
       "      <td>1.000000</td>\n",
       "      <td>1.046963</td>\n",
       "      <td>1.0</td>\n",
       "      <td>...</td>\n",
       "      <td>0.975163</td>\n",
       "      <td>1.020392</td>\n",
       "      <td>0.993044</td>\n",
       "      <td>0.987844</td>\n",
       "      <td>1.0</td>\n",
       "      <td>1.048278</td>\n",
       "      <td>1.038693</td>\n",
       "      <td>1.190704</td>\n",
       "      <td>1.019054</td>\n",
       "      <td>1.120441</td>\n",
       "    </tr>\n",
       "    <tr>\n",
       "      <th>...</th>\n",
       "      <td>...</td>\n",
       "      <td>...</td>\n",
       "      <td>...</td>\n",
       "      <td>...</td>\n",
       "      <td>...</td>\n",
       "      <td>...</td>\n",
       "      <td>...</td>\n",
       "      <td>...</td>\n",
       "      <td>...</td>\n",
       "      <td>...</td>\n",
       "      <td>...</td>\n",
       "      <td>...</td>\n",
       "      <td>...</td>\n",
       "      <td>...</td>\n",
       "      <td>...</td>\n",
       "      <td>...</td>\n",
       "      <td>...</td>\n",
       "      <td>...</td>\n",
       "      <td>...</td>\n",
       "      <td>...</td>\n",
       "      <td>...</td>\n",
       "    </tr>\n",
       "    <tr>\n",
       "      <th>2024-04-30</th>\n",
       "      <td>0.941791</td>\n",
       "      <td>1.000000</td>\n",
       "      <td>0.880130</td>\n",
       "      <td>1.000000</td>\n",
       "      <td>0.993294</td>\n",
       "      <td>0.893136</td>\n",
       "      <td>1.0</td>\n",
       "      <td>0.961263</td>\n",
       "      <td>0.932342</td>\n",
       "      <td>1.0</td>\n",
       "      <td>...</td>\n",
       "      <td>1.017464</td>\n",
       "      <td>0.959626</td>\n",
       "      <td>1.000000</td>\n",
       "      <td>1.011297</td>\n",
       "      <td>1.0</td>\n",
       "      <td>1.018752</td>\n",
       "      <td>0.911350</td>\n",
       "      <td>1.043524</td>\n",
       "      <td>1.000000</td>\n",
       "      <td>0.941079</td>\n",
       "    </tr>\n",
       "    <tr>\n",
       "      <th>2024-05-31</th>\n",
       "      <td>0.951620</td>\n",
       "      <td>1.000000</td>\n",
       "      <td>0.851221</td>\n",
       "      <td>1.000000</td>\n",
       "      <td>1.128691</td>\n",
       "      <td>0.991392</td>\n",
       "      <td>1.0</td>\n",
       "      <td>0.913981</td>\n",
       "      <td>0.964330</td>\n",
       "      <td>1.0</td>\n",
       "      <td>...</td>\n",
       "      <td>0.991460</td>\n",
       "      <td>1.000000</td>\n",
       "      <td>1.000000</td>\n",
       "      <td>1.078960</td>\n",
       "      <td>1.0</td>\n",
       "      <td>0.972956</td>\n",
       "      <td>0.957350</td>\n",
       "      <td>0.992943</td>\n",
       "      <td>1.000000</td>\n",
       "      <td>1.064808</td>\n",
       "    </tr>\n",
       "    <tr>\n",
       "      <th>2024-06-30</th>\n",
       "      <td>0.994019</td>\n",
       "      <td>1.000000</td>\n",
       "      <td>0.985217</td>\n",
       "      <td>1.000000</td>\n",
       "      <td>1.095553</td>\n",
       "      <td>1.063756</td>\n",
       "      <td>1.0</td>\n",
       "      <td>1.046229</td>\n",
       "      <td>1.016831</td>\n",
       "      <td>1.0</td>\n",
       "      <td>...</td>\n",
       "      <td>0.981750</td>\n",
       "      <td>1.000000</td>\n",
       "      <td>1.000000</td>\n",
       "      <td>0.961778</td>\n",
       "      <td>1.0</td>\n",
       "      <td>0.963836</td>\n",
       "      <td>0.942510</td>\n",
       "      <td>0.989082</td>\n",
       "      <td>1.000000</td>\n",
       "      <td>1.022411</td>\n",
       "    </tr>\n",
       "    <tr>\n",
       "      <th>2024-07-31</th>\n",
       "      <td>1.090797</td>\n",
       "      <td>1.000000</td>\n",
       "      <td>0.939100</td>\n",
       "      <td>1.000000</td>\n",
       "      <td>1.054411</td>\n",
       "      <td>1.080457</td>\n",
       "      <td>1.0</td>\n",
       "      <td>0.920398</td>\n",
       "      <td>1.019536</td>\n",
       "      <td>1.0</td>\n",
       "      <td>...</td>\n",
       "      <td>1.030142</td>\n",
       "      <td>1.000000</td>\n",
       "      <td>1.000000</td>\n",
       "      <td>0.984295</td>\n",
       "      <td>1.0</td>\n",
       "      <td>1.002793</td>\n",
       "      <td>1.025984</td>\n",
       "      <td>1.136795</td>\n",
       "      <td>1.000000</td>\n",
       "      <td>1.038532</td>\n",
       "    </tr>\n",
       "    <tr>\n",
       "      <th>2024-08-31</th>\n",
       "      <td>0.989321</td>\n",
       "      <td>1.000000</td>\n",
       "      <td>0.948308</td>\n",
       "      <td>1.000000</td>\n",
       "      <td>1.011888</td>\n",
       "      <td>1.043600</td>\n",
       "      <td>1.0</td>\n",
       "      <td>0.851820</td>\n",
       "      <td>1.047197</td>\n",
       "      <td>1.0</td>\n",
       "      <td>...</td>\n",
       "      <td>1.001181</td>\n",
       "      <td>1.000000</td>\n",
       "      <td>1.000000</td>\n",
       "      <td>0.997678</td>\n",
       "      <td>1.0</td>\n",
       "      <td>1.037491</td>\n",
       "      <td>0.986978</td>\n",
       "      <td>0.977277</td>\n",
       "      <td>1.000000</td>\n",
       "      <td>1.022440</td>\n",
       "    </tr>\n",
       "  </tbody>\n",
       "</table>\n",
       "<p>116 rows × 700 columns</p>\n",
       "</div>"
      ],
      "text/plain": [
       "Ticker             A        AA       AAL       AAP      AAPL      ABBV  ABMD  \\\n",
       "Date                                                                           \n",
       "2015-01-31  0.931213  0.985516  0.910406  1.002775  1.071618  0.915920   1.0   \n",
       "2015-02-28  1.117554  0.945048  0.975958  0.974402  1.096449  1.002486   1.0   \n",
       "2015-03-31  0.984364  0.873563  1.101879  0.966178  0.968628  0.967603   1.0   \n",
       "2015-04-30  0.995668  1.038700  0.914930  0.955308  1.005786  1.104544   1.0   \n",
       "2015-05-31  0.995649  0.931446  0.877407  1.071469  1.040991  1.029848   1.0   \n",
       "...              ...       ...       ...       ...       ...       ...   ...   \n",
       "2024-04-30  0.941791  1.000000  0.880130  1.000000  0.993294  0.893136   1.0   \n",
       "2024-05-31  0.951620  1.000000  0.851221  1.000000  1.128691  0.991392   1.0   \n",
       "2024-06-30  0.994019  1.000000  0.985217  1.000000  1.095553  1.063756   1.0   \n",
       "2024-07-31  1.090797  1.000000  0.939100  1.000000  1.054411  1.080457   1.0   \n",
       "2024-08-31  0.989321  1.000000  0.948308  1.000000  1.011888  1.043600   1.0   \n",
       "\n",
       "Ticker          ABNB       ABT  ACE  ...       XOM      XRAY       XRX  \\\n",
       "Date                                 ...                                 \n",
       "2015-01-31  1.000000  0.996882  1.0  ...  0.941721  0.963412  0.957818   \n",
       "2015-02-28  1.000000  1.058311  1.0  ...  1.012812  1.059564  1.036447   \n",
       "2015-03-31  1.000000  0.978045  1.0  ...  0.960018  0.960008  0.941392   \n",
       "2015-04-30  1.000000  1.001943  1.0  ...  1.027882  1.002162  0.894942   \n",
       "2015-05-31  1.000000  1.046963  1.0  ...  0.975163  1.020392  0.993044   \n",
       "...              ...       ...  ...  ...       ...       ...       ...   \n",
       "2024-04-30  0.961263  0.932342  1.0  ...  1.017464  0.959626  1.000000   \n",
       "2024-05-31  0.913981  0.964330  1.0  ...  0.991460  1.000000  1.000000   \n",
       "2024-06-30  1.046229  1.016831  1.0  ...  0.981750  1.000000  1.000000   \n",
       "2024-07-31  0.920398  1.019536  1.0  ...  1.030142  1.000000  1.000000   \n",
       "2024-08-31  0.851820  1.047197  1.0  ...  1.001181  1.000000  1.000000   \n",
       "\n",
       "Ticker           XYL  YHOO       YUM       ZBH      ZBRA      ZION       ZTS  \n",
       "Date                                                                          \n",
       "2015-01-31  0.895483   1.0  0.999032  0.995648  1.077877  0.846942  0.986608  \n",
       "2015-02-28  1.046921   1.0  1.122164  1.073952  1.090942  1.116027  1.078633  \n",
       "2015-03-31  0.980952   1.0  0.970534  0.976161  0.996376  1.009723  1.004339  \n",
       "2015-04-30  1.057110   1.0  1.091972  0.934649  1.014991  1.049630  0.959602  \n",
       "2015-05-31  0.987844   1.0  1.048278  1.038693  1.190704  1.019054  1.120441  \n",
       "...              ...   ...       ...       ...       ...       ...       ...  \n",
       "2024-04-30  1.011297   1.0  1.018752  0.911350  1.043524  1.000000  0.941079  \n",
       "2024-05-31  1.078960   1.0  0.972956  0.957350  0.992943  1.000000  1.064808  \n",
       "2024-06-30  0.961778   1.0  0.963836  0.942510  0.989082  1.000000  1.022411  \n",
       "2024-07-31  0.984295   1.0  1.002793  1.025984  1.136795  1.000000  1.038532  \n",
       "2024-08-31  0.997678   1.0  1.037491  0.986978  0.977277  1.000000  1.022440  \n",
       "\n",
       "[116 rows x 700 columns]"
      ]
     },
     "execution_count": 36,
     "metadata": {},
     "output_type": "execute_result"
    }
   ],
   "source": [
    "mtl_ret"
   ]
  },
  {
   "cell_type": "code",
   "execution_count": 37,
   "id": "870aa46b",
   "metadata": {
    "scrolled": true
   },
   "outputs": [],
   "source": [
    "mtl_12 = mtl_ret.rolling(12).apply(np.prod).dropna()"
   ]
  },
  {
   "cell_type": "code",
   "execution_count": 38,
   "id": "fa1f1751",
   "metadata": {},
   "outputs": [
    {
     "data": {
      "text/html": [
       "<div>\n",
       "<style scoped>\n",
       "    .dataframe tbody tr th:only-of-type {\n",
       "        vertical-align: middle;\n",
       "    }\n",
       "\n",
       "    .dataframe tbody tr th {\n",
       "        vertical-align: top;\n",
       "    }\n",
       "\n",
       "    .dataframe thead th {\n",
       "        text-align: right;\n",
       "    }\n",
       "</style>\n",
       "<table border=\"1\" class=\"dataframe\">\n",
       "  <thead>\n",
       "    <tr style=\"text-align: right;\">\n",
       "      <th>Ticker</th>\n",
       "      <th>A</th>\n",
       "      <th>AA</th>\n",
       "      <th>AAL</th>\n",
       "      <th>AAP</th>\n",
       "      <th>AAPL</th>\n",
       "      <th>ABBV</th>\n",
       "      <th>ABMD</th>\n",
       "      <th>ABNB</th>\n",
       "      <th>ABT</th>\n",
       "      <th>ACE</th>\n",
       "      <th>...</th>\n",
       "      <th>XOM</th>\n",
       "      <th>XRAY</th>\n",
       "      <th>XRX</th>\n",
       "      <th>XYL</th>\n",
       "      <th>YHOO</th>\n",
       "      <th>YUM</th>\n",
       "      <th>ZBH</th>\n",
       "      <th>ZBRA</th>\n",
       "      <th>ZION</th>\n",
       "      <th>ZTS</th>\n",
       "    </tr>\n",
       "    <tr>\n",
       "      <th>Date</th>\n",
       "      <th></th>\n",
       "      <th></th>\n",
       "      <th></th>\n",
       "      <th></th>\n",
       "      <th></th>\n",
       "      <th></th>\n",
       "      <th></th>\n",
       "      <th></th>\n",
       "      <th></th>\n",
       "      <th></th>\n",
       "      <th></th>\n",
       "      <th></th>\n",
       "      <th></th>\n",
       "      <th></th>\n",
       "      <th></th>\n",
       "      <th></th>\n",
       "      <th></th>\n",
       "      <th></th>\n",
       "      <th></th>\n",
       "      <th></th>\n",
       "      <th></th>\n",
       "    </tr>\n",
       "  </thead>\n",
       "  <tbody>\n",
       "    <tr>\n",
       "      <th>2015-12-31</th>\n",
       "      <td>1.030819</td>\n",
       "      <td>0.621536</td>\n",
       "      <td>0.785569</td>\n",
       "      <td>0.949231</td>\n",
       "      <td>0.962773</td>\n",
       "      <td>0.899074</td>\n",
       "      <td>1.0</td>\n",
       "      <td>1.000000</td>\n",
       "      <td>1.000223</td>\n",
       "      <td>1.0</td>\n",
       "      <td>...</td>\n",
       "      <td>0.839707</td>\n",
       "      <td>1.171770</td>\n",
       "      <td>0.773091</td>\n",
       "      <td>0.958508</td>\n",
       "      <td>1.0</td>\n",
       "      <td>1.009675</td>\n",
       "      <td>0.911182</td>\n",
       "      <td>0.899522</td>\n",
       "      <td>0.965005</td>\n",
       "      <td>1.106442</td>\n",
       "    </tr>\n",
       "    <tr>\n",
       "      <th>2016-01-31</th>\n",
       "      <td>0.996823</td>\n",
       "      <td>0.465815</td>\n",
       "      <td>0.794417</td>\n",
       "      <td>0.956289</td>\n",
       "      <td>0.830830</td>\n",
       "      <td>0.909694</td>\n",
       "      <td>1.0</td>\n",
       "      <td>1.000000</td>\n",
       "      <td>0.845621</td>\n",
       "      <td>1.0</td>\n",
       "      <td>...</td>\n",
       "      <td>0.890528</td>\n",
       "      <td>1.177094</td>\n",
       "      <td>0.740319</td>\n",
       "      <td>1.054252</td>\n",
       "      <td>1.0</td>\n",
       "      <td>1.001245</td>\n",
       "      <td>0.885459</td>\n",
       "      <td>0.723700</td>\n",
       "      <td>0.946578</td>\n",
       "      <td>1.007489</td>\n",
       "    </tr>\n",
       "    <tr>\n",
       "      <th>2016-02-29</th>\n",
       "      <td>0.884861</td>\n",
       "      <td>0.603786</td>\n",
       "      <td>0.855950</td>\n",
       "      <td>0.958110</td>\n",
       "      <td>0.752686</td>\n",
       "      <td>0.902645</td>\n",
       "      <td>1.0</td>\n",
       "      <td>1.000000</td>\n",
       "      <td>0.817817</td>\n",
       "      <td>1.0</td>\n",
       "      <td>...</td>\n",
       "      <td>0.905241</td>\n",
       "      <td>1.149972</td>\n",
       "      <td>0.704029</td>\n",
       "      <td>1.047899</td>\n",
       "      <td>1.0</td>\n",
       "      <td>0.893478</td>\n",
       "      <td>0.804137</td>\n",
       "      <td>0.678528</td>\n",
       "      <td>0.797307</td>\n",
       "      <td>0.890866</td>\n",
       "    </tr>\n",
       "    <tr>\n",
       "      <th>2016-03-31</th>\n",
       "      <td>0.959085</td>\n",
       "      <td>0.741486</td>\n",
       "      <td>0.776999</td>\n",
       "      <td>1.071147</td>\n",
       "      <td>0.875914</td>\n",
       "      <td>0.975743</td>\n",
       "      <td>1.0</td>\n",
       "      <td>1.000000</td>\n",
       "      <td>0.902871</td>\n",
       "      <td>1.0</td>\n",
       "      <td>...</td>\n",
       "      <td>0.983412</td>\n",
       "      <td>1.211043</td>\n",
       "      <td>0.868482</td>\n",
       "      <td>1.167904</td>\n",
       "      <td>1.0</td>\n",
       "      <td>1.039761</td>\n",
       "      <td>0.907335</td>\n",
       "      <td>0.760582</td>\n",
       "      <td>0.896667</td>\n",
       "      <td>0.957658</td>\n",
       "    </tr>\n",
       "    <tr>\n",
       "      <th>2016-04-30</th>\n",
       "      <td>0.989123</td>\n",
       "      <td>0.832340</td>\n",
       "      <td>0.718368</td>\n",
       "      <td>1.091608</td>\n",
       "      <td>0.749021</td>\n",
       "      <td>0.943396</td>\n",
       "      <td>1.0</td>\n",
       "      <td>1.000000</td>\n",
       "      <td>0.838001</td>\n",
       "      <td>1.0</td>\n",
       "      <td>...</td>\n",
       "      <td>1.011789</td>\n",
       "      <td>1.168627</td>\n",
       "      <td>0.834783</td>\n",
       "      <td>1.128579</td>\n",
       "      <td>1.0</td>\n",
       "      <td>0.925547</td>\n",
       "      <td>1.053988</td>\n",
       "      <td>0.679409</td>\n",
       "      <td>0.971066</td>\n",
       "      <td>1.058757</td>\n",
       "    </tr>\n",
       "    <tr>\n",
       "      <th>...</th>\n",
       "      <td>...</td>\n",
       "      <td>...</td>\n",
       "      <td>...</td>\n",
       "      <td>...</td>\n",
       "      <td>...</td>\n",
       "      <td>...</td>\n",
       "      <td>...</td>\n",
       "      <td>...</td>\n",
       "      <td>...</td>\n",
       "      <td>...</td>\n",
       "      <td>...</td>\n",
       "      <td>...</td>\n",
       "      <td>...</td>\n",
       "      <td>...</td>\n",
       "      <td>...</td>\n",
       "      <td>...</td>\n",
       "      <td>...</td>\n",
       "      <td>...</td>\n",
       "      <td>...</td>\n",
       "      <td>...</td>\n",
       "      <td>...</td>\n",
       "    </tr>\n",
       "    <tr>\n",
       "      <th>2024-04-30</th>\n",
       "      <td>1.011888</td>\n",
       "      <td>1.000000</td>\n",
       "      <td>0.990469</td>\n",
       "      <td>0.510476</td>\n",
       "      <td>1.003831</td>\n",
       "      <td>1.076231</td>\n",
       "      <td>1.0</td>\n",
       "      <td>1.325061</td>\n",
       "      <td>0.959265</td>\n",
       "      <td>1.0</td>\n",
       "      <td>...</td>\n",
       "      <td>0.999408</td>\n",
       "      <td>0.759599</td>\n",
       "      <td>1.000000</td>\n",
       "      <td>1.258667</td>\n",
       "      <td>1.0</td>\n",
       "      <td>1.004766</td>\n",
       "      <td>0.868824</td>\n",
       "      <td>1.092108</td>\n",
       "      <td>1.426059</td>\n",
       "      <td>0.905905</td>\n",
       "    </tr>\n",
       "    <tr>\n",
       "      <th>2024-05-31</th>\n",
       "      <td>1.127432</td>\n",
       "      <td>1.000000</td>\n",
       "      <td>0.778078</td>\n",
       "      <td>0.879133</td>\n",
       "      <td>1.084626</td>\n",
       "      <td>1.168745</td>\n",
       "      <td>1.0</td>\n",
       "      <td>1.320306</td>\n",
       "      <td>1.001863</td>\n",
       "      <td>1.0</td>\n",
       "      <td>...</td>\n",
       "      <td>1.147583</td>\n",
       "      <td>0.881783</td>\n",
       "      <td>1.000000</td>\n",
       "      <td>1.407385</td>\n",
       "      <td>1.0</td>\n",
       "      <td>1.067915</td>\n",
       "      <td>0.904272</td>\n",
       "      <td>1.189549</td>\n",
       "      <td>1.455845</td>\n",
       "      <td>1.040182</td>\n",
       "    </tr>\n",
       "    <tr>\n",
       "      <th>2024-06-30</th>\n",
       "      <td>1.078004</td>\n",
       "      <td>1.000000</td>\n",
       "      <td>0.631550</td>\n",
       "      <td>0.911522</td>\n",
       "      <td>1.085838</td>\n",
       "      <td>1.273065</td>\n",
       "      <td>1.0</td>\n",
       "      <td>1.183130</td>\n",
       "      <td>0.953128</td>\n",
       "      <td>1.0</td>\n",
       "      <td>...</td>\n",
       "      <td>1.073380</td>\n",
       "      <td>0.795852</td>\n",
       "      <td>1.000000</td>\n",
       "      <td>1.204315</td>\n",
       "      <td>1.0</td>\n",
       "      <td>0.956045</td>\n",
       "      <td>0.745398</td>\n",
       "      <td>1.044282</td>\n",
       "      <td>1.479151</td>\n",
       "      <td>1.006678</td>\n",
       "    </tr>\n",
       "    <tr>\n",
       "      <th>2024-07-31</th>\n",
       "      <td>1.161206</td>\n",
       "      <td>1.000000</td>\n",
       "      <td>0.635224</td>\n",
       "      <td>0.861406</td>\n",
       "      <td>1.130466</td>\n",
       "      <td>1.238936</td>\n",
       "      <td>1.0</td>\n",
       "      <td>0.917012</td>\n",
       "      <td>0.951585</td>\n",
       "      <td>1.0</td>\n",
       "      <td>...</td>\n",
       "      <td>1.105837</td>\n",
       "      <td>0.767100</td>\n",
       "      <td>1.000000</td>\n",
       "      <td>1.184035</td>\n",
       "      <td>1.0</td>\n",
       "      <td>0.964843</td>\n",
       "      <td>0.806008</td>\n",
       "      <td>1.140375</td>\n",
       "      <td>1.038693</td>\n",
       "      <td>0.957201</td>\n",
       "    </tr>\n",
       "    <tr>\n",
       "      <th>2024-08-31</th>\n",
       "      <td>1.155447</td>\n",
       "      <td>1.000000</td>\n",
       "      <td>0.684997</td>\n",
       "      <td>1.000000</td>\n",
       "      <td>1.196146</td>\n",
       "      <td>1.316004</td>\n",
       "      <td>1.0</td>\n",
       "      <td>0.903687</td>\n",
       "      <td>1.078134</td>\n",
       "      <td>1.0</td>\n",
       "      <td>...</td>\n",
       "      <td>1.067812</td>\n",
       "      <td>0.858722</td>\n",
       "      <td>1.000000</td>\n",
       "      <td>1.286363</td>\n",
       "      <td>1.0</td>\n",
       "      <td>1.065157</td>\n",
       "      <td>0.922599</td>\n",
       "      <td>1.247991</td>\n",
       "      <td>1.119155</td>\n",
       "      <td>0.966249</td>\n",
       "    </tr>\n",
       "  </tbody>\n",
       "</table>\n",
       "<p>105 rows × 700 columns</p>\n",
       "</div>"
      ],
      "text/plain": [
       "Ticker             A        AA       AAL       AAP      AAPL      ABBV  ABMD  \\\n",
       "Date                                                                           \n",
       "2015-12-31  1.030819  0.621536  0.785569  0.949231  0.962773  0.899074   1.0   \n",
       "2016-01-31  0.996823  0.465815  0.794417  0.956289  0.830830  0.909694   1.0   \n",
       "2016-02-29  0.884861  0.603786  0.855950  0.958110  0.752686  0.902645   1.0   \n",
       "2016-03-31  0.959085  0.741486  0.776999  1.071147  0.875914  0.975743   1.0   \n",
       "2016-04-30  0.989123  0.832340  0.718368  1.091608  0.749021  0.943396   1.0   \n",
       "...              ...       ...       ...       ...       ...       ...   ...   \n",
       "2024-04-30  1.011888  1.000000  0.990469  0.510476  1.003831  1.076231   1.0   \n",
       "2024-05-31  1.127432  1.000000  0.778078  0.879133  1.084626  1.168745   1.0   \n",
       "2024-06-30  1.078004  1.000000  0.631550  0.911522  1.085838  1.273065   1.0   \n",
       "2024-07-31  1.161206  1.000000  0.635224  0.861406  1.130466  1.238936   1.0   \n",
       "2024-08-31  1.155447  1.000000  0.684997  1.000000  1.196146  1.316004   1.0   \n",
       "\n",
       "Ticker          ABNB       ABT  ACE  ...       XOM      XRAY       XRX  \\\n",
       "Date                                 ...                                 \n",
       "2015-12-31  1.000000  1.000223  1.0  ...  0.839707  1.171770  0.773091   \n",
       "2016-01-31  1.000000  0.845621  1.0  ...  0.890528  1.177094  0.740319   \n",
       "2016-02-29  1.000000  0.817817  1.0  ...  0.905241  1.149972  0.704029   \n",
       "2016-03-31  1.000000  0.902871  1.0  ...  0.983412  1.211043  0.868482   \n",
       "2016-04-30  1.000000  0.838001  1.0  ...  1.011789  1.168627  0.834783   \n",
       "...              ...       ...  ...  ...       ...       ...       ...   \n",
       "2024-04-30  1.325061  0.959265  1.0  ...  0.999408  0.759599  1.000000   \n",
       "2024-05-31  1.320306  1.001863  1.0  ...  1.147583  0.881783  1.000000   \n",
       "2024-06-30  1.183130  0.953128  1.0  ...  1.073380  0.795852  1.000000   \n",
       "2024-07-31  0.917012  0.951585  1.0  ...  1.105837  0.767100  1.000000   \n",
       "2024-08-31  0.903687  1.078134  1.0  ...  1.067812  0.858722  1.000000   \n",
       "\n",
       "Ticker           XYL  YHOO       YUM       ZBH      ZBRA      ZION       ZTS  \n",
       "Date                                                                          \n",
       "2015-12-31  0.958508   1.0  1.009675  0.911182  0.899522  0.965005  1.106442  \n",
       "2016-01-31  1.054252   1.0  1.001245  0.885459  0.723700  0.946578  1.007489  \n",
       "2016-02-29  1.047899   1.0  0.893478  0.804137  0.678528  0.797307  0.890866  \n",
       "2016-03-31  1.167904   1.0  1.039761  0.907335  0.760582  0.896667  0.957658  \n",
       "2016-04-30  1.128579   1.0  0.925547  1.053988  0.679409  0.971066  1.058757  \n",
       "...              ...   ...       ...       ...       ...       ...       ...  \n",
       "2024-04-30  1.258667   1.0  1.004766  0.868824  1.092108  1.426059  0.905905  \n",
       "2024-05-31  1.407385   1.0  1.067915  0.904272  1.189549  1.455845  1.040182  \n",
       "2024-06-30  1.204315   1.0  0.956045  0.745398  1.044282  1.479151  1.006678  \n",
       "2024-07-31  1.184035   1.0  0.964843  0.806008  1.140375  1.038693  0.957201  \n",
       "2024-08-31  1.286363   1.0  1.065157  0.922599  1.247991  1.119155  0.966249  \n",
       "\n",
       "[105 rows x 700 columns]"
      ]
     },
     "execution_count": 38,
     "metadata": {},
     "output_type": "execute_result"
    }
   ],
   "source": [
    "mtl_12"
   ]
  },
  {
   "cell_type": "code",
   "execution_count": 39,
   "id": "052aa345",
   "metadata": {},
   "outputs": [],
   "source": [
    "top_ = mtl_12.loc['2015-12-31'].nlargest(5)"
   ]
  },
  {
   "cell_type": "code",
   "execution_count": 40,
   "id": "44adf07f",
   "metadata": {},
   "outputs": [
    {
     "data": {
      "text/plain": [
       "Ticker\n",
       "CZR     2.722772\n",
       "NFLX    2.294549\n",
       "AMZN    2.190749\n",
       "EPAM    1.691844\n",
       "AYI     1.671433\n",
       "Name: 2015-12-31 00:00:00, dtype: float64"
      ]
     },
     "execution_count": 40,
     "metadata": {},
     "output_type": "execute_result"
    }
   ],
   "source": [
    "top_"
   ]
  },
  {
   "cell_type": "code",
   "execution_count": 41,
   "id": "5fc86333",
   "metadata": {},
   "outputs": [
    {
     "data": {
      "text/plain": [
       "Timestamp('2015-12-31 00:00:00')"
      ]
     },
     "execution_count": 41,
     "metadata": {},
     "output_type": "execute_result"
    }
   ],
   "source": [
    "top_.name"
   ]
  },
  {
   "cell_type": "code",
   "execution_count": 37,
   "id": "46567dfe",
   "metadata": {},
   "outputs": [
    {
     "data": {
      "text/html": [
       "<div>\n",
       "<style scoped>\n",
       "    .dataframe tbody tr th:only-of-type {\n",
       "        vertical-align: middle;\n",
       "    }\n",
       "\n",
       "    .dataframe tbody tr th {\n",
       "        vertical-align: top;\n",
       "    }\n",
       "\n",
       "    .dataframe thead th {\n",
       "        text-align: right;\n",
       "    }\n",
       "</style>\n",
       "<table border=\"1\" class=\"dataframe\">\n",
       "  <thead>\n",
       "    <tr style=\"text-align: right;\">\n",
       "      <th></th>\n",
       "      <th>A</th>\n",
       "      <th>AA</th>\n",
       "      <th>AAL</th>\n",
       "      <th>AAP</th>\n",
       "      <th>AAPL</th>\n",
       "      <th>ABBV</th>\n",
       "      <th>ABC</th>\n",
       "      <th>ABMD</th>\n",
       "      <th>ABT</th>\n",
       "      <th>ACE</th>\n",
       "      <th>...</th>\n",
       "      <th>XOM</th>\n",
       "      <th>XRAY</th>\n",
       "      <th>XRX</th>\n",
       "      <th>XYL</th>\n",
       "      <th>YHOO</th>\n",
       "      <th>YUM</th>\n",
       "      <th>ZBH</th>\n",
       "      <th>ZBRA</th>\n",
       "      <th>ZION</th>\n",
       "      <th>ZTS</th>\n",
       "    </tr>\n",
       "    <tr>\n",
       "      <th>Date</th>\n",
       "      <th></th>\n",
       "      <th></th>\n",
       "      <th></th>\n",
       "      <th></th>\n",
       "      <th></th>\n",
       "      <th></th>\n",
       "      <th></th>\n",
       "      <th></th>\n",
       "      <th></th>\n",
       "      <th></th>\n",
       "      <th></th>\n",
       "      <th></th>\n",
       "      <th></th>\n",
       "      <th></th>\n",
       "      <th></th>\n",
       "      <th></th>\n",
       "      <th></th>\n",
       "      <th></th>\n",
       "      <th></th>\n",
       "      <th></th>\n",
       "      <th></th>\n",
       "    </tr>\n",
       "  </thead>\n",
       "  <tbody>\n",
       "    <tr>\n",
       "      <th>2016-01-31</th>\n",
       "      <td>0.900502</td>\n",
       "      <td>0.738602</td>\n",
       "      <td>0.920661</td>\n",
       "      <td>1.010232</td>\n",
       "      <td>0.924758</td>\n",
       "      <td>0.926739</td>\n",
       "      <td>0.863562</td>\n",
       "      <td>0.945171</td>\n",
       "      <td>0.842797</td>\n",
       "      <td>1.0</td>\n",
       "      <td>...</td>\n",
       "      <td>0.998717</td>\n",
       "      <td>0.96779</td>\n",
       "      <td>0.917215</td>\n",
       "      <td>0.984932</td>\n",
       "      <td>1.0</td>\n",
       "      <td>0.990691</td>\n",
       "      <td>0.967541</td>\n",
       "      <td>1.0</td>\n",
       "      <td>0.830769</td>\n",
       "      <td>0.898372</td>\n",
       "    </tr>\n",
       "  </tbody>\n",
       "</table>\n",
       "<p>1 rows × 682 columns</p>\n",
       "</div>"
      ],
      "text/plain": [
       "                   A        AA       AAL       AAP      AAPL      ABBV  \\\n",
       "Date                                                                     \n",
       "2016-01-31  0.900502  0.738602  0.920661  1.010232  0.924758  0.926739   \n",
       "\n",
       "                 ABC      ABMD       ABT  ACE  ...       XOM     XRAY  \\\n",
       "Date                                           ...                      \n",
       "2016-01-31  0.863562  0.945171  0.842797  1.0  ...  0.998717  0.96779   \n",
       "\n",
       "                 XRX       XYL  YHOO       YUM       ZBH  ZBRA      ZION  \\\n",
       "Date                                                                       \n",
       "2016-01-31  0.917215  0.984932   1.0  0.990691  0.967541   1.0  0.830769   \n",
       "\n",
       "                 ZTS  \n",
       "Date                  \n",
       "2016-01-31  0.898372  \n",
       "\n",
       "[1 rows x 682 columns]"
      ]
     },
     "execution_count": 37,
     "metadata": {},
     "output_type": "execute_result"
    }
   ],
   "source": [
    "mtl_ret[top_.name:][1:2]"
   ]
  },
  {
   "cell_type": "code",
   "execution_count": 38,
   "id": "ddb49ac9",
   "metadata": {},
   "outputs": [],
   "source": [
    "relevant_ret = mtl_ret[top_.name:][1:2][top_.index]"
   ]
  },
  {
   "cell_type": "code",
   "execution_count": 39,
   "id": "7bf8b2d6",
   "metadata": {},
   "outputs": [
    {
     "data": {
      "text/html": [
       "<div>\n",
       "<style scoped>\n",
       "    .dataframe tbody tr th:only-of-type {\n",
       "        vertical-align: middle;\n",
       "    }\n",
       "\n",
       "    .dataframe tbody tr th {\n",
       "        vertical-align: top;\n",
       "    }\n",
       "\n",
       "    .dataframe thead th {\n",
       "        text-align: right;\n",
       "    }\n",
       "</style>\n",
       "<table border=\"1\" class=\"dataframe\">\n",
       "  <thead>\n",
       "    <tr style=\"text-align: right;\">\n",
       "      <th></th>\n",
       "      <th>ABMD</th>\n",
       "      <th>NFLX</th>\n",
       "      <th>AMZN</th>\n",
       "      <th>AYI</th>\n",
       "      <th>NVDA</th>\n",
       "    </tr>\n",
       "    <tr>\n",
       "      <th>Date</th>\n",
       "      <th></th>\n",
       "      <th></th>\n",
       "      <th></th>\n",
       "      <th></th>\n",
       "      <th></th>\n",
       "    </tr>\n",
       "  </thead>\n",
       "  <tbody>\n",
       "    <tr>\n",
       "      <th>2016-01-31</th>\n",
       "      <td>0.945171</td>\n",
       "      <td>0.802938</td>\n",
       "      <td>0.868485</td>\n",
       "      <td>0.865825</td>\n",
       "      <td>0.888653</td>\n",
       "    </tr>\n",
       "  </tbody>\n",
       "</table>\n",
       "</div>"
      ],
      "text/plain": [
       "                ABMD      NFLX      AMZN       AYI      NVDA\n",
       "Date                                                        \n",
       "2016-01-31  0.945171  0.802938  0.868485  0.865825  0.888653"
      ]
     },
     "execution_count": 39,
     "metadata": {},
     "output_type": "execute_result"
    }
   ],
   "source": [
    "relevant_ret"
   ]
  },
  {
   "cell_type": "code",
   "execution_count": 40,
   "id": "6f8b946f",
   "metadata": {
    "scrolled": true
   },
   "outputs": [
    {
     "data": {
      "text/plain": [
       "Date\n",
       "2016-01-31    0.874214\n",
       "Freq: M, dtype: float64"
      ]
     },
     "execution_count": 40,
     "metadata": {},
     "output_type": "execute_result"
    }
   ],
   "source": [
    "relevant_ret.mean(axis=1)"
   ]
  },
  {
   "cell_type": "code",
   "execution_count": 63,
   "id": "bca4d05e",
   "metadata": {},
   "outputs": [],
   "source": [
    "def top_performers(date):\n",
    "    all_ = mtl_12.loc[date]\n",
    "    top = all_.nlargest(5)\n",
    "    relevant_ret = mtl_ret[top.name:][1:2][top.index]\n",
    "    return (relevant_ret).mean(axis=1).values[0]"
   ]
  },
  {
   "cell_type": "code",
   "execution_count": 64,
   "id": "29d64d55",
   "metadata": {},
   "outputs": [
    {
     "data": {
      "text/plain": [
       "0.892359377588893"
      ]
     },
     "execution_count": 64,
     "metadata": {},
     "output_type": "execute_result"
    }
   ],
   "source": [
    "top_performers('2015-12-31')"
   ]
  },
  {
   "cell_type": "code",
   "execution_count": 65,
   "id": "7fd8e9a6",
   "metadata": {},
   "outputs": [],
   "source": [
    "returns = []\n",
    "for date in mtl_12.index[:-1]:\n",
    "    returns.append(top_performers(date))"
   ]
  },
  {
   "cell_type": "code",
   "execution_count": 66,
   "id": "0191e415",
   "metadata": {
    "scrolled": true
   },
   "outputs": [
    {
     "data": {
      "text/plain": [
       "18.13834315066566"
      ]
     },
     "execution_count": 66,
     "metadata": {},
     "output_type": "execute_result"
    }
   ],
   "source": [
    "pd.Series(returns).prod()"
   ]
  },
  {
   "cell_type": "code",
   "execution_count": 67,
   "id": "d7108cf4",
   "metadata": {
    "scrolled": true
   },
   "outputs": [
    {
     "data": {
      "text/plain": [
       "<AxesSubplot:xlabel='Date'>"
      ]
     },
     "execution_count": 67,
     "metadata": {},
     "output_type": "execute_result"
    },
    {
     "data": {
      "image/png": "[encoded data removed]",
      "text/plain": [
       "<Figure size 640x480 with 1 Axes>"
      ]
     },
     "metadata": {},
     "output_type": "display_data"
    }
   ],
   "source": [
    "pd.Series(returns, index=mtl_12.index[:-1]).cumprod().plot()"
   ]
  },
  {
   "cell_type": "code",
   "execution_count": 46,
   "id": "563639b5",
   "metadata": {},
   "outputs": [
    {
     "name": "stdout",
     "output_type": "stream",
     "text": [
      "[*********************100%***********************]  1 of 1 completed\n"
     ]
    }
   ],
   "source": [
    "s_p500 = yf.download('^GSPC',start=start).Close"
   ]
  },
  {
   "cell_type": "code",
   "execution_count": 47,
   "id": "3fe7a173",
   "metadata": {},
   "outputs": [
    {
     "data": {
      "text/plain": [
       "Date\n",
       "2015-01-02    2058.199951\n",
       "2015-01-05    2020.579956\n",
       "2015-01-06    2002.609985\n",
       "2015-01-07    2025.900024\n",
       "2015-01-08    2062.139893\n",
       "                 ...     \n",
       "2023-05-15    4136.279785\n",
       "2023-05-16    4109.899902\n",
       "2023-05-17    4158.770020\n",
       "2023-05-18    4198.049805\n",
       "2023-05-19    4191.979980\n",
       "Name: Close, Length: 2110, dtype: float64"
      ]
     },
     "execution_count": 47,
     "metadata": {},
     "output_type": "execute_result"
    }
   ],
   "source": [
    "s_p500"
   ]
  },
  {
   "cell_type": "code",
   "execution_count": 48,
   "id": "b2dddde9",
   "metadata": {},
   "outputs": [
    {
     "data": {
      "text/plain": [
       "2.0367214458261347"
      ]
     },
     "execution_count": 48,
     "metadata": {},
     "output_type": "execute_result"
    }
   ],
   "source": [
    " 4191.979980/2058.199951"
   ]
  },
  {
   "cell_type": "code",
   "execution_count": null,
   "id": "f46368b4",
   "metadata": {},
   "outputs": [],
   "source": []
  }
 ],
 "metadata": {
  "kernelspec": {
   "display_name": "Python 3 (ipykernel)",
   "language": "python",
   "name": "python3"
  },
  "language_info": {
   "codemirror_mode": {
    "name": "ipython",
    "version": 3
   },
   "file_extension": ".py",
   "mimetype": "text/x-python",
   "name": "python",
   "nbconvert_exporter": "python",
   "pygments_lexer": "ipython3",
   "version": "3.12.4"
  }
 },
 "nbformat": 4,
 "nbformat_minor": 5
}
