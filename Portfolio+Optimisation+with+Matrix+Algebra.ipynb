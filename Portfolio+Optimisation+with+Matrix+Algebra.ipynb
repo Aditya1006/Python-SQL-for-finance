{
 "cells": [
  {
   "cell_type": "code",
   "execution_count": 219,
   "id": "8514e8ec",
   "metadata": {},
   "outputs": [],
   "source": [
    "#No investment advice!\n",
    "#video instructions: https://youtu.be/t4jrCnrpgdw\n",
    "#& PartII: https://youtu.be/hTfja2lu5zY"
   ]
  },
  {
   "cell_type": "code",
   "execution_count": 220,
   "id": "3f280157",
   "metadata": {},
   "outputs": [],
   "source": [
    "import yfinance as yf\n",
    "import numpy as np\n",
    "import pandas as pd\n",
    "from scipy.optimize import minimize##### imp.******\n",
    "from scipy.optimize import Bounds"
   ]
  },
  {
   "cell_type": "code",
   "execution_count": 221,
   "id": "07a539cc",
   "metadata": {},
   "outputs": [],
   "source": [
    "tickers = ['^GSPC','GC=F','TSLA','MMM']"
   ]
  },
  {
   "cell_type": "code",
   "execution_count": 222,
   "id": "5e2c65d7",
   "metadata": {
    "scrolled": true
   },
   "outputs": [
    {
     "name": "stderr",
     "output_type": "stream",
     "text": [
      "[*********************100%%**********************]  4 of 4 completed\n"
     ]
    }
   ],
   "source": [
    "df = yf.download(tickers,start='2010-01-01')['Adj Close']"
   ]
  },
  {
   "cell_type": "code",
   "execution_count": 223,
   "id": "ae93805d",
   "metadata": {},
   "outputs": [],
   "source": [
    "ret_df = np.log(df/df.shift(1)) #daily log returns"
   ]
  },
  {
   "cell_type": "code",
   "execution_count": 224,
   "id": "83328cc3-803d-4f0f-9c32-072558d5bea5",
   "metadata": {},
   "outputs": [
    {
     "data": {
      "text/html": [
       "<div>\n",
       "<style scoped>\n",
       "    .dataframe tbody tr th:only-of-type {\n",
       "        vertical-align: middle;\n",
       "    }\n",
       "\n",
       "    .dataframe tbody tr th {\n",
       "        vertical-align: top;\n",
       "    }\n",
       "\n",
       "    .dataframe thead th {\n",
       "        text-align: right;\n",
       "    }\n",
       "</style>\n",
       "<table border=\"1\" class=\"dataframe\">\n",
       "  <thead>\n",
       "    <tr style=\"text-align: right;\">\n",
       "      <th>Ticker</th>\n",
       "      <th>GC=F</th>\n",
       "      <th>MMM</th>\n",
       "      <th>TSLA</th>\n",
       "      <th>^GSPC</th>\n",
       "    </tr>\n",
       "    <tr>\n",
       "      <th>Date</th>\n",
       "      <th></th>\n",
       "      <th></th>\n",
       "      <th></th>\n",
       "      <th></th>\n",
       "    </tr>\n",
       "  </thead>\n",
       "  <tbody>\n",
       "    <tr>\n",
       "      <th>2010-01-04</th>\n",
       "      <td>NaN</td>\n",
       "      <td>NaN</td>\n",
       "      <td>NaN</td>\n",
       "      <td>NaN</td>\n",
       "    </tr>\n",
       "    <tr>\n",
       "      <th>2010-01-05</th>\n",
       "      <td>0.000358</td>\n",
       "      <td>-0.006283</td>\n",
       "      <td>NaN</td>\n",
       "      <td>0.003111</td>\n",
       "    </tr>\n",
       "    <tr>\n",
       "      <th>2010-01-06</th>\n",
       "      <td>0.015795</td>\n",
       "      <td>0.014082</td>\n",
       "      <td>NaN</td>\n",
       "      <td>0.000545</td>\n",
       "    </tr>\n",
       "    <tr>\n",
       "      <th>2010-01-07</th>\n",
       "      <td>-0.002468</td>\n",
       "      <td>0.000717</td>\n",
       "      <td>NaN</td>\n",
       "      <td>0.003993</td>\n",
       "    </tr>\n",
       "    <tr>\n",
       "      <th>2010-01-08</th>\n",
       "      <td>0.004491</td>\n",
       "      <td>0.007021</td>\n",
       "      <td>NaN</td>\n",
       "      <td>0.002878</td>\n",
       "    </tr>\n",
       "    <tr>\n",
       "      <th>...</th>\n",
       "      <td>...</td>\n",
       "      <td>...</td>\n",
       "      <td>...</td>\n",
       "      <td>...</td>\n",
       "    </tr>\n",
       "    <tr>\n",
       "      <th>2024-08-26</th>\n",
       "      <td>0.003701</td>\n",
       "      <td>0.015285</td>\n",
       "      <td>-0.032803</td>\n",
       "      <td>-0.003159</td>\n",
       "    </tr>\n",
       "    <tr>\n",
       "      <th>2024-08-27</th>\n",
       "      <td>-0.000675</td>\n",
       "      <td>-0.003419</td>\n",
       "      <td>-0.018939</td>\n",
       "      <td>0.001594</td>\n",
       "    </tr>\n",
       "    <tr>\n",
       "      <th>2024-08-28</th>\n",
       "      <td>-0.005980</td>\n",
       "      <td>0.001597</td>\n",
       "      <td>-0.016677</td>\n",
       "      <td>-0.005994</td>\n",
       "    </tr>\n",
       "    <tr>\n",
       "      <th>2024-08-29</th>\n",
       "      <td>0.009828</td>\n",
       "      <td>0.009829</td>\n",
       "      <td>0.002573</td>\n",
       "      <td>-0.000039</td>\n",
       "    </tr>\n",
       "    <tr>\n",
       "      <th>2024-08-30</th>\n",
       "      <td>0.013176</td>\n",
       "      <td>NaN</td>\n",
       "      <td>NaN</td>\n",
       "      <td>NaN</td>\n",
       "    </tr>\n",
       "  </tbody>\n",
       "</table>\n",
       "<p>3691 rows × 4 columns</p>\n",
       "</div>"
      ],
      "text/plain": [
       "Ticker          GC=F       MMM      TSLA     ^GSPC\n",
       "Date                                              \n",
       "2010-01-04       NaN       NaN       NaN       NaN\n",
       "2010-01-05  0.000358 -0.006283       NaN  0.003111\n",
       "2010-01-06  0.015795  0.014082       NaN  0.000545\n",
       "2010-01-07 -0.002468  0.000717       NaN  0.003993\n",
       "2010-01-08  0.004491  0.007021       NaN  0.002878\n",
       "...              ...       ...       ...       ...\n",
       "2024-08-26  0.003701  0.015285 -0.032803 -0.003159\n",
       "2024-08-27 -0.000675 -0.003419 -0.018939  0.001594\n",
       "2024-08-28 -0.005980  0.001597 -0.016677 -0.005994\n",
       "2024-08-29  0.009828  0.009829  0.002573 -0.000039\n",
       "2024-08-30  0.013176       NaN       NaN       NaN\n",
       "\n",
       "[3691 rows x 4 columns]"
      ]
     },
     "execution_count": 224,
     "metadata": {},
     "output_type": "execute_result"
    }
   ],
   "source": [
    "ret_df"
   ]
  },
  {
   "cell_type": "code",
   "execution_count": 225,
   "id": "20c6425d-a847-4b73-aed2-efffd45d1922",
   "metadata": {},
   "outputs": [
    {
     "data": {
      "text/plain": [
       "Ticker\n",
       "GC=F     0.000237\n",
       "MMM      0.000298\n",
       "TSLA     0.001363\n",
       "^GSPC    0.000433\n",
       "dtype: float64"
      ]
     },
     "execution_count": 225,
     "metadata": {},
     "output_type": "execute_result"
    }
   ],
   "source": [
    "ret_df.mean()"
   ]
  },
  {
   "cell_type": "code",
   "execution_count": 226,
   "id": "06817284",
   "metadata": {},
   "outputs": [
    {
     "data": {
      "text/plain": [
       "<Axes: xlabel='Date'>"
      ]
     },
     "execution_count": 226,
     "metadata": {},
     "output_type": "execute_result"
    },
    {
     "data": {
      "image/png": "[encoded data removed]",
      "text/plain": [
       "<Figure size 640x480 with 1 Axes>"
      ]
     },
     "metadata": {},
     "output_type": "display_data"
    }
   ],
   "source": [
    "ret_df.cumsum().plot()"
   ]
  },
  {
   "cell_type": "code",
   "execution_count": 227,
   "id": "15f1d985",
   "metadata": {},
   "outputs": [],
   "source": [
    "W = np.ones(len(ret_df.columns))/ np.ones(len(ret_df.columns)).sum() ##equal weights vector*****"
   ]
  },
  {
   "cell_type": "code",
   "execution_count": 228,
   "id": "12cc8e15-c9a6-4720-b883-60eb32e86710",
   "metadata": {},
   "outputs": [
    {
     "data": {
      "text/plain": [
       "0.0005826735925791849"
      ]
     },
     "execution_count": 228,
     "metadata": {},
     "output_type": "execute_result"
    }
   ],
   "source": [
    "ret_df.mean().dot(W)   #### Expected return"
   ]
  },
  {
   "cell_type": "code",
   "execution_count": 229,
   "id": "70011d2c-883f-499b-bdce-25a82c03755c",
   "metadata": {},
   "outputs": [
    {
     "data": {
      "text/plain": [
       "0.00015824182230761723"
      ]
     },
     "execution_count": 229,
     "metadata": {},
     "output_type": "execute_result"
    }
   ],
   "source": [
    "W.dot(ret_df.cov().dot(W))  #portfolio variance OR W.T.dot(ret_df.cov().dot(W)) (Transpose)*****"
   ]
  },
  {
   "cell_type": "code",
   "execution_count": 230,
   "id": "6013ec4b-cb4b-4201-ad9e-b6a0e714bab6",
   "metadata": {},
   "outputs": [
    {
     "data": {
      "text/plain": [
       "0.01257942058711836"
      ]
     },
     "execution_count": 230,
     "metadata": {},
     "output_type": "execute_result"
    }
   ],
   "source": [
    "W.dot(ret_df.cov().dot(W)) ** (1/2) #Risk / standard deviation"
   ]
  },
  {
   "cell_type": "code",
   "execution_count": 231,
   "id": "b1dd2c88-93c8-4a26-bff3-a790c8a233a6",
   "metadata": {},
   "outputs": [],
   "source": [
    "########### Optimisation of portfolio weights********"
   ]
  },
  {
   "cell_type": "code",
   "execution_count": 232,
   "id": "4ecaea8e",
   "metadata": {},
   "outputs": [],
   "source": [
    "def sharpe_pf(W, returns):\n",
    "    pf_risk = (W.dot(returns.cov()).dot(W)) ** 0.5\n",
    "    SR = W.T.dot(returns.mean()) / pf_risk\n",
    "    return -SR #### minus SR ; minimize *****"
   ]
  },
  {
   "cell_type": "code",
   "execution_count": 293,
   "id": "cecf2d8b",
   "metadata": {},
   "outputs": [
    {
     "data": {
      "text/plain": [
       "-0.04631958908948932"
      ]
     },
     "execution_count": 293,
     "metadata": {},
     "output_type": "execute_result"
    }
   ],
   "source": [
    "sharpe_pf(W,ret_df)"
   ]
  },
  {
   "cell_type": "code",
   "execution_count": 295,
   "id": "82b8cf56",
   "metadata": {},
   "outputs": [],
   "source": [
    "cons = ({\"type\":\"eq\", \"fun\": lambda x: np.sum(x)-1})  ####constraint ; type -> equality (=0) or inequality ; lambda-> anonymous; on the fly"
   ]
  },
  {
   "cell_type": "code",
   "execution_count": 297,
   "id": "6f36b19a",
   "metadata": {},
   "outputs": [],
   "source": [
    "res = minimize(sharpe_pf,W,ret_df,bounds=Bounds(0,1),constraints = cons) # W-> initial guess"
   ]
  },
  {
   "cell_type": "code",
   "execution_count": 299,
   "id": "18450646",
   "metadata": {},
   "outputs": [
    {
     "data": {
      "text/plain": [
       " message: Optimization terminated successfully\n",
       " success: True\n",
       "  status: 0\n",
       "     fun: -0.050460985708449625\n",
       "       x: [ 3.913e-01  0.000e+00  1.319e-01  4.767e-01]\n",
       "     nit: 13\n",
       "     jac: [-9.391e-05  5.334e-03  3.899e-05  6.630e-05]\n",
       "    nfev: 66\n",
       "    njev: 13"
      ]
     },
     "execution_count": 299,
     "metadata": {},
     "output_type": "execute_result"
    }
   ],
   "source": [
    "res ### x-> optimized weights"
   ]
  },
  {
   "cell_type": "code",
   "execution_count": 301,
   "id": "6cb86245",
   "metadata": {},
   "outputs": [],
   "source": [
    "opt_W = res['x']"
   ]
  },
  {
   "cell_type": "code",
   "execution_count": 303,
   "id": "3382eab8",
   "metadata": {
    "scrolled": true
   },
   "outputs": [
    {
     "data": {
      "text/plain": [
       "<Axes: xlabel='Date'>"
      ]
     },
     "execution_count": 303,
     "metadata": {},
     "output_type": "execute_result"
    },
    {
     "data": {
      "image/png": "[encoded data removed]",
      "text/plain": [
       "<Figure size 640x480 with 1 Axes>"
      ]
     },
     "metadata": {},
     "output_type": "display_data"
    }
   ],
   "source": [
    "ret_df.dot(opt_W).cumsum().plot()"
   ]
  },
  {
   "cell_type": "code",
   "execution_count": 305,
   "id": "a4bb19ba",
   "metadata": {},
   "outputs": [
    {
     "data": {
      "text/plain": [
       "Date\n",
       "2010-01-04         NaN\n",
       "2010-01-05         NaN\n",
       "2010-01-06         NaN\n",
       "2010-01-07         NaN\n",
       "2010-01-08         NaN\n",
       "                ...   \n",
       "2024-08-26    1.752602\n",
       "2024-08-27    1.750599\n",
       "2024-08-28    1.743201\n",
       "2024-08-29    1.747368\n",
       "2024-08-30         NaN\n",
       "Length: 3691, dtype: float64"
      ]
     },
     "execution_count": 305,
     "metadata": {},
     "output_type": "execute_result"
    }
   ],
   "source": [
    "ret_df.dot(opt_W).cumsum()"
   ]
  },
  {
   "cell_type": "code",
   "execution_count": 307,
   "id": "b69ac49b",
   "metadata": {
    "scrolled": true
   },
   "outputs": [
    {
     "data": {
      "text/plain": [
       "Date\n",
       "2010-01-04         NaN\n",
       "2010-01-05         NaN\n",
       "2010-01-06         NaN\n",
       "2010-01-07         NaN\n",
       "2010-01-08         NaN\n",
       "                ...   \n",
       "2024-08-26    2.130968\n",
       "2024-08-27    2.125608\n",
       "2024-08-28    2.118845\n",
       "2024-08-29    2.124392\n",
       "2024-08-30         NaN\n",
       "Length: 3691, dtype: float64"
      ]
     },
     "execution_count": 307,
     "metadata": {},
     "output_type": "execute_result"
    }
   ],
   "source": [
    "ret_df.dot(W).cumsum()"
   ]
  },
  {
   "cell_type": "code",
   "execution_count": 309,
   "id": "431f8fbd",
   "metadata": {
    "scrolled": true
   },
   "outputs": [
    {
     "data": {
      "text/plain": [
       "-0.050460985708449625"
      ]
     },
     "execution_count": 309,
     "metadata": {},
     "output_type": "execute_result"
    }
   ],
   "source": [
    "sharpe_pf(opt_W,ret_df)"
   ]
  },
  {
   "cell_type": "code",
   "execution_count": 311,
   "id": "68fd2e62",
   "metadata": {},
   "outputs": [
    {
     "data": {
      "text/plain": [
       "-0.04631958908948932"
      ]
     },
     "execution_count": 311,
     "metadata": {},
     "output_type": "execute_result"
    }
   ],
   "source": [
    "sharpe_pf(W,ret_df)"
   ]
  },
  {
   "cell_type": "code",
   "execution_count": 313,
   "id": "287cd5d1-374f-4123-b8ac-72445f2afbc2",
   "metadata": {},
   "outputs": [
    {
     "data": {
      "text/plain": [
       "array([1.  , 0.99, 0.98, 0.97, 0.96, 0.95, 0.94, 0.93, 0.92, 0.91, 0.9 ,\n",
       "       0.89, 0.88, 0.87, 0.86, 0.85, 0.84, 0.83, 0.82, 0.81, 0.8 , 0.79,\n",
       "       0.78, 0.77, 0.76, 0.75, 0.74, 0.73, 0.72, 0.71, 0.7 , 0.69, 0.68,\n",
       "       0.67, 0.66, 0.65, 0.64, 0.63, 0.62, 0.61, 0.6 , 0.59, 0.58, 0.57,\n",
       "       0.56, 0.55, 0.54, 0.53, 0.52, 0.51, 0.5 , 0.49, 0.48, 0.47, 0.46,\n",
       "       0.45, 0.44, 0.43, 0.42, 0.41, 0.4 , 0.39, 0.38, 0.37, 0.36, 0.35,\n",
       "       0.34, 0.33, 0.32, 0.31, 0.3 , 0.29, 0.28, 0.27, 0.26, 0.25, 0.24,\n",
       "       0.23, 0.22, 0.21, 0.2 , 0.19, 0.18, 0.17, 0.16, 0.15, 0.14, 0.13,\n",
       "       0.12, 0.11, 0.1 , 0.09, 0.08, 0.07, 0.06, 0.05, 0.04, 0.03, 0.02,\n",
       "       0.01])"
      ]
     },
     "execution_count": 313,
     "metadata": {},
     "output_type": "execute_result"
    }
   ],
   "source": [
    "1-np.arange(0,1,0.01) #counter-weights"
   ]
  },
  {
   "cell_type": "code",
   "execution_count": 289,
   "id": "18b65e35-e479-436c-a5aa-9c2886c29d4f",
   "metadata": {},
   "outputs": [
    {
     "name": "stdout",
     "output_type": "stream",
     "text": [
      "[0. 1.]\n"
     ]
    },
    {
     "ename": "ValueError",
     "evalue": "shapes (2,) and (4,4) not aligned: 2 (dim 0) != 4 (dim 0)",
     "output_type": "error",
     "traceback": [
      "\u001b[0;31m---------------------------------------------------------------------------\u001b[0m",
      "\u001b[0;31mValueError\u001b[0m                                Traceback (most recent call last)",
      "Cell \u001b[0;32mIn[289], line 7\u001b[0m\n\u001b[1;32m      5\u001b[0m weights \u001b[38;5;241m=\u001b[39m np\u001b[38;5;241m.\u001b[39marray(weights)\n\u001b[1;32m      6\u001b[0m \u001b[38;5;28mprint\u001b[39m(weights)\n\u001b[0;32m----> 7\u001b[0m sharpes\u001b[38;5;241m.\u001b[39mappend(\u001b[43msharpe_pf\u001b[49m\u001b[43m(\u001b[49m\u001b[43mweights\u001b[49m\u001b[43m,\u001b[49m\u001b[43mret_df\u001b[49m\u001b[43m)\u001b[49m)\n",
      "Cell \u001b[0;32mIn[232], line 2\u001b[0m, in \u001b[0;36msharpe_pf\u001b[0;34m(W, returns)\u001b[0m\n\u001b[1;32m      1\u001b[0m \u001b[38;5;28;01mdef\u001b[39;00m \u001b[38;5;21msharpe_pf\u001b[39m(W, returns):\n\u001b[0;32m----> 2\u001b[0m     pf_risk \u001b[38;5;241m=\u001b[39m (\u001b[43mW\u001b[49m\u001b[38;5;241;43m.\u001b[39;49m\u001b[43mdot\u001b[49m\u001b[43m(\u001b[49m\u001b[43mreturns\u001b[49m\u001b[38;5;241;43m.\u001b[39;49m\u001b[43mcov\u001b[49m\u001b[43m(\u001b[49m\u001b[43m)\u001b[49m\u001b[43m)\u001b[49m\u001b[38;5;241m.\u001b[39mdot(W)) \u001b[38;5;241m*\u001b[39m\u001b[38;5;241m*\u001b[39m \u001b[38;5;241m0.5\u001b[39m\n\u001b[1;32m      3\u001b[0m     SR \u001b[38;5;241m=\u001b[39m W\u001b[38;5;241m.\u001b[39mT\u001b[38;5;241m.\u001b[39mdot(returns\u001b[38;5;241m.\u001b[39mmean()) \u001b[38;5;241m/\u001b[39m pf_risk\n\u001b[1;32m      4\u001b[0m     \u001b[38;5;28;01mreturn\u001b[39;00m \u001b[38;5;241m-\u001b[39mSR\n",
      "\u001b[0;31mValueError\u001b[0m: shapes (2,) and (4,4) not aligned: 2 (dim 0) != 4 (dim 0)"
     ]
    }
   ],
   "source": [
    "sharpes=[]\n",
    "\n",
    "for w in np.arange(0,1,0.01):\n",
    "    weights = w,1-w\n",
    "    weights = np.array(weights)\n",
    "    print(weights)\n",
    "    sharpes.append(sharpe_pf(weights,ret_df))"
   ]
  },
  {
   "cell_type": "code",
   "execution_count": 209,
   "id": "7b4bd02c-af6a-423d-90f4-754369ea1715",
   "metadata": {},
   "outputs": [
    {
     "data": {
      "text/plain": [
       "Series([], dtype: object)"
      ]
     },
     "execution_count": 209,
     "metadata": {},
     "output_type": "execute_result"
    }
   ],
   "source": [
    "pd.Series(sharpes)"
   ]
  },
  {
   "cell_type": "code",
   "execution_count": 211,
   "id": "27e758f2-bdb4-4a16-aef0-87847737882a",
   "metadata": {},
   "outputs": [
    {
     "ename": "TypeError",
     "evalue": "no numeric data to plot",
     "output_type": "error",
     "traceback": [
      "\u001b[0;31m---------------------------------------------------------------------------\u001b[0m",
      "\u001b[0;31mTypeError\u001b[0m                                 Traceback (most recent call last)",
      "Cell \u001b[0;32mIn[211], line 1\u001b[0m\n\u001b[0;32m----> 1\u001b[0m \u001b[43mpd\u001b[49m\u001b[38;5;241;43m.\u001b[39;49m\u001b[43mSeries\u001b[49m\u001b[43m(\u001b[49m\u001b[43msharpes\u001b[49m\u001b[43m)\u001b[49m\u001b[38;5;241;43m.\u001b[39;49m\u001b[43mplot\u001b[49m\u001b[43m(\u001b[49m\u001b[43m)\u001b[49m\n",
      "File \u001b[0;32m/opt/anaconda3/lib/python3.10/site-packages/pandas/plotting/_core.py:1030\u001b[0m, in \u001b[0;36mPlotAccessor.__call__\u001b[0;34m(self, *args, **kwargs)\u001b[0m\n\u001b[1;32m   1027\u001b[0m             label_name \u001b[38;5;241m=\u001b[39m label_kw \u001b[38;5;129;01mor\u001b[39;00m data\u001b[38;5;241m.\u001b[39mcolumns\n\u001b[1;32m   1028\u001b[0m             data\u001b[38;5;241m.\u001b[39mcolumns \u001b[38;5;241m=\u001b[39m label_name\n\u001b[0;32m-> 1030\u001b[0m \u001b[38;5;28;01mreturn\u001b[39;00m \u001b[43mplot_backend\u001b[49m\u001b[38;5;241;43m.\u001b[39;49m\u001b[43mplot\u001b[49m\u001b[43m(\u001b[49m\u001b[43mdata\u001b[49m\u001b[43m,\u001b[49m\u001b[43m \u001b[49m\u001b[43mkind\u001b[49m\u001b[38;5;241;43m=\u001b[39;49m\u001b[43mkind\u001b[49m\u001b[43m,\u001b[49m\u001b[43m \u001b[49m\u001b[38;5;241;43m*\u001b[39;49m\u001b[38;5;241;43m*\u001b[39;49m\u001b[43mkwargs\u001b[49m\u001b[43m)\u001b[49m\n",
      "File \u001b[0;32m/opt/anaconda3/lib/python3.10/site-packages/pandas/plotting/_matplotlib/__init__.py:71\u001b[0m, in \u001b[0;36mplot\u001b[0;34m(data, kind, **kwargs)\u001b[0m\n\u001b[1;32m     69\u001b[0m         kwargs[\u001b[38;5;124m\"\u001b[39m\u001b[38;5;124max\u001b[39m\u001b[38;5;124m\"\u001b[39m] \u001b[38;5;241m=\u001b[39m \u001b[38;5;28mgetattr\u001b[39m(ax, \u001b[38;5;124m\"\u001b[39m\u001b[38;5;124mleft_ax\u001b[39m\u001b[38;5;124m\"\u001b[39m, ax)\n\u001b[1;32m     70\u001b[0m plot_obj \u001b[38;5;241m=\u001b[39m PLOT_CLASSES[kind](data, \u001b[38;5;241m*\u001b[39m\u001b[38;5;241m*\u001b[39mkwargs)\n\u001b[0;32m---> 71\u001b[0m \u001b[43mplot_obj\u001b[49m\u001b[38;5;241;43m.\u001b[39;49m\u001b[43mgenerate\u001b[49m\u001b[43m(\u001b[49m\u001b[43m)\u001b[49m\n\u001b[1;32m     72\u001b[0m plot_obj\u001b[38;5;241m.\u001b[39mdraw()\n\u001b[1;32m     73\u001b[0m \u001b[38;5;28;01mreturn\u001b[39;00m plot_obj\u001b[38;5;241m.\u001b[39mresult\n",
      "File \u001b[0;32m/opt/anaconda3/lib/python3.10/site-packages/pandas/plotting/_matplotlib/core.py:499\u001b[0m, in \u001b[0;36mMPLPlot.generate\u001b[0;34m(self)\u001b[0m\n\u001b[1;32m    497\u001b[0m \u001b[38;5;129m@final\u001b[39m\n\u001b[1;32m    498\u001b[0m \u001b[38;5;28;01mdef\u001b[39;00m \u001b[38;5;21mgenerate\u001b[39m(\u001b[38;5;28mself\u001b[39m) \u001b[38;5;241m-\u001b[39m\u001b[38;5;241m>\u001b[39m \u001b[38;5;28;01mNone\u001b[39;00m:\n\u001b[0;32m--> 499\u001b[0m     \u001b[38;5;28;43mself\u001b[39;49m\u001b[38;5;241;43m.\u001b[39;49m\u001b[43m_compute_plot_data\u001b[49m\u001b[43m(\u001b[49m\u001b[43m)\u001b[49m\n\u001b[1;32m    500\u001b[0m     fig \u001b[38;5;241m=\u001b[39m \u001b[38;5;28mself\u001b[39m\u001b[38;5;241m.\u001b[39mfig\n\u001b[1;32m    501\u001b[0m     \u001b[38;5;28mself\u001b[39m\u001b[38;5;241m.\u001b[39m_make_plot(fig)\n",
      "File \u001b[0;32m/opt/anaconda3/lib/python3.10/site-packages/pandas/plotting/_matplotlib/core.py:698\u001b[0m, in \u001b[0;36mMPLPlot._compute_plot_data\u001b[0;34m(self)\u001b[0m\n\u001b[1;32m    696\u001b[0m \u001b[38;5;66;03m# no non-numeric frames or series allowed\u001b[39;00m\n\u001b[1;32m    697\u001b[0m \u001b[38;5;28;01mif\u001b[39;00m is_empty:\n\u001b[0;32m--> 698\u001b[0m     \u001b[38;5;28;01mraise\u001b[39;00m \u001b[38;5;167;01mTypeError\u001b[39;00m(\u001b[38;5;124m\"\u001b[39m\u001b[38;5;124mno numeric data to plot\u001b[39m\u001b[38;5;124m\"\u001b[39m)\n\u001b[1;32m    700\u001b[0m \u001b[38;5;28mself\u001b[39m\u001b[38;5;241m.\u001b[39mdata \u001b[38;5;241m=\u001b[39m numeric_data\u001b[38;5;241m.\u001b[39mapply(\u001b[38;5;28mtype\u001b[39m(\u001b[38;5;28mself\u001b[39m)\u001b[38;5;241m.\u001b[39m_convert_to_ndarray)\n",
      "\u001b[0;31mTypeError\u001b[0m: no numeric data to plot"
     ]
    }
   ],
   "source": [
    "pd.Series(sharpes).plot()"
   ]
  },
  {
   "cell_type": "code",
   "execution_count": 121,
   "id": "02ae5598-4390-436a-a4fd-0f303b0f5f95",
   "metadata": {},
   "outputs": [
    {
     "data": {
      "text/plain": [
       "38   -0.045046\n",
       "dtype: float64"
      ]
     },
     "execution_count": 121,
     "metadata": {},
     "output_type": "execute_result"
    }
   ],
   "source": [
    "pd.Series(sharpes).nsmallest(1)"
   ]
  },
  {
   "cell_type": "code",
   "execution_count": 125,
   "id": "5a81d2b7-5cec-4016-a157-3d7dc50d9083",
   "metadata": {},
   "outputs": [
    {
     "data": {
      "text/plain": [
       "0.38"
      ]
     },
     "execution_count": 125,
     "metadata": {},
     "output_type": "execute_result"
    }
   ],
   "source": [
    "np.arange(0,1,0.01)[38] #imp....****"
   ]
  },
  {
   "cell_type": "code",
   "execution_count": 315,
   "id": "52ba68b5-8ee9-4d6d-a4af-7326d38053c9",
   "metadata": {},
   "outputs": [],
   "source": [
    "#####splitting the dataset"
   ]
  },
  {
   "cell_type": "code",
   "execution_count": 317,
   "id": "2c52accd",
   "metadata": {},
   "outputs": [],
   "source": [
    "train = ret_df[:int(len(ret_df) * 0.7)]"
   ]
  },
  {
   "cell_type": "code",
   "execution_count": 319,
   "id": "af9875a9",
   "metadata": {},
   "outputs": [],
   "source": [
    "test = ret_df[int(len(ret_df) * 0.7):]"
   ]
  },
  {
   "cell_type": "code",
   "execution_count": 133,
   "id": "cd8ecd47",
   "metadata": {},
   "outputs": [
    {
     "data": {
      "text/plain": [
       "0.007949709765156373"
      ]
     },
     "execution_count": 133,
     "metadata": {},
     "output_type": "execute_result"
    }
   ],
   "source": [
    "ret_df.dot(opt_W).std()"
   ]
  },
  {
   "cell_type": "code",
   "execution_count": 291,
   "id": "1e9cab6c",
   "metadata": {},
   "outputs": [
    {
     "ename": "ValueError",
     "evalue": "shapes (4,) and (2,2) not aligned: 4 (dim 0) != 2 (dim 0)",
     "output_type": "error",
     "traceback": [
      "\u001b[0;31m---------------------------------------------------------------------------\u001b[0m",
      "\u001b[0;31mValueError\u001b[0m                                Traceback (most recent call last)",
      "Cell \u001b[0;32mIn[291], line 1\u001b[0m\n\u001b[0;32m----> 1\u001b[0m res_train \u001b[38;5;241m=\u001b[39m \u001b[43mminimize\u001b[49m\u001b[43m(\u001b[49m\u001b[43msharpe_pf\u001b[49m\u001b[43m,\u001b[49m\u001b[43mW\u001b[49m\u001b[43m,\u001b[49m\u001b[43mtrain\u001b[49m\u001b[43m,\u001b[49m\u001b[43mbounds\u001b[49m\u001b[38;5;241;43m=\u001b[39;49m\u001b[43mBounds\u001b[49m\u001b[43m(\u001b[49m\u001b[38;5;241;43m0\u001b[39;49m\u001b[43m,\u001b[49m\u001b[38;5;241;43m1\u001b[39;49m\u001b[43m)\u001b[49m\u001b[43m,\u001b[49m\u001b[43mconstraints\u001b[49m\u001b[43m \u001b[49m\u001b[38;5;241;43m=\u001b[39;49m\u001b[43m \u001b[49m\u001b[43mcons\u001b[49m\u001b[43m)\u001b[49m\n",
      "File \u001b[0;32m/opt/anaconda3/lib/python3.10/site-packages/scipy/optimize/_minimize.py:722\u001b[0m, in \u001b[0;36mminimize\u001b[0;34m(fun, x0, args, method, jac, hess, hessp, bounds, constraints, tol, callback, options)\u001b[0m\n\u001b[1;32m    719\u001b[0m     res \u001b[38;5;241m=\u001b[39m _minimize_cobyla(fun, x0, args, constraints, callback\u001b[38;5;241m=\u001b[39mcallback,\n\u001b[1;32m    720\u001b[0m                            bounds\u001b[38;5;241m=\u001b[39mbounds, \u001b[38;5;241m*\u001b[39m\u001b[38;5;241m*\u001b[39moptions)\n\u001b[1;32m    721\u001b[0m \u001b[38;5;28;01melif\u001b[39;00m meth \u001b[38;5;241m==\u001b[39m \u001b[38;5;124m'\u001b[39m\u001b[38;5;124mslsqp\u001b[39m\u001b[38;5;124m'\u001b[39m:\n\u001b[0;32m--> 722\u001b[0m     res \u001b[38;5;241m=\u001b[39m \u001b[43m_minimize_slsqp\u001b[49m\u001b[43m(\u001b[49m\u001b[43mfun\u001b[49m\u001b[43m,\u001b[49m\u001b[43m \u001b[49m\u001b[43mx0\u001b[49m\u001b[43m,\u001b[49m\u001b[43m \u001b[49m\u001b[43margs\u001b[49m\u001b[43m,\u001b[49m\u001b[43m \u001b[49m\u001b[43mjac\u001b[49m\u001b[43m,\u001b[49m\u001b[43m \u001b[49m\u001b[43mbounds\u001b[49m\u001b[43m,\u001b[49m\n\u001b[1;32m    723\u001b[0m \u001b[43m                          \u001b[49m\u001b[43mconstraints\u001b[49m\u001b[43m,\u001b[49m\u001b[43m \u001b[49m\u001b[43mcallback\u001b[49m\u001b[38;5;241;43m=\u001b[39;49m\u001b[43mcallback\u001b[49m\u001b[43m,\u001b[49m\u001b[43m \u001b[49m\u001b[38;5;241;43m*\u001b[39;49m\u001b[38;5;241;43m*\u001b[39;49m\u001b[43moptions\u001b[49m\u001b[43m)\u001b[49m\n\u001b[1;32m    724\u001b[0m \u001b[38;5;28;01melif\u001b[39;00m meth \u001b[38;5;241m==\u001b[39m \u001b[38;5;124m'\u001b[39m\u001b[38;5;124mtrust-constr\u001b[39m\u001b[38;5;124m'\u001b[39m:\n\u001b[1;32m    725\u001b[0m     res \u001b[38;5;241m=\u001b[39m _minimize_trustregion_constr(fun, x0, args, jac, hess, hessp,\n\u001b[1;32m    726\u001b[0m                                        bounds, constraints,\n\u001b[1;32m    727\u001b[0m                                        callback\u001b[38;5;241m=\u001b[39mcallback, \u001b[38;5;241m*\u001b[39m\u001b[38;5;241m*\u001b[39moptions)\n",
      "File \u001b[0;32m/opt/anaconda3/lib/python3.10/site-packages/scipy/optimize/_slsqp_py.py:383\u001b[0m, in \u001b[0;36m_minimize_slsqp\u001b[0;34m(func, x0, args, jac, bounds, constraints, maxiter, ftol, iprint, disp, eps, callback, finite_diff_rel_step, **unknown_options)\u001b[0m\n\u001b[1;32m    380\u001b[0m     xu[infbnd[:, \u001b[38;5;241m1\u001b[39m]] \u001b[38;5;241m=\u001b[39m np\u001b[38;5;241m.\u001b[39mnan\n\u001b[1;32m    382\u001b[0m \u001b[38;5;66;03m# ScalarFunction provides function and gradient evaluation\u001b[39;00m\n\u001b[0;32m--> 383\u001b[0m sf \u001b[38;5;241m=\u001b[39m \u001b[43m_prepare_scalar_function\u001b[49m\u001b[43m(\u001b[49m\u001b[43mfunc\u001b[49m\u001b[43m,\u001b[49m\u001b[43m \u001b[49m\u001b[43mx\u001b[49m\u001b[43m,\u001b[49m\u001b[43m \u001b[49m\u001b[43mjac\u001b[49m\u001b[38;5;241;43m=\u001b[39;49m\u001b[43mjac\u001b[49m\u001b[43m,\u001b[49m\u001b[43m \u001b[49m\u001b[43margs\u001b[49m\u001b[38;5;241;43m=\u001b[39;49m\u001b[43margs\u001b[49m\u001b[43m,\u001b[49m\u001b[43m \u001b[49m\u001b[43mepsilon\u001b[49m\u001b[38;5;241;43m=\u001b[39;49m\u001b[43meps\u001b[49m\u001b[43m,\u001b[49m\n\u001b[1;32m    384\u001b[0m \u001b[43m                              \u001b[49m\u001b[43mfinite_diff_rel_step\u001b[49m\u001b[38;5;241;43m=\u001b[39;49m\u001b[43mfinite_diff_rel_step\u001b[49m\u001b[43m,\u001b[49m\n\u001b[1;32m    385\u001b[0m \u001b[43m                              \u001b[49m\u001b[43mbounds\u001b[49m\u001b[38;5;241;43m=\u001b[39;49m\u001b[43mnew_bounds\u001b[49m\u001b[43m)\u001b[49m\n\u001b[1;32m    386\u001b[0m \u001b[38;5;66;03m# gh11403 SLSQP sometimes exceeds bounds by 1 or 2 ULP, make sure this\u001b[39;00m\n\u001b[1;32m    387\u001b[0m \u001b[38;5;66;03m# doesn't get sent to the func/grad evaluator.\u001b[39;00m\n\u001b[1;32m    388\u001b[0m wrapped_fun \u001b[38;5;241m=\u001b[39m _clip_x_for_func(sf\u001b[38;5;241m.\u001b[39mfun, new_bounds)\n",
      "File \u001b[0;32m/opt/anaconda3/lib/python3.10/site-packages/scipy/optimize/_optimize.py:288\u001b[0m, in \u001b[0;36m_prepare_scalar_function\u001b[0;34m(fun, x0, jac, args, bounds, epsilon, finite_diff_rel_step, hess)\u001b[0m\n\u001b[1;32m    284\u001b[0m     bounds \u001b[38;5;241m=\u001b[39m (\u001b[38;5;241m-\u001b[39mnp\u001b[38;5;241m.\u001b[39minf, np\u001b[38;5;241m.\u001b[39minf)\n\u001b[1;32m    286\u001b[0m \u001b[38;5;66;03m# ScalarFunction caches. Reuse of fun(x) during grad\u001b[39;00m\n\u001b[1;32m    287\u001b[0m \u001b[38;5;66;03m# calculation reduces overall function evaluations.\u001b[39;00m\n\u001b[0;32m--> 288\u001b[0m sf \u001b[38;5;241m=\u001b[39m \u001b[43mScalarFunction\u001b[49m\u001b[43m(\u001b[49m\u001b[43mfun\u001b[49m\u001b[43m,\u001b[49m\u001b[43m \u001b[49m\u001b[43mx0\u001b[49m\u001b[43m,\u001b[49m\u001b[43m \u001b[49m\u001b[43margs\u001b[49m\u001b[43m,\u001b[49m\u001b[43m \u001b[49m\u001b[43mgrad\u001b[49m\u001b[43m,\u001b[49m\u001b[43m \u001b[49m\u001b[43mhess\u001b[49m\u001b[43m,\u001b[49m\n\u001b[1;32m    289\u001b[0m \u001b[43m                    \u001b[49m\u001b[43mfinite_diff_rel_step\u001b[49m\u001b[43m,\u001b[49m\u001b[43m \u001b[49m\u001b[43mbounds\u001b[49m\u001b[43m,\u001b[49m\u001b[43m \u001b[49m\u001b[43mepsilon\u001b[49m\u001b[38;5;241;43m=\u001b[39;49m\u001b[43mepsilon\u001b[49m\u001b[43m)\u001b[49m\n\u001b[1;32m    291\u001b[0m \u001b[38;5;28;01mreturn\u001b[39;00m sf\n",
      "File \u001b[0;32m/opt/anaconda3/lib/python3.10/site-packages/scipy/optimize/_differentiable_functions.py:166\u001b[0m, in \u001b[0;36mScalarFunction.__init__\u001b[0;34m(self, fun, x0, args, grad, hess, finite_diff_rel_step, finite_diff_bounds, epsilon)\u001b[0m\n\u001b[1;32m    163\u001b[0m     \u001b[38;5;28mself\u001b[39m\u001b[38;5;241m.\u001b[39mf \u001b[38;5;241m=\u001b[39m fun_wrapped(\u001b[38;5;28mself\u001b[39m\u001b[38;5;241m.\u001b[39mx)\n\u001b[1;32m    165\u001b[0m \u001b[38;5;28mself\u001b[39m\u001b[38;5;241m.\u001b[39m_update_fun_impl \u001b[38;5;241m=\u001b[39m update_fun\n\u001b[0;32m--> 166\u001b[0m \u001b[38;5;28;43mself\u001b[39;49m\u001b[38;5;241;43m.\u001b[39;49m\u001b[43m_update_fun\u001b[49m\u001b[43m(\u001b[49m\u001b[43m)\u001b[49m\n\u001b[1;32m    168\u001b[0m \u001b[38;5;66;03m# Gradient evaluation\u001b[39;00m\n\u001b[1;32m    169\u001b[0m \u001b[38;5;28;01mif\u001b[39;00m \u001b[38;5;28mcallable\u001b[39m(grad):\n",
      "File \u001b[0;32m/opt/anaconda3/lib/python3.10/site-packages/scipy/optimize/_differentiable_functions.py:262\u001b[0m, in \u001b[0;36mScalarFunction._update_fun\u001b[0;34m(self)\u001b[0m\n\u001b[1;32m    260\u001b[0m \u001b[38;5;28;01mdef\u001b[39;00m \u001b[38;5;21m_update_fun\u001b[39m(\u001b[38;5;28mself\u001b[39m):\n\u001b[1;32m    261\u001b[0m     \u001b[38;5;28;01mif\u001b[39;00m \u001b[38;5;129;01mnot\u001b[39;00m \u001b[38;5;28mself\u001b[39m\u001b[38;5;241m.\u001b[39mf_updated:\n\u001b[0;32m--> 262\u001b[0m         \u001b[38;5;28;43mself\u001b[39;49m\u001b[38;5;241;43m.\u001b[39;49m\u001b[43m_update_fun_impl\u001b[49m\u001b[43m(\u001b[49m\u001b[43m)\u001b[49m\n\u001b[1;32m    263\u001b[0m         \u001b[38;5;28mself\u001b[39m\u001b[38;5;241m.\u001b[39mf_updated \u001b[38;5;241m=\u001b[39m \u001b[38;5;28;01mTrue\u001b[39;00m\n",
      "File \u001b[0;32m/opt/anaconda3/lib/python3.10/site-packages/scipy/optimize/_differentiable_functions.py:163\u001b[0m, in \u001b[0;36mScalarFunction.__init__.<locals>.update_fun\u001b[0;34m()\u001b[0m\n\u001b[1;32m    162\u001b[0m \u001b[38;5;28;01mdef\u001b[39;00m \u001b[38;5;21mupdate_fun\u001b[39m():\n\u001b[0;32m--> 163\u001b[0m     \u001b[38;5;28mself\u001b[39m\u001b[38;5;241m.\u001b[39mf \u001b[38;5;241m=\u001b[39m \u001b[43mfun_wrapped\u001b[49m\u001b[43m(\u001b[49m\u001b[38;5;28;43mself\u001b[39;49m\u001b[38;5;241;43m.\u001b[39;49m\u001b[43mx\u001b[49m\u001b[43m)\u001b[49m\n",
      "File \u001b[0;32m/opt/anaconda3/lib/python3.10/site-packages/scipy/optimize/_differentiable_functions.py:145\u001b[0m, in \u001b[0;36mScalarFunction.__init__.<locals>.fun_wrapped\u001b[0;34m(x)\u001b[0m\n\u001b[1;32m    141\u001b[0m \u001b[38;5;28mself\u001b[39m\u001b[38;5;241m.\u001b[39mnfev \u001b[38;5;241m+\u001b[39m\u001b[38;5;241m=\u001b[39m \u001b[38;5;241m1\u001b[39m\n\u001b[1;32m    142\u001b[0m \u001b[38;5;66;03m# Send a copy because the user may overwrite it.\u001b[39;00m\n\u001b[1;32m    143\u001b[0m \u001b[38;5;66;03m# Overwriting results in undefined behaviour because\u001b[39;00m\n\u001b[1;32m    144\u001b[0m \u001b[38;5;66;03m# fun(self.x) will change self.x, with the two no longer linked.\u001b[39;00m\n\u001b[0;32m--> 145\u001b[0m fx \u001b[38;5;241m=\u001b[39m \u001b[43mfun\u001b[49m\u001b[43m(\u001b[49m\u001b[43mnp\u001b[49m\u001b[38;5;241;43m.\u001b[39;49m\u001b[43mcopy\u001b[49m\u001b[43m(\u001b[49m\u001b[43mx\u001b[49m\u001b[43m)\u001b[49m\u001b[43m,\u001b[49m\u001b[43m \u001b[49m\u001b[38;5;241;43m*\u001b[39;49m\u001b[43margs\u001b[49m\u001b[43m)\u001b[49m\n\u001b[1;32m    146\u001b[0m \u001b[38;5;66;03m# Make sure the function returns a true scalar\u001b[39;00m\n\u001b[1;32m    147\u001b[0m \u001b[38;5;28;01mif\u001b[39;00m \u001b[38;5;129;01mnot\u001b[39;00m np\u001b[38;5;241m.\u001b[39misscalar(fx):\n",
      "Cell \u001b[0;32mIn[232], line 2\u001b[0m, in \u001b[0;36msharpe_pf\u001b[0;34m(W, returns)\u001b[0m\n\u001b[1;32m      1\u001b[0m \u001b[38;5;28;01mdef\u001b[39;00m \u001b[38;5;21msharpe_pf\u001b[39m(W, returns):\n\u001b[0;32m----> 2\u001b[0m     pf_risk \u001b[38;5;241m=\u001b[39m (\u001b[43mW\u001b[49m\u001b[38;5;241;43m.\u001b[39;49m\u001b[43mdot\u001b[49m\u001b[43m(\u001b[49m\u001b[43mreturns\u001b[49m\u001b[38;5;241;43m.\u001b[39;49m\u001b[43mcov\u001b[49m\u001b[43m(\u001b[49m\u001b[43m)\u001b[49m\u001b[43m)\u001b[49m\u001b[38;5;241m.\u001b[39mdot(W)) \u001b[38;5;241m*\u001b[39m\u001b[38;5;241m*\u001b[39m \u001b[38;5;241m0.5\u001b[39m\n\u001b[1;32m      3\u001b[0m     SR \u001b[38;5;241m=\u001b[39m W\u001b[38;5;241m.\u001b[39mT\u001b[38;5;241m.\u001b[39mdot(returns\u001b[38;5;241m.\u001b[39mmean()) \u001b[38;5;241m/\u001b[39m pf_risk\n\u001b[1;32m      4\u001b[0m     \u001b[38;5;28;01mreturn\u001b[39;00m \u001b[38;5;241m-\u001b[39mSR\n",
      "\u001b[0;31mValueError\u001b[0m: shapes (4,) and (2,2) not aligned: 4 (dim 0) != 2 (dim 0)"
     ]
    }
   ],
   "source": [
    "res_train = minimize(sharpe_pf,W,train,bounds=Bounds(0,1),constraints = cons)"
   ]
  },
  {
   "cell_type": "code",
   "execution_count": 139,
   "id": "bb2ed848",
   "metadata": {
    "scrolled": true
   },
   "outputs": [
    {
     "data": {
      "text/plain": [
       "Date\n",
       "2020-04-08    0.021460\n",
       "2020-04-09    0.045738\n",
       "2020-04-13    0.041064\n",
       "2020-04-14    0.062712\n",
       "2020-04-15    0.042375\n",
       "                ...   \n",
       "2024-08-26    0.624039\n",
       "2024-08-27    0.624809\n",
       "2024-08-28    0.618821\n",
       "2024-08-29    0.622364\n",
       "2024-08-30         NaN\n",
       "Length: 1108, dtype: float64"
      ]
     },
     "execution_count": 139,
     "metadata": {},
     "output_type": "execute_result"
    }
   ],
   "source": [
    "test.dot(res_train['x']).cumsum()"
   ]
  },
  {
   "cell_type": "code",
   "execution_count": 147,
   "id": "7431a75a",
   "metadata": {},
   "outputs": [
    {
     "data": {
      "text/plain": [
       "Date\n",
       "2020-04-08    0.016925\n",
       "2020-04-09    0.044933\n",
       "2020-04-13    0.042326\n",
       "2020-04-14    0.060782\n",
       "2020-04-15    0.041176\n",
       "                ...   \n",
       "2024-08-26    0.577650\n",
       "2024-08-27    0.578109\n",
       "2024-08-28    0.572123\n",
       "2024-08-29    0.577017\n",
       "2024-08-30         NaN\n",
       "Length: 1108, dtype: float64"
      ]
     },
     "execution_count": 147,
     "metadata": {},
     "output_type": "execute_result"
    }
   ],
   "source": [
    "test.dot(W).cumsum()"
   ]
  },
  {
   "cell_type": "code",
   "execution_count": 149,
   "id": "d2e86a31",
   "metadata": {},
   "outputs": [
    {
     "data": {
      "text/plain": [
       "-0.068955773076688"
      ]
     },
     "execution_count": 149,
     "metadata": {},
     "output_type": "execute_result"
    }
   ],
   "source": [
    "sharpe_pf(W,test)"
   ]
  },
  {
   "cell_type": "code",
   "execution_count": 151,
   "id": "a9d1205c",
   "metadata": {
    "scrolled": true
   },
   "outputs": [
    {
     "data": {
      "text/plain": [
       "-0.06969986868258667"
      ]
     },
     "execution_count": 151,
     "metadata": {},
     "output_type": "execute_result"
    }
   ],
   "source": [
    "sharpe_pf(res_train['x'],test)"
   ]
  },
  {
   "cell_type": "code",
   "execution_count": 153,
   "id": "5435a5b0-b36b-481c-b77a-25874c8e9123",
   "metadata": {},
   "outputs": [],
   "source": [
    "##### bounds to remove negative weights -> short selling ; in a multi-asset portfolio for instance"
   ]
  },
  {
   "cell_type": "code",
   "execution_count": null,
   "id": "9c41e5b3-5c12-4c04-85fb-c5fabf9099e8",
   "metadata": {},
   "outputs": [],
   "source": []
  },
  {
   "cell_type": "code",
   "execution_count": 309,
   "id": "0b64f03e",
   "metadata": {},
   "outputs": [
    {
     "data": {
      "text/plain": [
       "array([0.17700387, 0.82299613])"
      ]
     },
     "execution_count": 309,
     "metadata": {},
     "output_type": "execute_result"
    }
   ],
   "source": [
    "res_train['x']"
   ]
  },
  {
   "cell_type": "code",
   "execution_count": 310,
   "id": "0fa5b841",
   "metadata": {},
   "outputs": [
    {
     "data": {
      "text/plain": [
       "GC=F     0.010178\n",
       "^GSPC    0.009487\n",
       "dtype: float64"
      ]
     },
     "execution_count": 310,
     "metadata": {},
     "output_type": "execute_result"
    }
   ],
   "source": [
    "train.std()"
   ]
  },
  {
   "cell_type": "code",
   "execution_count": 311,
   "id": "fa219f4e",
   "metadata": {
    "scrolled": true
   },
   "outputs": [
    {
     "data": {
      "text/plain": [
       "GC=F     0.000099\n",
       "^GSPC    0.000393\n",
       "dtype: float64"
      ]
     },
     "execution_count": 311,
     "metadata": {},
     "output_type": "execute_result"
    }
   ],
   "source": [
    "train.mean()"
   ]
  },
  {
   "cell_type": "code",
   "execution_count": 312,
   "id": "811f4b0f",
   "metadata": {
    "scrolled": true
   },
   "outputs": [
    {
     "data": {
      "text/plain": [
       "GC=F     0.010349\n",
       "^GSPC    0.014569\n",
       "dtype: float64"
      ]
     },
     "execution_count": 312,
     "metadata": {},
     "output_type": "execute_result"
    }
   ],
   "source": [
    "test.std()"
   ]
  },
  {
   "cell_type": "code",
   "execution_count": 313,
   "id": "51f463f3",
   "metadata": {},
   "outputs": [
    {
     "data": {
      "text/plain": [
       "GC=F     0.000324\n",
       "^GSPC    0.000370\n",
       "dtype: float64"
      ]
     },
     "execution_count": 313,
     "metadata": {},
     "output_type": "execute_result"
    }
   ],
   "source": [
    "test.mean()"
   ]
  },
  {
   "cell_type": "code",
   "execution_count": 314,
   "id": "9458b173",
   "metadata": {},
   "outputs": [
    {
     "data": {
      "text/plain": [
       "array([0.32889271, 0.67110729])"
      ]
     },
     "execution_count": 314,
     "metadata": {},
     "output_type": "execute_result"
    }
   ],
   "source": [
    "opt_W"
   ]
  },
  {
   "cell_type": "code",
   "execution_count": 286,
   "id": "28426371",
   "metadata": {},
   "outputs": [
    {
     "name": "stdout",
     "output_type": "stream",
     "text": [
      "[0. 1.]\n",
      "[0.01 0.99]\n",
      "[0.02 0.98]\n",
      "[0.03 0.97]\n",
      "[0.04 0.96]\n",
      "[0.05 0.95]\n",
      "[0.06 0.94]\n",
      "[0.07 0.93]\n",
      "[0.08 0.92]\n",
      "[0.09 0.91]\n",
      "[0.1 0.9]\n",
      "[0.11 0.89]\n",
      "[0.12 0.88]\n",
      "[0.13 0.87]\n",
      "[0.14 0.86]\n",
      "[0.15 0.85]\n",
      "[0.16 0.84]\n",
      "[0.17 0.83]\n",
      "[0.18 0.82]\n",
      "[0.19 0.81]\n",
      "[0.2 0.8]\n",
      "[0.21 0.79]\n",
      "[0.22 0.78]\n",
      "[0.23 0.77]\n",
      "[0.24 0.76]\n",
      "[0.25 0.75]\n",
      "[0.26 0.74]\n",
      "[0.27 0.73]\n",
      "[0.28 0.72]\n",
      "[0.29 0.71]\n",
      "[0.3 0.7]\n",
      "[0.31 0.69]\n",
      "[0.32 0.68]\n",
      "[0.33 0.67]\n",
      "[0.34 0.66]\n",
      "[0.35 0.65]\n",
      "[0.36 0.64]\n",
      "[0.37 0.63]\n",
      "[0.38 0.62]\n",
      "[0.39 0.61]\n",
      "[0.4 0.6]\n",
      "[0.41 0.59]\n",
      "[0.42 0.58]\n",
      "[0.43 0.57]\n",
      "[0.44 0.56]\n",
      "[0.45 0.55]\n",
      "[0.46 0.54]\n",
      "[0.47 0.53]\n",
      "[0.48 0.52]\n",
      "[0.49 0.51]\n",
      "[0.5 0.5]\n",
      "[0.51 0.49]\n",
      "[0.52 0.48]\n",
      "[0.53 0.47]\n",
      "[0.54 0.46]\n",
      "[0.55 0.45]\n",
      "[0.56 0.44]\n",
      "[0.57 0.43]\n",
      "[0.58 0.42]\n",
      "[0.59 0.41]\n",
      "[0.6 0.4]\n",
      "[0.61 0.39]\n",
      "[0.62 0.38]\n",
      "[0.63 0.37]\n",
      "[0.64 0.36]\n",
      "[0.65 0.35]\n",
      "[0.66 0.34]\n",
      "[0.67 0.33]\n",
      "[0.68 0.32]\n",
      "[0.69 0.31]\n",
      "[0.7 0.3]\n",
      "[0.71 0.29]\n",
      "[0.72 0.28]\n",
      "[0.73 0.27]\n",
      "[0.74 0.26]\n",
      "[0.75 0.25]\n",
      "[0.76 0.24]\n",
      "[0.77 0.23]\n",
      "[0.78 0.22]\n",
      "[0.79 0.21]\n",
      "[0.8 0.2]\n",
      "[0.81 0.19]\n",
      "[0.82 0.18]\n",
      "[0.83 0.17]\n",
      "[0.84 0.16]\n",
      "[0.85 0.15]\n",
      "[0.86 0.14]\n",
      "[0.87 0.13]\n",
      "[0.88 0.12]\n",
      "[0.89 0.11]\n",
      "[0.9 0.1]\n",
      "[0.91 0.09]\n",
      "[0.92 0.08]\n",
      "[0.93 0.07]\n",
      "[0.94 0.06]\n",
      "[0.95 0.05]\n",
      "[0.96 0.04]\n",
      "[0.97 0.03]\n",
      "[0.98 0.02]\n",
      "[0.99 0.01]\n"
     ]
    }
   ],
   "source": [
    "sharpes = []\n",
    "\n",
    "for w in np.arange(0,1,0.01):\n",
    "    weights = w,1-w\n",
    "    weights = np.array(weights)\n",
    "    print(weights)\n",
    "    sharpes.append(sharpe_pf(weights,ret_df))\n",
    "    #print(i,e)"
   ]
  },
  {
   "cell_type": "code",
   "execution_count": 277,
   "id": "d33f014b",
   "metadata": {},
   "outputs": [],
   "source": [
    "import pandas as pd"
   ]
  },
  {
   "cell_type": "code",
   "execution_count": 282,
   "id": "fc5c9422",
   "metadata": {},
   "outputs": [
    {
     "data": {
      "text/plain": [
       "33   -0.037359\n",
       "dtype: float64"
      ]
     },
     "execution_count": 282,
     "metadata": {},
     "output_type": "execute_result"
    }
   ],
   "source": [
    "pd.Series(sharpes).nsmallest(1)"
   ]
  },
  {
   "cell_type": "code",
   "execution_count": 279,
   "id": "b5f62a12",
   "metadata": {},
   "outputs": [
    {
     "data": {
      "text/plain": [
       "<matplotlib.axes._subplots.AxesSubplot at 0x16a4bd4f0>"
      ]
     },
     "execution_count": 279,
     "metadata": {},
     "output_type": "execute_result"
    },
    {
     "data": {
      "image/png": "[encoded data removed]",
      "text/plain": [
       "<Figure size 432x288 with 1 Axes>"
      ]
     },
     "metadata": {
      "needs_background": "light"
     },
     "output_type": "display_data"
    }
   ],
   "source": [
    "pd.Series(sharpes).plot()"
   ]
  },
  {
   "cell_type": "code",
   "execution_count": null,
   "id": "895f21dd",
   "metadata": {},
   "outputs": [],
   "source": []
  }
 ],
 "metadata": {
  "kernelspec": {
   "display_name": "Python 3 (ipykernel)",
   "language": "python",
   "name": "python3"
  },
  "language_info": {
   "codemirror_mode": {
    "name": "ipython",
    "version": 3
   },
   "file_extension": ".py",
   "mimetype": "text/x-python",
   "name": "python",
   "nbconvert_exporter": "python",
   "pygments_lexer": "ipython3",
   "version": "3.10.14"
  }
 },
 "nbformat": 4,
 "nbformat_minor": 5
}
