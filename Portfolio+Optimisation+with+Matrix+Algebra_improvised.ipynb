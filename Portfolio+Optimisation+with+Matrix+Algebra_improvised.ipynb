{
 "cells": [
  {
   "cell_type": "code",
   "execution_count": 4,
   "id": "8514e8ec",
   "metadata": {},
   "outputs": [],
   "source": [
    "#No investment advice!\n",
    "#video instructions: https://youtu.be/t4jrCnrpgdw\n",
    "#& PartII: https://youtu.be/hTfja2lu5zY"
   ]
  },
  {
   "cell_type": "code",
   "execution_count": 5,
   "id": "3f280157",
   "metadata": {},
   "outputs": [],
   "source": [
    "import yfinance as yf\n",
    "import numpy as np\n",
    "import pandas as pd\n",
    "from scipy.optimize import minimize##### imp.******\n",
    "from scipy.optimize import Bounds"
   ]
  },
  {
   "cell_type": "code",
   "execution_count": 6,
   "id": "07a539cc",
   "metadata": {},
   "outputs": [],
   "source": [
    "tickers = ['^GSPC','GC=F','TSLA','MMM']"
   ]
  },
  {
   "cell_type": "code",
   "execution_count": 7,
   "id": "5e2c65d7",
   "metadata": {
    "scrolled": true
   },
   "outputs": [
    {
     "name": "stderr",
     "output_type": "stream",
     "text": [
      "[*********************100%%**********************]  4 of 4 completed\n"
     ]
    }
   ],
   "source": [
    "df = yf.download(tickers,start='2010-01-01')['Adj Close']"
   ]
  },
  {
   "cell_type": "code",
   "execution_count": 8,
   "id": "ae93805d",
   "metadata": {},
   "outputs": [],
   "source": [
    "ret_df = np.log(df/df.shift(1)) #daily log returns"
   ]
  },
  {
   "cell_type": "code",
   "execution_count": 9,
   "id": "83328cc3-803d-4f0f-9c32-072558d5bea5",
   "metadata": {},
   "outputs": [
    {
     "data": {
      "text/html": [
       "<div>\n",
       "<style scoped>\n",
       "    .dataframe tbody tr th:only-of-type {\n",
       "        vertical-align: middle;\n",
       "    }\n",
       "\n",
       "    .dataframe tbody tr th {\n",
       "        vertical-align: top;\n",
       "    }\n",
       "\n",
       "    .dataframe thead th {\n",
       "        text-align: right;\n",
       "    }\n",
       "</style>\n",
       "<table border=\"1\" class=\"dataframe\">\n",
       "  <thead>\n",
       "    <tr style=\"text-align: right;\">\n",
       "      <th>Ticker</th>\n",
       "      <th>GC=F</th>\n",
       "      <th>MMM</th>\n",
       "      <th>TSLA</th>\n",
       "      <th>^GSPC</th>\n",
       "    </tr>\n",
       "    <tr>\n",
       "      <th>Date</th>\n",
       "      <th></th>\n",
       "      <th></th>\n",
       "      <th></th>\n",
       "      <th></th>\n",
       "    </tr>\n",
       "  </thead>\n",
       "  <tbody>\n",
       "    <tr>\n",
       "      <th>2010-01-04</th>\n",
       "      <td>NaN</td>\n",
       "      <td>NaN</td>\n",
       "      <td>NaN</td>\n",
       "      <td>NaN</td>\n",
       "    </tr>\n",
       "    <tr>\n",
       "      <th>2010-01-05</th>\n",
       "      <td>0.000358</td>\n",
       "      <td>-0.006284</td>\n",
       "      <td>NaN</td>\n",
       "      <td>0.003111</td>\n",
       "    </tr>\n",
       "    <tr>\n",
       "      <th>2010-01-06</th>\n",
       "      <td>0.015795</td>\n",
       "      <td>0.014082</td>\n",
       "      <td>NaN</td>\n",
       "      <td>0.000545</td>\n",
       "    </tr>\n",
       "    <tr>\n",
       "      <th>2010-01-07</th>\n",
       "      <td>-0.002468</td>\n",
       "      <td>0.000717</td>\n",
       "      <td>NaN</td>\n",
       "      <td>0.003993</td>\n",
       "    </tr>\n",
       "    <tr>\n",
       "      <th>2010-01-08</th>\n",
       "      <td>0.004491</td>\n",
       "      <td>0.007022</td>\n",
       "      <td>NaN</td>\n",
       "      <td>0.002878</td>\n",
       "    </tr>\n",
       "    <tr>\n",
       "      <th>...</th>\n",
       "      <td>...</td>\n",
       "      <td>...</td>\n",
       "      <td>...</td>\n",
       "      <td>...</td>\n",
       "    </tr>\n",
       "    <tr>\n",
       "      <th>2024-08-26</th>\n",
       "      <td>0.003701</td>\n",
       "      <td>0.015285</td>\n",
       "      <td>-0.032803</td>\n",
       "      <td>-0.003159</td>\n",
       "    </tr>\n",
       "    <tr>\n",
       "      <th>2024-08-27</th>\n",
       "      <td>-0.000675</td>\n",
       "      <td>-0.003419</td>\n",
       "      <td>-0.018939</td>\n",
       "      <td>0.001594</td>\n",
       "    </tr>\n",
       "    <tr>\n",
       "      <th>2024-08-28</th>\n",
       "      <td>-0.005980</td>\n",
       "      <td>0.001597</td>\n",
       "      <td>-0.016677</td>\n",
       "      <td>-0.005994</td>\n",
       "    </tr>\n",
       "    <tr>\n",
       "      <th>2024-08-29</th>\n",
       "      <td>0.009828</td>\n",
       "      <td>0.009829</td>\n",
       "      <td>0.002573</td>\n",
       "      <td>-0.000039</td>\n",
       "    </tr>\n",
       "    <tr>\n",
       "      <th>2024-08-30</th>\n",
       "      <td>0.012473</td>\n",
       "      <td>NaN</td>\n",
       "      <td>NaN</td>\n",
       "      <td>NaN</td>\n",
       "    </tr>\n",
       "  </tbody>\n",
       "</table>\n",
       "<p>3691 rows × 4 columns</p>\n",
       "</div>"
      ],
      "text/plain": [
       "Ticker          GC=F       MMM      TSLA     ^GSPC\n",
       "Date                                              \n",
       "2010-01-04       NaN       NaN       NaN       NaN\n",
       "2010-01-05  0.000358 -0.006284       NaN  0.003111\n",
       "2010-01-06  0.015795  0.014082       NaN  0.000545\n",
       "2010-01-07 -0.002468  0.000717       NaN  0.003993\n",
       "2010-01-08  0.004491  0.007022       NaN  0.002878\n",
       "...              ...       ...       ...       ...\n",
       "2024-08-26  0.003701  0.015285 -0.032803 -0.003159\n",
       "2024-08-27 -0.000675 -0.003419 -0.018939  0.001594\n",
       "2024-08-28 -0.005980  0.001597 -0.016677 -0.005994\n",
       "2024-08-29  0.009828  0.009829  0.002573 -0.000039\n",
       "2024-08-30  0.012473       NaN       NaN       NaN\n",
       "\n",
       "[3691 rows x 4 columns]"
      ]
     },
     "execution_count": 9,
     "metadata": {},
     "output_type": "execute_result"
    }
   ],
   "source": [
    "ret_df"
   ]
  },
  {
   "cell_type": "code",
   "execution_count": 10,
   "id": "20c6425d-a847-4b73-aed2-efffd45d1922",
   "metadata": {},
   "outputs": [
    {
     "data": {
      "text/plain": [
       "Ticker\n",
       "GC=F     0.000237\n",
       "MMM      0.000298\n",
       "TSLA     0.001363\n",
       "^GSPC    0.000433\n",
       "dtype: float64"
      ]
     },
     "execution_count": 10,
     "metadata": {},
     "output_type": "execute_result"
    }
   ],
   "source": [
    "ret_df.mean()"
   ]
  },
  {
   "cell_type": "code",
   "execution_count": 11,
   "id": "06817284",
   "metadata": {},
   "outputs": [
    {
     "data": {
      "text/plain": [
       "<Axes: xlabel='Date'>"
      ]
     },
     "execution_count": 11,
     "metadata": {},
     "output_type": "execute_result"
    },
    {
     "data": {
      "image/png": "[encoded data removed]",
      "text/plain": [
       "<Figure size 640x480 with 1 Axes>"
      ]
     },
     "metadata": {},
     "output_type": "display_data"
    }
   ],
   "source": [
    "ret_df.cumsum().plot()"
   ]
  },
  {
   "cell_type": "code",
   "execution_count": 12,
   "id": "15f1d985",
   "metadata": {},
   "outputs": [],
   "source": [
    "W = np.ones(len(ret_df.columns))/ np.ones(len(ret_df.columns)).sum() ##equal weights vector*****"
   ]
  },
  {
   "cell_type": "code",
   "execution_count": 13,
   "id": "12cc8e15-c9a6-4720-b883-60eb32e86710",
   "metadata": {},
   "outputs": [
    {
     "data": {
      "text/plain": [
       "0.0005826258330411211"
      ]
     },
     "execution_count": 13,
     "metadata": {},
     "output_type": "execute_result"
    }
   ],
   "source": [
    "ret_df.mean().dot(W)   #### Expected return"
   ]
  },
  {
   "cell_type": "code",
   "execution_count": 14,
   "id": "70011d2c-883f-499b-bdce-25a82c03755c",
   "metadata": {},
   "outputs": [
    {
     "data": {
      "text/plain": [
       "0.00015824155976386513"
      ]
     },
     "execution_count": 14,
     "metadata": {},
     "output_type": "execute_result"
    }
   ],
   "source": [
    "W.dot(ret_df.cov().dot(W))  #portfolio variance OR W.T.dot(ret_df.cov().dot(W)) (Transpose)*****"
   ]
  },
  {
   "cell_type": "code",
   "execution_count": 15,
   "id": "6013ec4b-cb4b-4201-ad9e-b6a0e714bab6",
   "metadata": {},
   "outputs": [
    {
     "data": {
      "text/plain": [
       "0.012579410151667093"
      ]
     },
     "execution_count": 15,
     "metadata": {},
     "output_type": "execute_result"
    }
   ],
   "source": [
    "W.dot(ret_df.cov().dot(W)) ** (1/2) #Risk / standard deviation"
   ]
  },
  {
   "cell_type": "code",
   "execution_count": 16,
   "id": "b1dd2c88-93c8-4a26-bff3-a790c8a233a6",
   "metadata": {},
   "outputs": [],
   "source": [
    "########### Optimisation of portfolio weights********"
   ]
  },
  {
   "cell_type": "code",
   "execution_count": 62,
   "id": "4ecaea8e",
   "metadata": {},
   "outputs": [],
   "source": [
    "def sharpe_pf(W, returns):\n",
    "    pf_risk = (W.dot(returns.cov()).dot(W)) ** 0.5\n",
    "    SR = W.T.dot(returns.mean()) / pf_risk\n",
    "    return -SR #### minus SR ; minimize *****"
   ]
  },
  {
   "cell_type": "code",
   "execution_count": 18,
   "id": "cecf2d8b",
   "metadata": {},
   "outputs": [
    {
     "data": {
      "text/plain": [
       "-0.04631583087096563"
      ]
     },
     "execution_count": 18,
     "metadata": {},
     "output_type": "execute_result"
    }
   ],
   "source": [
    "sharpe_pf(W,ret_df)"
   ]
  },
  {
   "cell_type": "code",
   "execution_count": 19,
   "id": "82b8cf56",
   "metadata": {},
   "outputs": [],
   "source": [
    "cons = ({\"type\":\"eq\", \"fun\": lambda x: np.sum(x)-1})  ####constraint ; type -> equality (=0) or inequality ; lambda-> anonymous; on the fly"
   ]
  },
  {
   "cell_type": "code",
   "execution_count": 20,
   "id": "6f36b19a",
   "metadata": {},
   "outputs": [],
   "source": [
    "res = minimize(sharpe_pf,W,ret_df,bounds=Bounds(0,1),constraints = cons) # W-> initial guess"
   ]
  },
  {
   "cell_type": "code",
   "execution_count": 21,
   "id": "18450646",
   "metadata": {},
   "outputs": [
    {
     "data": {
      "text/plain": [
       " message: Optimization terminated successfully\n",
       " success: True\n",
       "  status: 0\n",
       "     fun: -0.05045330253907179\n",
       "       x: [ 3.912e-01  1.063e-17  1.320e-01  4.768e-01]\n",
       "     nit: 13\n",
       "     jac: [-8.573e-05  5.330e-03  2.758e-05  6.271e-05]\n",
       "    nfev: 66\n",
       "    njev: 13"
      ]
     },
     "execution_count": 21,
     "metadata": {},
     "output_type": "execute_result"
    }
   ],
   "source": [
    "res ### x-> optimized weights"
   ]
  },
  {
   "cell_type": "code",
   "execution_count": 22,
   "id": "6cb86245",
   "metadata": {},
   "outputs": [],
   "source": [
    "opt_W = res['x']"
   ]
  },
  {
   "cell_type": "code",
   "execution_count": 23,
   "id": "3382eab8",
   "metadata": {
    "scrolled": true
   },
   "outputs": [
    {
     "data": {
      "text/plain": [
       "<Axes: xlabel='Date'>"
      ]
     },
     "execution_count": 23,
     "metadata": {},
     "output_type": "execute_result"
    },
    {
     "data": {
      "image/png": "[encoded data removed]",
      "text/plain": [
       "<Figure size 640x480 with 1 Axes>"
      ]
     },
     "metadata": {},
     "output_type": "display_data"
    }
   ],
   "source": [
    "ret_df.dot(opt_W).cumsum().plot()"
   ]
  },
  {
   "cell_type": "code",
   "execution_count": 24,
   "id": "a4bb19ba",
   "metadata": {},
   "outputs": [
    {
     "data": {
      "text/plain": [
       "Date\n",
       "2010-01-04         NaN\n",
       "2010-01-05         NaN\n",
       "2010-01-06         NaN\n",
       "2010-01-07         NaN\n",
       "2010-01-08         NaN\n",
       "                ...   \n",
       "2024-08-26    1.752765\n",
       "2024-08-27    1.750762\n",
       "2024-08-28    1.743364\n",
       "2024-08-29    1.747530\n",
       "2024-08-30         NaN\n",
       "Length: 3691, dtype: float64"
      ]
     },
     "execution_count": 24,
     "metadata": {},
     "output_type": "execute_result"
    }
   ],
   "source": [
    "ret_df.dot(opt_W).cumsum()"
   ]
  },
  {
   "cell_type": "code",
   "execution_count": 25,
   "id": "b69ac49b",
   "metadata": {
    "scrolled": true
   },
   "outputs": [
    {
     "data": {
      "text/plain": [
       "Date\n",
       "2010-01-04         NaN\n",
       "2010-01-05         NaN\n",
       "2010-01-06         NaN\n",
       "2010-01-07         NaN\n",
       "2010-01-08         NaN\n",
       "                ...   \n",
       "2024-08-26    2.130968\n",
       "2024-08-27    2.125608\n",
       "2024-08-28    2.118845\n",
       "2024-08-29    2.124392\n",
       "2024-08-30         NaN\n",
       "Length: 3691, dtype: float64"
      ]
     },
     "execution_count": 25,
     "metadata": {},
     "output_type": "execute_result"
    }
   ],
   "source": [
    "ret_df.dot(W).cumsum()"
   ]
  },
  {
   "cell_type": "code",
   "execution_count": 54,
   "id": "431f8fbd",
   "metadata": {
    "scrolled": true
   },
   "outputs": [
    {
     "data": {
      "text/plain": [
       "-0.05045330253907179"
      ]
     },
     "execution_count": 54,
     "metadata": {},
     "output_type": "execute_result"
    }
   ],
   "source": [
    "sharpe_pf(opt_W,ret_df)"
   ]
  },
  {
   "cell_type": "code",
   "execution_count": 56,
   "id": "68fd2e62",
   "metadata": {},
   "outputs": [
    {
     "data": {
      "text/plain": [
       "-0.04631583087096563"
      ]
     },
     "execution_count": 56,
     "metadata": {},
     "output_type": "execute_result"
    }
   ],
   "source": [
    "sharpe_pf(W,ret_df)"
   ]
  },
  {
   "cell_type": "code",
   "execution_count": 58,
   "id": "287cd5d1-374f-4123-b8ac-72445f2afbc2",
   "metadata": {},
   "outputs": [
    {
     "data": {
      "text/plain": [
       "array([1.  , 0.99, 0.98, 0.97, 0.96, 0.95, 0.94, 0.93, 0.92, 0.91, 0.9 ,\n",
       "       0.89, 0.88, 0.87, 0.86, 0.85, 0.84, 0.83, 0.82, 0.81, 0.8 , 0.79,\n",
       "       0.78, 0.77, 0.76, 0.75, 0.74, 0.73, 0.72, 0.71, 0.7 , 0.69, 0.68,\n",
       "       0.67, 0.66, 0.65, 0.64, 0.63, 0.62, 0.61, 0.6 , 0.59, 0.58, 0.57,\n",
       "       0.56, 0.55, 0.54, 0.53, 0.52, 0.51, 0.5 , 0.49, 0.48, 0.47, 0.46,\n",
       "       0.45, 0.44, 0.43, 0.42, 0.41, 0.4 , 0.39, 0.38, 0.37, 0.36, 0.35,\n",
       "       0.34, 0.33, 0.32, 0.31, 0.3 , 0.29, 0.28, 0.27, 0.26, 0.25, 0.24,\n",
       "       0.23, 0.22, 0.21, 0.2 , 0.19, 0.18, 0.17, 0.16, 0.15, 0.14, 0.13,\n",
       "       0.12, 0.11, 0.1 , 0.09, 0.08, 0.07, 0.06, 0.05, 0.04, 0.03, 0.02,\n",
       "       0.01])"
      ]
     },
     "execution_count": 58,
     "metadata": {},
     "output_type": "execute_result"
    }
   ],
   "source": [
    "1-np.arange(0,1,0.01) #counter-weights"
   ]
  },
  {
   "cell_type": "code",
   "execution_count": 60,
   "id": "18b65e35-e479-436c-a5aa-9c2886c29d4f",
   "metadata": {},
   "outputs": [
    {
     "name": "stdout",
     "output_type": "stream",
     "text": [
      "[0. 1.]\n"
     ]
    },
    {
     "ename": "ValueError",
     "evalue": "shapes (2,) and (4,4) not aligned: 2 (dim 0) != 4 (dim 0)",
     "output_type": "error",
     "traceback": [
      "\u001b[0;31m---------------------------------------------------------------------------\u001b[0m",
      "\u001b[0;31mValueError\u001b[0m                                Traceback (most recent call last)",
      "Cell \u001b[0;32mIn[60], line 7\u001b[0m\n\u001b[1;32m      5\u001b[0m weights \u001b[38;5;241m=\u001b[39m np\u001b[38;5;241m.\u001b[39marray(weights)\n\u001b[1;32m      6\u001b[0m \u001b[38;5;28mprint\u001b[39m(weights)\n\u001b[0;32m----> 7\u001b[0m sharpes\u001b[38;5;241m.\u001b[39mappend(\u001b[43msharpe_pf\u001b[49m\u001b[43m(\u001b[49m\u001b[43mweights\u001b[49m\u001b[43m,\u001b[49m\u001b[43mret_df\u001b[49m\u001b[43m)\u001b[49m)\n",
      "Cell \u001b[0;32mIn[17], line 2\u001b[0m, in \u001b[0;36msharpe_pf\u001b[0;34m(W, returns)\u001b[0m\n\u001b[1;32m      1\u001b[0m \u001b[38;5;28;01mdef\u001b[39;00m \u001b[38;5;21msharpe_pf\u001b[39m(W, returns):\n\u001b[0;32m----> 2\u001b[0m     pf_risk \u001b[38;5;241m=\u001b[39m (\u001b[43mW\u001b[49m\u001b[38;5;241;43m.\u001b[39;49m\u001b[43mdot\u001b[49m\u001b[43m(\u001b[49m\u001b[43mreturns\u001b[49m\u001b[38;5;241;43m.\u001b[39;49m\u001b[43mcov\u001b[49m\u001b[43m(\u001b[49m\u001b[43m)\u001b[49m\u001b[43m)\u001b[49m\u001b[38;5;241m.\u001b[39mdot(W)) \u001b[38;5;241m*\u001b[39m\u001b[38;5;241m*\u001b[39m \u001b[38;5;241m0.5\u001b[39m\n\u001b[1;32m      3\u001b[0m     SR \u001b[38;5;241m=\u001b[39m W\u001b[38;5;241m.\u001b[39mT\u001b[38;5;241m.\u001b[39mdot(returns\u001b[38;5;241m.\u001b[39mmean()) \u001b[38;5;241m/\u001b[39m pf_risk\n\u001b[1;32m      4\u001b[0m     \u001b[38;5;28;01mreturn\u001b[39;00m \u001b[38;5;241m-\u001b[39mSR\n",
      "\u001b[0;31mValueError\u001b[0m: shapes (2,) and (4,4) not aligned: 2 (dim 0) != 4 (dim 0)"
     ]
    }
   ],
   "source": [
    "sharpes=[]\n",
    "\n",
    "for w in np.arange(0,1,0.01):\n",
    "    weights = w,1-w #### ?????? 4 assets now!\n",
    "    weights = np.array(weights)\n",
    "    print(weights)\n",
    "    sharpes.append(sharpe_pf(weights,ret_df))"
   ]
  },
  {
   "cell_type": "code",
   "execution_count": 64,
   "id": "7b4bd02c-af6a-423d-90f4-754369ea1715",
   "metadata": {},
   "outputs": [
    {
     "data": {
      "text/plain": [
       "Series([], dtype: object)"
      ]
     },
     "execution_count": 64,
     "metadata": {},
     "output_type": "execute_result"
    }
   ],
   "source": [
    "pd.Series(sharpes)"
   ]
  },
  {
   "cell_type": "code",
   "execution_count": 66,
   "id": "27e758f2-bdb4-4a16-aef0-87847737882a",
   "metadata": {},
   "outputs": [
    {
     "ename": "TypeError",
     "evalue": "no numeric data to plot",
     "output_type": "error",
     "traceback": [
      "\u001b[0;31m---------------------------------------------------------------------------\u001b[0m",
      "\u001b[0;31mTypeError\u001b[0m                                 Traceback (most recent call last)",
      "Cell \u001b[0;32mIn[66], line 1\u001b[0m\n\u001b[0;32m----> 1\u001b[0m \u001b[43mpd\u001b[49m\u001b[38;5;241;43m.\u001b[39;49m\u001b[43mSeries\u001b[49m\u001b[43m(\u001b[49m\u001b[43msharpes\u001b[49m\u001b[43m)\u001b[49m\u001b[38;5;241;43m.\u001b[39;49m\u001b[43mplot\u001b[49m\u001b[43m(\u001b[49m\u001b[43m)\u001b[49m\n",
      "File \u001b[0;32m/opt/anaconda3/lib/python3.10/site-packages/pandas/plotting/_core.py:1030\u001b[0m, in \u001b[0;36mPlotAccessor.__call__\u001b[0;34m(self, *args, **kwargs)\u001b[0m\n\u001b[1;32m   1027\u001b[0m             label_name \u001b[38;5;241m=\u001b[39m label_kw \u001b[38;5;129;01mor\u001b[39;00m data\u001b[38;5;241m.\u001b[39mcolumns\n\u001b[1;32m   1028\u001b[0m             data\u001b[38;5;241m.\u001b[39mcolumns \u001b[38;5;241m=\u001b[39m label_name\n\u001b[0;32m-> 1030\u001b[0m \u001b[38;5;28;01mreturn\u001b[39;00m \u001b[43mplot_backend\u001b[49m\u001b[38;5;241;43m.\u001b[39;49m\u001b[43mplot\u001b[49m\u001b[43m(\u001b[49m\u001b[43mdata\u001b[49m\u001b[43m,\u001b[49m\u001b[43m \u001b[49m\u001b[43mkind\u001b[49m\u001b[38;5;241;43m=\u001b[39;49m\u001b[43mkind\u001b[49m\u001b[43m,\u001b[49m\u001b[43m \u001b[49m\u001b[38;5;241;43m*\u001b[39;49m\u001b[38;5;241;43m*\u001b[39;49m\u001b[43mkwargs\u001b[49m\u001b[43m)\u001b[49m\n",
      "File \u001b[0;32m/opt/anaconda3/lib/python3.10/site-packages/pandas/plotting/_matplotlib/__init__.py:71\u001b[0m, in \u001b[0;36mplot\u001b[0;34m(data, kind, **kwargs)\u001b[0m\n\u001b[1;32m     69\u001b[0m         kwargs[\u001b[38;5;124m\"\u001b[39m\u001b[38;5;124max\u001b[39m\u001b[38;5;124m\"\u001b[39m] \u001b[38;5;241m=\u001b[39m \u001b[38;5;28mgetattr\u001b[39m(ax, \u001b[38;5;124m\"\u001b[39m\u001b[38;5;124mleft_ax\u001b[39m\u001b[38;5;124m\"\u001b[39m, ax)\n\u001b[1;32m     70\u001b[0m plot_obj \u001b[38;5;241m=\u001b[39m PLOT_CLASSES[kind](data, \u001b[38;5;241m*\u001b[39m\u001b[38;5;241m*\u001b[39mkwargs)\n\u001b[0;32m---> 71\u001b[0m \u001b[43mplot_obj\u001b[49m\u001b[38;5;241;43m.\u001b[39;49m\u001b[43mgenerate\u001b[49m\u001b[43m(\u001b[49m\u001b[43m)\u001b[49m\n\u001b[1;32m     72\u001b[0m plot_obj\u001b[38;5;241m.\u001b[39mdraw()\n\u001b[1;32m     73\u001b[0m \u001b[38;5;28;01mreturn\u001b[39;00m plot_obj\u001b[38;5;241m.\u001b[39mresult\n",
      "File \u001b[0;32m/opt/anaconda3/lib/python3.10/site-packages/pandas/plotting/_matplotlib/core.py:499\u001b[0m, in \u001b[0;36mMPLPlot.generate\u001b[0;34m(self)\u001b[0m\n\u001b[1;32m    497\u001b[0m \u001b[38;5;129m@final\u001b[39m\n\u001b[1;32m    498\u001b[0m \u001b[38;5;28;01mdef\u001b[39;00m \u001b[38;5;21mgenerate\u001b[39m(\u001b[38;5;28mself\u001b[39m) \u001b[38;5;241m-\u001b[39m\u001b[38;5;241m>\u001b[39m \u001b[38;5;28;01mNone\u001b[39;00m:\n\u001b[0;32m--> 499\u001b[0m     \u001b[38;5;28;43mself\u001b[39;49m\u001b[38;5;241;43m.\u001b[39;49m\u001b[43m_compute_plot_data\u001b[49m\u001b[43m(\u001b[49m\u001b[43m)\u001b[49m\n\u001b[1;32m    500\u001b[0m     fig \u001b[38;5;241m=\u001b[39m \u001b[38;5;28mself\u001b[39m\u001b[38;5;241m.\u001b[39mfig\n\u001b[1;32m    501\u001b[0m     \u001b[38;5;28mself\u001b[39m\u001b[38;5;241m.\u001b[39m_make_plot(fig)\n",
      "File \u001b[0;32m/opt/anaconda3/lib/python3.10/site-packages/pandas/plotting/_matplotlib/core.py:698\u001b[0m, in \u001b[0;36mMPLPlot._compute_plot_data\u001b[0;34m(self)\u001b[0m\n\u001b[1;32m    696\u001b[0m \u001b[38;5;66;03m# no non-numeric frames or series allowed\u001b[39;00m\n\u001b[1;32m    697\u001b[0m \u001b[38;5;28;01mif\u001b[39;00m is_empty:\n\u001b[0;32m--> 698\u001b[0m     \u001b[38;5;28;01mraise\u001b[39;00m \u001b[38;5;167;01mTypeError\u001b[39;00m(\u001b[38;5;124m\"\u001b[39m\u001b[38;5;124mno numeric data to plot\u001b[39m\u001b[38;5;124m\"\u001b[39m)\n\u001b[1;32m    700\u001b[0m \u001b[38;5;28mself\u001b[39m\u001b[38;5;241m.\u001b[39mdata \u001b[38;5;241m=\u001b[39m numeric_data\u001b[38;5;241m.\u001b[39mapply(\u001b[38;5;28mtype\u001b[39m(\u001b[38;5;28mself\u001b[39m)\u001b[38;5;241m.\u001b[39m_convert_to_ndarray)\n",
      "\u001b[0;31mTypeError\u001b[0m: no numeric data to plot"
     ]
    }
   ],
   "source": [
    "pd.Series(sharpes).plot()"
   ]
  },
  {
   "cell_type": "code",
   "execution_count": 68,
   "id": "02ae5598-4390-436a-a4fd-0f303b0f5f95",
   "metadata": {},
   "outputs": [
    {
     "ename": "TypeError",
     "evalue": "Cannot use method 'nsmallest' with dtype object",
     "output_type": "error",
     "traceback": [
      "\u001b[0;31m---------------------------------------------------------------------------\u001b[0m",
      "\u001b[0;31mTypeError\u001b[0m                                 Traceback (most recent call last)",
      "Cell \u001b[0;32mIn[68], line 1\u001b[0m\n\u001b[0;32m----> 1\u001b[0m \u001b[43mpd\u001b[49m\u001b[38;5;241;43m.\u001b[39;49m\u001b[43mSeries\u001b[49m\u001b[43m(\u001b[49m\u001b[43msharpes\u001b[49m\u001b[43m)\u001b[49m\u001b[38;5;241;43m.\u001b[39;49m\u001b[43mnsmallest\u001b[49m\u001b[43m(\u001b[49m\u001b[38;5;241;43m1\u001b[39;49m\u001b[43m)\u001b[49m\n",
      "File \u001b[0;32m/opt/anaconda3/lib/python3.10/site-packages/pandas/core/series.py:4351\u001b[0m, in \u001b[0;36mSeries.nsmallest\u001b[0;34m(self, n, keep)\u001b[0m\n\u001b[1;32m   4254\u001b[0m \u001b[38;5;28;01mdef\u001b[39;00m \u001b[38;5;21mnsmallest\u001b[39m(\n\u001b[1;32m   4255\u001b[0m     \u001b[38;5;28mself\u001b[39m, n: \u001b[38;5;28mint\u001b[39m \u001b[38;5;241m=\u001b[39m \u001b[38;5;241m5\u001b[39m, keep: Literal[\u001b[38;5;124m\"\u001b[39m\u001b[38;5;124mfirst\u001b[39m\u001b[38;5;124m\"\u001b[39m, \u001b[38;5;124m\"\u001b[39m\u001b[38;5;124mlast\u001b[39m\u001b[38;5;124m\"\u001b[39m, \u001b[38;5;124m\"\u001b[39m\u001b[38;5;124mall\u001b[39m\u001b[38;5;124m\"\u001b[39m] \u001b[38;5;241m=\u001b[39m \u001b[38;5;124m\"\u001b[39m\u001b[38;5;124mfirst\u001b[39m\u001b[38;5;124m\"\u001b[39m\n\u001b[1;32m   4256\u001b[0m ) \u001b[38;5;241m-\u001b[39m\u001b[38;5;241m>\u001b[39m Series:\n\u001b[1;32m   4257\u001b[0m \u001b[38;5;250m    \u001b[39m\u001b[38;5;124;03m\"\"\"\u001b[39;00m\n\u001b[1;32m   4258\u001b[0m \u001b[38;5;124;03m    Return the smallest `n` elements.\u001b[39;00m\n\u001b[1;32m   4259\u001b[0m \n\u001b[0;32m   (...)\u001b[0m\n\u001b[1;32m   4349\u001b[0m \u001b[38;5;124;03m    dtype: int64\u001b[39;00m\n\u001b[1;32m   4350\u001b[0m \u001b[38;5;124;03m    \"\"\"\u001b[39;00m\n\u001b[0;32m-> 4351\u001b[0m     \u001b[38;5;28;01mreturn\u001b[39;00m \u001b[43mselectn\u001b[49m\u001b[38;5;241;43m.\u001b[39;49m\u001b[43mSelectNSeries\u001b[49m\u001b[43m(\u001b[49m\u001b[38;5;28;43mself\u001b[39;49m\u001b[43m,\u001b[49m\u001b[43m \u001b[49m\u001b[43mn\u001b[49m\u001b[38;5;241;43m=\u001b[39;49m\u001b[43mn\u001b[49m\u001b[43m,\u001b[49m\u001b[43m \u001b[49m\u001b[43mkeep\u001b[49m\u001b[38;5;241;43m=\u001b[39;49m\u001b[43mkeep\u001b[49m\u001b[43m)\u001b[49m\u001b[38;5;241;43m.\u001b[39;49m\u001b[43mnsmallest\u001b[49m\u001b[43m(\u001b[49m\u001b[43m)\u001b[49m\n",
      "File \u001b[0;32m/opt/anaconda3/lib/python3.10/site-packages/pandas/core/methods/selectn.py:61\u001b[0m, in \u001b[0;36mSelectN.nsmallest\u001b[0;34m(self)\u001b[0m\n\u001b[1;32m     59\u001b[0m \u001b[38;5;129m@final\u001b[39m\n\u001b[1;32m     60\u001b[0m \u001b[38;5;28;01mdef\u001b[39;00m \u001b[38;5;21mnsmallest\u001b[39m(\u001b[38;5;28mself\u001b[39m):\n\u001b[0;32m---> 61\u001b[0m     \u001b[38;5;28;01mreturn\u001b[39;00m \u001b[38;5;28;43mself\u001b[39;49m\u001b[38;5;241;43m.\u001b[39;49m\u001b[43mcompute\u001b[49m\u001b[43m(\u001b[49m\u001b[38;5;124;43m\"\u001b[39;49m\u001b[38;5;124;43mnsmallest\u001b[39;49m\u001b[38;5;124;43m\"\u001b[39;49m\u001b[43m)\u001b[49m\n",
      "File \u001b[0;32m/opt/anaconda3/lib/python3.10/site-packages/pandas/core/methods/selectn.py:96\u001b[0m, in \u001b[0;36mSelectNSeries.compute\u001b[0;34m(self, method)\u001b[0m\n\u001b[1;32m     94\u001b[0m dtype \u001b[38;5;241m=\u001b[39m \u001b[38;5;28mself\u001b[39m\u001b[38;5;241m.\u001b[39mobj\u001b[38;5;241m.\u001b[39mdtype\n\u001b[1;32m     95\u001b[0m \u001b[38;5;28;01mif\u001b[39;00m \u001b[38;5;129;01mnot\u001b[39;00m \u001b[38;5;28mself\u001b[39m\u001b[38;5;241m.\u001b[39mis_valid_dtype_n_method(dtype):\n\u001b[0;32m---> 96\u001b[0m     \u001b[38;5;28;01mraise\u001b[39;00m \u001b[38;5;167;01mTypeError\u001b[39;00m(\u001b[38;5;124mf\u001b[39m\u001b[38;5;124m\"\u001b[39m\u001b[38;5;124mCannot use method \u001b[39m\u001b[38;5;124m'\u001b[39m\u001b[38;5;132;01m{\u001b[39;00mmethod\u001b[38;5;132;01m}\u001b[39;00m\u001b[38;5;124m'\u001b[39m\u001b[38;5;124m with dtype \u001b[39m\u001b[38;5;132;01m{\u001b[39;00mdtype\u001b[38;5;132;01m}\u001b[39;00m\u001b[38;5;124m\"\u001b[39m)\n\u001b[1;32m     98\u001b[0m \u001b[38;5;28;01mif\u001b[39;00m n \u001b[38;5;241m<\u001b[39m\u001b[38;5;241m=\u001b[39m \u001b[38;5;241m0\u001b[39m:\n\u001b[1;32m     99\u001b[0m     \u001b[38;5;28;01mreturn\u001b[39;00m \u001b[38;5;28mself\u001b[39m\u001b[38;5;241m.\u001b[39mobj[[]]\n",
      "\u001b[0;31mTypeError\u001b[0m: Cannot use method 'nsmallest' with dtype object"
     ]
    }
   ],
   "source": [
    "pd.Series(sharpes).nsmallest(1)"
   ]
  },
  {
   "cell_type": "code",
   "execution_count": 72,
   "id": "5a81d2b7-5cec-4016-a157-3d7dc50d9083",
   "metadata": {},
   "outputs": [
    {
     "data": {
      "text/plain": [
       "0.38"
      ]
     },
     "execution_count": 72,
     "metadata": {},
     "output_type": "execute_result"
    }
   ],
   "source": [
    "np.arange(0,1,0.01)[38] #imp....****"
   ]
  },
  {
   "cell_type": "code",
   "execution_count": 74,
   "id": "52ba68b5-8ee9-4d6d-a4af-7326d38053c9",
   "metadata": {},
   "outputs": [],
   "source": [
    "#####splitting the dataset"
   ]
  },
  {
   "cell_type": "code",
   "execution_count": 76,
   "id": "2c52accd",
   "metadata": {},
   "outputs": [],
   "source": [
    "train = ret_df[:int(len(ret_df) * 0.7)]"
   ]
  },
  {
   "cell_type": "code",
   "execution_count": 100,
   "id": "0c7ecaa8-c7b9-4834-a336-4bb1664f1ec8",
   "metadata": {},
   "outputs": [
    {
     "data": {
      "text/html": [
       "<div>\n",
       "<style scoped>\n",
       "    .dataframe tbody tr th:only-of-type {\n",
       "        vertical-align: middle;\n",
       "    }\n",
       "\n",
       "    .dataframe tbody tr th {\n",
       "        vertical-align: top;\n",
       "    }\n",
       "\n",
       "    .dataframe thead th {\n",
       "        text-align: right;\n",
       "    }\n",
       "</style>\n",
       "<table border=\"1\" class=\"dataframe\">\n",
       "  <thead>\n",
       "    <tr style=\"text-align: right;\">\n",
       "      <th>Ticker</th>\n",
       "      <th>GC=F</th>\n",
       "      <th>MMM</th>\n",
       "      <th>TSLA</th>\n",
       "      <th>^GSPC</th>\n",
       "    </tr>\n",
       "    <tr>\n",
       "      <th>Date</th>\n",
       "      <th></th>\n",
       "      <th></th>\n",
       "      <th></th>\n",
       "      <th></th>\n",
       "    </tr>\n",
       "  </thead>\n",
       "  <tbody>\n",
       "    <tr>\n",
       "      <th>2010-01-04</th>\n",
       "      <td>NaN</td>\n",
       "      <td>NaN</td>\n",
       "      <td>NaN</td>\n",
       "      <td>NaN</td>\n",
       "    </tr>\n",
       "    <tr>\n",
       "      <th>2010-01-05</th>\n",
       "      <td>0.000358</td>\n",
       "      <td>-0.006284</td>\n",
       "      <td>NaN</td>\n",
       "      <td>0.003111</td>\n",
       "    </tr>\n",
       "    <tr>\n",
       "      <th>2010-01-06</th>\n",
       "      <td>0.015795</td>\n",
       "      <td>0.014082</td>\n",
       "      <td>NaN</td>\n",
       "      <td>0.000545</td>\n",
       "    </tr>\n",
       "    <tr>\n",
       "      <th>2010-01-07</th>\n",
       "      <td>-0.002468</td>\n",
       "      <td>0.000717</td>\n",
       "      <td>NaN</td>\n",
       "      <td>0.003993</td>\n",
       "    </tr>\n",
       "    <tr>\n",
       "      <th>2010-01-08</th>\n",
       "      <td>0.004491</td>\n",
       "      <td>0.007022</td>\n",
       "      <td>NaN</td>\n",
       "      <td>0.002878</td>\n",
       "    </tr>\n",
       "    <tr>\n",
       "      <th>...</th>\n",
       "      <td>...</td>\n",
       "      <td>...</td>\n",
       "      <td>...</td>\n",
       "      <td>...</td>\n",
       "    </tr>\n",
       "    <tr>\n",
       "      <th>2020-04-01</th>\n",
       "      <td>-0.003290</td>\n",
       "      <td>-0.024997</td>\n",
       "      <td>-0.084461</td>\n",
       "      <td>-0.045146</td>\n",
       "    </tr>\n",
       "    <tr>\n",
       "      <th>2020-04-02</th>\n",
       "      <td>0.029654</td>\n",
       "      <td>0.035200</td>\n",
       "      <td>-0.057899</td>\n",
       "      <td>0.022573</td>\n",
       "    </tr>\n",
       "    <tr>\n",
       "      <th>2020-04-03</th>\n",
       "      <td>0.004909</td>\n",
       "      <td>-0.030330</td>\n",
       "      <td>0.054675</td>\n",
       "      <td>-0.015253</td>\n",
       "    </tr>\n",
       "    <tr>\n",
       "      <th>2020-04-06</th>\n",
       "      <td>0.026159</td>\n",
       "      <td>0.050358</td>\n",
       "      <td>0.072765</td>\n",
       "      <td>0.067968</td>\n",
       "    </tr>\n",
       "    <tr>\n",
       "      <th>2020-04-07</th>\n",
       "      <td>-0.007301</td>\n",
       "      <td>0.027341</td>\n",
       "      <td>0.055039</td>\n",
       "      <td>-0.001604</td>\n",
       "    </tr>\n",
       "  </tbody>\n",
       "</table>\n",
       "<p>2583 rows × 4 columns</p>\n",
       "</div>"
      ],
      "text/plain": [
       "Ticker          GC=F       MMM      TSLA     ^GSPC\n",
       "Date                                              \n",
       "2010-01-04       NaN       NaN       NaN       NaN\n",
       "2010-01-05  0.000358 -0.006284       NaN  0.003111\n",
       "2010-01-06  0.015795  0.014082       NaN  0.000545\n",
       "2010-01-07 -0.002468  0.000717       NaN  0.003993\n",
       "2010-01-08  0.004491  0.007022       NaN  0.002878\n",
       "...              ...       ...       ...       ...\n",
       "2020-04-01 -0.003290 -0.024997 -0.084461 -0.045146\n",
       "2020-04-02  0.029654  0.035200 -0.057899  0.022573\n",
       "2020-04-03  0.004909 -0.030330  0.054675 -0.015253\n",
       "2020-04-06  0.026159  0.050358  0.072765  0.067968\n",
       "2020-04-07 -0.007301  0.027341  0.055039 -0.001604\n",
       "\n",
       "[2583 rows x 4 columns]"
      ]
     },
     "execution_count": 100,
     "metadata": {},
     "output_type": "execute_result"
    }
   ],
   "source": [
    "train"
   ]
  },
  {
   "cell_type": "code",
   "execution_count": 78,
   "id": "af9875a9",
   "metadata": {},
   "outputs": [],
   "source": [
    "test = ret_df[int(len(ret_df) * 0.7):]"
   ]
  },
  {
   "cell_type": "code",
   "execution_count": 102,
   "id": "45be24b7-c7d6-4a88-8638-db7352404037",
   "metadata": {},
   "outputs": [
    {
     "data": {
      "text/html": [
       "<div>\n",
       "<style scoped>\n",
       "    .dataframe tbody tr th:only-of-type {\n",
       "        vertical-align: middle;\n",
       "    }\n",
       "\n",
       "    .dataframe tbody tr th {\n",
       "        vertical-align: top;\n",
       "    }\n",
       "\n",
       "    .dataframe thead th {\n",
       "        text-align: right;\n",
       "    }\n",
       "</style>\n",
       "<table border=\"1\" class=\"dataframe\">\n",
       "  <thead>\n",
       "    <tr style=\"text-align: right;\">\n",
       "      <th>Ticker</th>\n",
       "      <th>GC=F</th>\n",
       "      <th>MMM</th>\n",
       "      <th>TSLA</th>\n",
       "      <th>^GSPC</th>\n",
       "    </tr>\n",
       "    <tr>\n",
       "      <th>Date</th>\n",
       "      <th></th>\n",
       "      <th></th>\n",
       "      <th></th>\n",
       "      <th></th>\n",
       "    </tr>\n",
       "  </thead>\n",
       "  <tbody>\n",
       "    <tr>\n",
       "      <th>2020-04-08</th>\n",
       "      <td>0.000360</td>\n",
       "      <td>0.029908</td>\n",
       "      <td>0.006196</td>\n",
       "      <td>0.033489</td>\n",
       "    </tr>\n",
       "    <tr>\n",
       "      <th>2020-04-09</th>\n",
       "      <td>0.041633</td>\n",
       "      <td>-0.008154</td>\n",
       "      <td>0.043079</td>\n",
       "      <td>0.014383</td>\n",
       "    </tr>\n",
       "    <tr>\n",
       "      <th>2020-04-13</th>\n",
       "      <td>0.004941</td>\n",
       "      <td>-0.009382</td>\n",
       "      <td>0.127547</td>\n",
       "      <td>-0.010156</td>\n",
       "    </tr>\n",
       "    <tr>\n",
       "      <th>2020-04-14</th>\n",
       "      <td>0.006797</td>\n",
       "      <td>0.025226</td>\n",
       "      <td>0.086677</td>\n",
       "      <td>0.030115</td>\n",
       "    </tr>\n",
       "    <tr>\n",
       "      <th>2020-04-15</th>\n",
       "      <td>-0.016935</td>\n",
       "      <td>-0.033732</td>\n",
       "      <td>0.027702</td>\n",
       "      <td>-0.022277</td>\n",
       "    </tr>\n",
       "    <tr>\n",
       "      <th>...</th>\n",
       "      <td>...</td>\n",
       "      <td>...</td>\n",
       "      <td>...</td>\n",
       "      <td>...</td>\n",
       "    </tr>\n",
       "    <tr>\n",
       "      <th>2024-08-26</th>\n",
       "      <td>0.003701</td>\n",
       "      <td>0.015285</td>\n",
       "      <td>-0.032803</td>\n",
       "      <td>-0.003159</td>\n",
       "    </tr>\n",
       "    <tr>\n",
       "      <th>2024-08-27</th>\n",
       "      <td>-0.000675</td>\n",
       "      <td>-0.003419</td>\n",
       "      <td>-0.018939</td>\n",
       "      <td>0.001594</td>\n",
       "    </tr>\n",
       "    <tr>\n",
       "      <th>2024-08-28</th>\n",
       "      <td>-0.005980</td>\n",
       "      <td>0.001597</td>\n",
       "      <td>-0.016677</td>\n",
       "      <td>-0.005994</td>\n",
       "    </tr>\n",
       "    <tr>\n",
       "      <th>2024-08-29</th>\n",
       "      <td>0.009828</td>\n",
       "      <td>0.009829</td>\n",
       "      <td>0.002573</td>\n",
       "      <td>-0.000039</td>\n",
       "    </tr>\n",
       "    <tr>\n",
       "      <th>2024-08-30</th>\n",
       "      <td>0.012473</td>\n",
       "      <td>NaN</td>\n",
       "      <td>NaN</td>\n",
       "      <td>NaN</td>\n",
       "    </tr>\n",
       "  </tbody>\n",
       "</table>\n",
       "<p>1108 rows × 4 columns</p>\n",
       "</div>"
      ],
      "text/plain": [
       "Ticker          GC=F       MMM      TSLA     ^GSPC\n",
       "Date                                              \n",
       "2020-04-08  0.000360  0.029908  0.006196  0.033489\n",
       "2020-04-09  0.041633 -0.008154  0.043079  0.014383\n",
       "2020-04-13  0.004941 -0.009382  0.127547 -0.010156\n",
       "2020-04-14  0.006797  0.025226  0.086677  0.030115\n",
       "2020-04-15 -0.016935 -0.033732  0.027702 -0.022277\n",
       "...              ...       ...       ...       ...\n",
       "2024-08-26  0.003701  0.015285 -0.032803 -0.003159\n",
       "2024-08-27 -0.000675 -0.003419 -0.018939  0.001594\n",
       "2024-08-28 -0.005980  0.001597 -0.016677 -0.005994\n",
       "2024-08-29  0.009828  0.009829  0.002573 -0.000039\n",
       "2024-08-30  0.012473       NaN       NaN       NaN\n",
       "\n",
       "[1108 rows x 4 columns]"
      ]
     },
     "execution_count": 102,
     "metadata": {},
     "output_type": "execute_result"
    }
   ],
   "source": [
    "test"
   ]
  },
  {
   "cell_type": "code",
   "execution_count": 84,
   "id": "cd8ecd47",
   "metadata": {},
   "outputs": [
    {
     "data": {
      "text/plain": [
       "0.009459568556214883"
      ]
     },
     "execution_count": 84,
     "metadata": {},
     "output_type": "execute_result"
    }
   ],
   "source": [
    "ret_df.dot(opt_W).std()"
   ]
  },
  {
   "cell_type": "code",
   "execution_count": 86,
   "id": "1e9cab6c",
   "metadata": {},
   "outputs": [],
   "source": [
    "res_train = minimize(sharpe_pf,W,train,bounds=Bounds(0,1),constraints = cons)"
   ]
  },
  {
   "cell_type": "code",
   "execution_count": 106,
   "id": "bb2ed848",
   "metadata": {
    "scrolled": true
   },
   "outputs": [
    {
     "data": {
      "text/plain": [
       "Date\n",
       "2020-04-08    0.015377\n",
       "2020-04-09    0.043433\n",
       "2020-04-13    0.068109\n",
       "2020-04-14    0.101366\n",
       "2020-04-15    0.090505\n",
       "                ...   \n",
       "2024-08-26    0.793270\n",
       "2024-08-27    0.789173\n",
       "2024-08-28    0.781671\n",
       "2024-08-29    0.786734\n",
       "2024-08-30         NaN\n",
       "Length: 1108, dtype: float64"
      ]
     },
     "execution_count": 106,
     "metadata": {},
     "output_type": "execute_result"
    }
   ],
   "source": [
    "test.dot(res_train['x']).cumsum()"
   ]
  },
  {
   "cell_type": "code",
   "execution_count": 104,
   "id": "7431a75a",
   "metadata": {},
   "outputs": [
    {
     "data": {
      "text/plain": [
       "Date\n",
       "2020-04-08    0.017488\n",
       "2020-04-09    0.040224\n",
       "2020-04-13    0.068461\n",
       "2020-04-14    0.105665\n",
       "2020-04-15    0.094354\n",
       "                ...   \n",
       "2024-08-26    0.796784\n",
       "2024-08-27    0.791425\n",
       "2024-08-28    0.784661\n",
       "2024-08-29    0.790209\n",
       "2024-08-30         NaN\n",
       "Length: 1108, dtype: float64"
      ]
     },
     "execution_count": 104,
     "metadata": {},
     "output_type": "execute_result"
    }
   ],
   "source": [
    "test.dot(W).cumsum()"
   ]
  },
  {
   "cell_type": "code",
   "execution_count": 108,
   "id": "d2e86a31",
   "metadata": {},
   "outputs": [
    {
     "data": {
      "text/plain": [
       "-0.05290974641690783"
      ]
     },
     "execution_count": 108,
     "metadata": {},
     "output_type": "execute_result"
    }
   ],
   "source": [
    "sharpe_pf(W,test)"
   ]
  },
  {
   "cell_type": "code",
   "execution_count": 110,
   "id": "a9d1205c",
   "metadata": {
    "scrolled": true
   },
   "outputs": [
    {
     "data": {
      "text/plain": [
       "-0.059506833850552686"
      ]
     },
     "execution_count": 110,
     "metadata": {},
     "output_type": "execute_result"
    }
   ],
   "source": [
    "sharpe_pf(res_train['x'],test)"
   ]
  },
  {
   "cell_type": "code",
   "execution_count": 153,
   "id": "5435a5b0-b36b-481c-b77a-25874c8e9123",
   "metadata": {},
   "outputs": [],
   "source": [
    "##### bounds to remove negative weights -> short selling ; in a multi-asset portfolio for instance"
   ]
  },
  {
   "cell_type": "code",
   "execution_count": 126,
   "id": "0b64f03e",
   "metadata": {},
   "outputs": [
    {
     "data": {
      "text/plain": [
       "array([0.36051182, 0.10024319, 0.21285537, 0.32638962])"
      ]
     },
     "execution_count": 126,
     "metadata": {},
     "output_type": "execute_result"
    }
   ],
   "source": [
    "res_train['x']#####imp."
   ]
  },
  {
   "cell_type": "code",
   "execution_count": 114,
   "id": "0fa5b841",
   "metadata": {},
   "outputs": [
    {
     "data": {
      "text/plain": [
       "Ticker\n",
       "GC=F     0.010228\n",
       "MMM      0.013367\n",
       "TSLA     0.034088\n",
       "^GSPC    0.010899\n",
       "dtype: float64"
      ]
     },
     "execution_count": 114,
     "metadata": {},
     "output_type": "execute_result"
    }
   ],
   "source": [
    "train.std()"
   ]
  },
  {
   "cell_type": "code",
   "execution_count": 116,
   "id": "fa219f4e",
   "metadata": {
    "scrolled": true
   },
   "outputs": [
    {
     "data": {
      "text/plain": [
       "Ticker\n",
       "GC=F     0.000172\n",
       "MMM      0.000319\n",
       "TSLA     0.001272\n",
       "^GSPC    0.000330\n",
       "dtype: float64"
      ]
     },
     "execution_count": 116,
     "metadata": {},
     "output_type": "execute_result"
    }
   ],
   "source": [
    "train.mean()"
   ]
  },
  {
   "cell_type": "code",
   "execution_count": 118,
   "id": "811f4b0f",
   "metadata": {
    "scrolled": true
   },
   "outputs": [
    {
     "data": {
      "text/plain": [
       "Ticker\n",
       "GC=F     0.009661\n",
       "MMM      0.017210\n",
       "TSLA     0.039246\n",
       "^GSPC    0.011058\n",
       "dtype: float64"
      ]
     },
     "execution_count": 118,
     "metadata": {},
     "output_type": "execute_result"
    }
   ],
   "source": [
    "test.std()"
   ]
  },
  {
   "cell_type": "code",
   "execution_count": 120,
   "id": "51f463f3",
   "metadata": {},
   "outputs": [
    {
     "data": {
      "text/plain": [
       "Ticker\n",
       "GC=F     0.000387\n",
       "MMM      0.000250\n",
       "TSLA     0.001566\n",
       "^GSPC    0.000672\n",
       "dtype: float64"
      ]
     },
     "execution_count": 120,
     "metadata": {},
     "output_type": "execute_result"
    }
   ],
   "source": [
    "test.mean()"
   ]
  },
  {
   "cell_type": "code",
   "execution_count": null,
   "id": "895f21dd",
   "metadata": {},
   "outputs": [],
   "source": []
  }
 ],
 "metadata": {
  "kernelspec": {
   "display_name": "Python 3 (ipykernel)",
   "language": "python",
   "name": "python3"
  },
  "language_info": {
   "codemirror_mode": {
    "name": "ipython",
    "version": 3
   },
   "file_extension": ".py",
   "mimetype": "text/x-python",
   "name": "python",
   "nbconvert_exporter": "python",
   "pygments_lexer": "ipython3",
   "version": "3.10.14"
  }
 },
 "nbformat": 4,
 "nbformat_minor": 5
}
